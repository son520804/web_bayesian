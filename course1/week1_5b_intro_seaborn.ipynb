{
  "cells": [
    {
      "cell_type": "markdown",
      "source": "# Introduction to Seaborn\n\nIn the previous lecture, we have learnt about Matplotlib, a Python visualization library, and some useful ways of making plots like `plt.hist()` and `plt.plot()`, and some attributes to improve the graph aesthetically, such as `plt.legend()`, `plt.axvline()`, and `plt.axhline()`. In this lecture we will introduce another visualization library called **Seaborn**. Seaborn is a Python module that's actually based on Matplotlib, but has many extra features with a particular focus on drawing attrative statistical graphics plottings, such as histogram, probability density plots, regression plots, cumulative distribution function plots, box plots, and so on. Seaborn makes creating plots very efficient. Therefore with Seaborn you can generate attractive plots with code that is 5 times less than with Matplotlib. Because the course focuses on developing Bayesian statistical techniques on analyzing and simulating real-life problems, Seaborn is a powerful tool given its wide coverage for statistical tasks and the sheer amount of built-in graphical functions.\n\n",
      "metadata": {
        "tags": [],
        "cell_id": "00000-95119a9d-897d-4881-9fb2-eabb30e1b6fa",
        "deepnote_cell_type": "markdown"
      }
    },
    {
      "cell_type": "markdown",
      "source": "# Breakdown of Seaborn Plots\n![](/assets/seaborn_plot.png)\n\nAs you can see, there are three fundamental types of statistical plots that Seaborn can make for users. First, the relational plot could be made through the syntax `sns.relplot()`, which takes two or more variables at the same time and visualizes the patterns that describe the relationship between those variables. Such relationships could be shown in the form of scatterplot using `sns.scatterplot()`, or lineplot using `sns.lineplot()`, depending on the question one is going to answer. Both are under the category of relational plot. \n\nSecond, the seaborn package can visualize discrete and continuous distributions using histogram using the syntax `sns.histplot()`, probability density plot using the syntax `sns.kdeplot()`, cumulative distribution function plot using the syntax `sns.ecdfplot()`, and rugplot using the syntax `sns.rugplot()`. \n\nThird, seaborn visualizes the distribution of categorical data (also called qualitative data) using several specialized approaches under the syntax `sns.catplot()` as the generic name for categorical plots. An example of visualizing categorical variable is about showing the distributions about students who rate 5 stars, 4 stars, 3 stars, 2 stars and 1 star for different Massive Open Online Courses. We can make categorical scatterplots such as stripplot using the syntax `sns.stripplot()` and swarmplot using the syntax `sns.swarmplot()`, distribution plots such as boxplot using the syntax `sns.boxplot()` and violinplot using the syntax `sns.violinplot()`, as well as point estimate plots and bar plots using `sns.pointplot()` and `sns.barplot()` functions respectively.",
      "metadata": {
        "tags": [],
        "cell_id": "00001-821a0545-8c76-4f4a-95f7-6e9fb6c1730f",
        "deepnote_cell_type": "markdown"
      }
    },
    {
      "cell_type": "markdown",
      "source": "Now, let's see some examples of how to use Seaborn to create statistical graphics.",
      "metadata": {
        "tags": [],
        "cell_id": "00001-6d350571-6328-49e2-b096-be6ab565b594",
        "deepnote_cell_type": "markdown"
      }
    },
    {
      "cell_type": "code",
      "metadata": {
        "tags": [],
        "cell_id": "00001-ae462146-413a-41de-ab59-20c9eedac54c",
        "deepnote_to_be_reexecuted": false,
        "source_hash": "b1fd35b1",
        "execution_millis": 1285,
        "execution_start": 1618685262194,
        "deepnote_cell_type": "code"
      },
      "source": "# Let's import some census data. This data is stored in the file census.csv which is collected by the United States Census Bureau \n# to record the population, migration, birth, death and many levels of demographic data for each U.S. county. \n# So it's a great example to show how to understand the population better by making various types of statistical visualizations. \n\n# Let's import seaborn, numpy and pandas and read in the dataset\nimport seaborn as sns\nimport numpy as np\nimport pandas as pd \ncensus = pd.read_csv('assets/census.csv')\n# Let's see the first 10 rows of the data\ncensus.head(10)",
      "outputs": [
        {
          "output_type": "execute_result",
          "execution_count": 1,
          "data": {
            "application/vnd.deepnote.dataframe.v2+json": {
              "row_count": 10,
              "column_count": 100,
              "columns": [
                {
                  "name": "SUMLEV",
                  "dtype": "int64",
                  "stats": {
                    "unique_count": 2,
                    "nan_count": 0,
                    "min": "40",
                    "max": "50",
                    "histogram": [
                      {
                        "bin_start": 40,
                        "bin_end": 41,
                        "count": 1
                      },
                      {
                        "bin_start": 41,
                        "bin_end": 42,
                        "count": 0
                      },
                      {
                        "bin_start": 42,
                        "bin_end": 43,
                        "count": 0
                      },
                      {
                        "bin_start": 43,
                        "bin_end": 44,
                        "count": 0
                      },
                      {
                        "bin_start": 44,
                        "bin_end": 45,
                        "count": 0
                      },
                      {
                        "bin_start": 45,
                        "bin_end": 46,
                        "count": 0
                      },
                      {
                        "bin_start": 46,
                        "bin_end": 47,
                        "count": 0
                      },
                      {
                        "bin_start": 47,
                        "bin_end": 48,
                        "count": 0
                      },
                      {
                        "bin_start": 48,
                        "bin_end": 49,
                        "count": 0
                      },
                      {
                        "bin_start": 49,
                        "bin_end": 50,
                        "count": 9
                      }
                    ]
                  }
                },
                {
                  "name": "REGION",
                  "dtype": "int64",
                  "stats": {
                    "unique_count": 1,
                    "nan_count": 0,
                    "min": "3",
                    "max": "3",
                    "histogram": [
                      {
                        "bin_start": 2.5,
                        "bin_end": 2.6,
                        "count": 0
                      },
                      {
                        "bin_start": 2.6,
                        "bin_end": 2.7,
                        "count": 0
                      },
                      {
                        "bin_start": 2.7,
                        "bin_end": 2.8,
                        "count": 0
                      },
                      {
                        "bin_start": 2.8,
                        "bin_end": 2.9,
                        "count": 0
                      },
                      {
                        "bin_start": 2.9,
                        "bin_end": 3,
                        "count": 0
                      },
                      {
                        "bin_start": 3,
                        "bin_end": 3.1,
                        "count": 10
                      },
                      {
                        "bin_start": 3.1,
                        "bin_end": 3.2,
                        "count": 0
                      },
                      {
                        "bin_start": 3.2,
                        "bin_end": 3.3,
                        "count": 0
                      },
                      {
                        "bin_start": 3.3,
                        "bin_end": 3.4,
                        "count": 0
                      },
                      {
                        "bin_start": 3.4,
                        "bin_end": 3.5,
                        "count": 0
                      }
                    ]
                  }
                },
                {
                  "name": "DIVISION",
                  "dtype": "int64",
                  "stats": {
                    "unique_count": 1,
                    "nan_count": 0,
                    "min": "6",
                    "max": "6",
                    "histogram": [
                      {
                        "bin_start": 5.5,
                        "bin_end": 5.6,
                        "count": 0
                      },
                      {
                        "bin_start": 5.6,
                        "bin_end": 5.7,
                        "count": 0
                      },
                      {
                        "bin_start": 5.7,
                        "bin_end": 5.8,
                        "count": 0
                      },
                      {
                        "bin_start": 5.8,
                        "bin_end": 5.9,
                        "count": 0
                      },
                      {
                        "bin_start": 5.9,
                        "bin_end": 6,
                        "count": 0
                      },
                      {
                        "bin_start": 6,
                        "bin_end": 6.1,
                        "count": 10
                      },
                      {
                        "bin_start": 6.1,
                        "bin_end": 6.2,
                        "count": 0
                      },
                      {
                        "bin_start": 6.2,
                        "bin_end": 6.3,
                        "count": 0
                      },
                      {
                        "bin_start": 6.3,
                        "bin_end": 6.4,
                        "count": 0
                      },
                      {
                        "bin_start": 6.4,
                        "bin_end": 6.5,
                        "count": 0
                      }
                    ]
                  }
                },
                {
                  "name": "STATE",
                  "dtype": "int64",
                  "stats": {
                    "unique_count": 1,
                    "nan_count": 0,
                    "min": "1",
                    "max": "1",
                    "histogram": [
                      {
                        "bin_start": 0.5,
                        "bin_end": 0.6,
                        "count": 0
                      },
                      {
                        "bin_start": 0.6,
                        "bin_end": 0.7,
                        "count": 0
                      },
                      {
                        "bin_start": 0.7,
                        "bin_end": 0.8,
                        "count": 0
                      },
                      {
                        "bin_start": 0.8,
                        "bin_end": 0.9,
                        "count": 0
                      },
                      {
                        "bin_start": 0.9,
                        "bin_end": 1,
                        "count": 0
                      },
                      {
                        "bin_start": 1,
                        "bin_end": 1.1,
                        "count": 10
                      },
                      {
                        "bin_start": 1.1,
                        "bin_end": 1.2000000000000002,
                        "count": 0
                      },
                      {
                        "bin_start": 1.2000000000000002,
                        "bin_end": 1.3,
                        "count": 0
                      },
                      {
                        "bin_start": 1.3,
                        "bin_end": 1.4,
                        "count": 0
                      },
                      {
                        "bin_start": 1.4,
                        "bin_end": 1.5,
                        "count": 0
                      }
                    ]
                  }
                },
                {
                  "name": "COUNTY",
                  "dtype": "int64",
                  "stats": {
                    "unique_count": 10,
                    "nan_count": 0,
                    "min": "0",
                    "max": "17",
                    "histogram": [
                      {
                        "bin_start": 0,
                        "bin_end": 1.7,
                        "count": 2
                      },
                      {
                        "bin_start": 1.7,
                        "bin_end": 3.4,
                        "count": 1
                      },
                      {
                        "bin_start": 3.4,
                        "bin_end": 5.1,
                        "count": 1
                      },
                      {
                        "bin_start": 5.1,
                        "bin_end": 6.8,
                        "count": 0
                      },
                      {
                        "bin_start": 6.8,
                        "bin_end": 8.5,
                        "count": 1
                      },
                      {
                        "bin_start": 8.5,
                        "bin_end": 10.2,
                        "count": 1
                      },
                      {
                        "bin_start": 10.2,
                        "bin_end": 11.9,
                        "count": 1
                      },
                      {
                        "bin_start": 11.9,
                        "bin_end": 13.6,
                        "count": 1
                      },
                      {
                        "bin_start": 13.6,
                        "bin_end": 15.299999999999999,
                        "count": 1
                      },
                      {
                        "bin_start": 15.299999999999999,
                        "bin_end": 17,
                        "count": 1
                      }
                    ]
                  }
                },
                {
                  "name": "STNAME",
                  "dtype": "object",
                  "stats": {
                    "unique_count": 1,
                    "nan_count": 0,
                    "categories": [
                      {
                        "name": "Alabama",
                        "count": 10
                      }
                    ]
                  }
                },
                {
                  "name": "CTYNAME",
                  "dtype": "object",
                  "stats": {
                    "unique_count": 10,
                    "nan_count": 0,
                    "categories": [
                      {
                        "name": "Alabama",
                        "count": 1
                      },
                      {
                        "name": "Autauga County",
                        "count": 1
                      },
                      {
                        "name": "8 others",
                        "count": 8
                      }
                    ]
                  }
                },
                {
                  "name": "CENSUS2010POP",
                  "dtype": "int64",
                  "stats": {
                    "unique_count": 10,
                    "nan_count": 0,
                    "min": "10914",
                    "max": "4779736",
                    "histogram": [
                      {
                        "bin_start": 10914,
                        "bin_end": 487796.2,
                        "count": 9
                      },
                      {
                        "bin_start": 487796.2,
                        "bin_end": 964678.4,
                        "count": 0
                      },
                      {
                        "bin_start": 964678.4,
                        "bin_end": 1441560.6,
                        "count": 0
                      },
                      {
                        "bin_start": 1441560.6,
                        "bin_end": 1918442.8,
                        "count": 0
                      },
                      {
                        "bin_start": 1918442.8,
                        "bin_end": 2395325,
                        "count": 0
                      },
                      {
                        "bin_start": 2395325,
                        "bin_end": 2872207.2,
                        "count": 0
                      },
                      {
                        "bin_start": 2872207.2,
                        "bin_end": 3349089.4,
                        "count": 0
                      },
                      {
                        "bin_start": 3349089.4,
                        "bin_end": 3825971.6,
                        "count": 0
                      },
                      {
                        "bin_start": 3825971.6,
                        "bin_end": 4302853.8,
                        "count": 0
                      },
                      {
                        "bin_start": 4302853.8,
                        "bin_end": 4779736,
                        "count": 1
                      }
                    ]
                  }
                },
                {
                  "name": "ESTIMATESBASE2010",
                  "dtype": "int64",
                  "stats": {
                    "unique_count": 10,
                    "nan_count": 0,
                    "min": "10915",
                    "max": "4780127",
                    "histogram": [
                      {
                        "bin_start": 10915,
                        "bin_end": 487836.2,
                        "count": 9
                      },
                      {
                        "bin_start": 487836.2,
                        "bin_end": 964757.4,
                        "count": 0
                      },
                      {
                        "bin_start": 964757.4,
                        "bin_end": 1441678.6,
                        "count": 0
                      },
                      {
                        "bin_start": 1441678.6,
                        "bin_end": 1918599.8,
                        "count": 0
                      },
                      {
                        "bin_start": 1918599.8,
                        "bin_end": 2395521,
                        "count": 0
                      },
                      {
                        "bin_start": 2395521,
                        "bin_end": 2872442.2,
                        "count": 0
                      },
                      {
                        "bin_start": 2872442.2,
                        "bin_end": 3349363.4,
                        "count": 0
                      },
                      {
                        "bin_start": 3349363.4,
                        "bin_end": 3826284.6,
                        "count": 0
                      },
                      {
                        "bin_start": 3826284.6,
                        "bin_end": 4303205.8,
                        "count": 0
                      },
                      {
                        "bin_start": 4303205.8,
                        "bin_end": 4780127,
                        "count": 1
                      }
                    ]
                  }
                },
                {
                  "name": "POPESTIMATE2010",
                  "dtype": "int64",
                  "stats": {
                    "unique_count": 10,
                    "nan_count": 0,
                    "min": "10887",
                    "max": "4785161",
                    "histogram": [
                      {
                        "bin_start": 10887,
                        "bin_end": 488314.4,
                        "count": 9
                      },
                      {
                        "bin_start": 488314.4,
                        "bin_end": 965741.8,
                        "count": 0
                      },
                      {
                        "bin_start": 965741.8,
                        "bin_end": 1443169.2000000002,
                        "count": 0
                      },
                      {
                        "bin_start": 1443169.2000000002,
                        "bin_end": 1920596.6,
                        "count": 0
                      },
                      {
                        "bin_start": 1920596.6,
                        "bin_end": 2398024,
                        "count": 0
                      },
                      {
                        "bin_start": 2398024,
                        "bin_end": 2875451.4000000004,
                        "count": 0
                      },
                      {
                        "bin_start": 2875451.4000000004,
                        "bin_end": 3352878.8000000003,
                        "count": 0
                      },
                      {
                        "bin_start": 3352878.8000000003,
                        "bin_end": 3830306.2,
                        "count": 0
                      },
                      {
                        "bin_start": 3830306.2,
                        "bin_end": 4307733.600000001,
                        "count": 0
                      },
                      {
                        "bin_start": 4307733.600000001,
                        "bin_end": 4785161,
                        "count": 1
                      }
                    ]
                  }
                },
                {
                  "name": "POPESTIMATE2011",
                  "dtype": "int64",
                  "stats": {
                    "unique_count": 10,
                    "nan_count": 0,
                    "min": "10629",
                    "max": "4801108",
                    "histogram": [
                      {
                        "bin_start": 10629,
                        "bin_end": 489676.9,
                        "count": 9
                      },
                      {
                        "bin_start": 489676.9,
                        "bin_end": 968724.8,
                        "count": 0
                      },
                      {
                        "bin_start": 968724.8,
                        "bin_end": 1447772.7000000002,
                        "count": 0
                      },
                      {
                        "bin_start": 1447772.7000000002,
                        "bin_end": 1926820.6,
                        "count": 0
                      },
                      {
                        "bin_start": 1926820.6,
                        "bin_end": 2405868.5,
                        "count": 0
                      },
                      {
                        "bin_start": 2405868.5,
                        "bin_end": 2884916.4000000004,
                        "count": 0
                      },
                      {
                        "bin_start": 2884916.4000000004,
                        "bin_end": 3363964.3000000003,
                        "count": 0
                      },
                      {
                        "bin_start": 3363964.3000000003,
                        "bin_end": 3843012.2,
                        "count": 0
                      },
                      {
                        "bin_start": 3843012.2,
                        "bin_end": 4322060.100000001,
                        "count": 0
                      },
                      {
                        "bin_start": 4322060.100000001,
                        "bin_end": 4801108,
                        "count": 1
                      }
                    ]
                  }
                },
                {
                  "name": "POPESTIMATE2012",
                  "dtype": "int64",
                  "stats": {
                    "unique_count": 10,
                    "nan_count": 0,
                    "min": "10606",
                    "max": "4816089",
                    "histogram": [
                      {
                        "bin_start": 10606,
                        "bin_end": 491154.3,
                        "count": 9
                      },
                      {
                        "bin_start": 491154.3,
                        "bin_end": 971702.6,
                        "count": 0
                      },
                      {
                        "bin_start": 971702.6,
                        "bin_end": 1452250.9,
                        "count": 0
                      },
                      {
                        "bin_start": 1452250.9,
                        "bin_end": 1932799.2,
                        "count": 0
                      },
                      {
                        "bin_start": 1932799.2,
                        "bin_end": 2413347.5,
                        "count": 0
                      },
                      {
                        "bin_start": 2413347.5,
                        "bin_end": 2893895.8,
                        "count": 0
                      },
                      {
                        "bin_start": 2893895.8,
                        "bin_end": 3374444.1,
                        "count": 0
                      },
                      {
                        "bin_start": 3374444.1,
                        "bin_end": 3854992.4,
                        "count": 0
                      },
                      {
                        "bin_start": 3854992.4,
                        "bin_end": 4335540.7,
                        "count": 0
                      },
                      {
                        "bin_start": 4335540.7,
                        "bin_end": 4816089,
                        "count": 1
                      }
                    ]
                  }
                },
                {
                  "name": "POPESTIMATE2013",
                  "dtype": "int64",
                  "stats": {
                    "unique_count": 10,
                    "nan_count": 0,
                    "min": "10628",
                    "max": "4830533",
                    "histogram": [
                      {
                        "bin_start": 10628,
                        "bin_end": 492618.5,
                        "count": 9
                      },
                      {
                        "bin_start": 492618.5,
                        "bin_end": 974609,
                        "count": 0
                      },
                      {
                        "bin_start": 974609,
                        "bin_end": 1456599.5,
                        "count": 0
                      },
                      {
                        "bin_start": 1456599.5,
                        "bin_end": 1938590,
                        "count": 0
                      },
                      {
                        "bin_start": 1938590,
                        "bin_end": 2420580.5,
                        "count": 0
                      },
                      {
                        "bin_start": 2420580.5,
                        "bin_end": 2902571,
                        "count": 0
                      },
                      {
                        "bin_start": 2902571,
                        "bin_end": 3384561.5,
                        "count": 0
                      },
                      {
                        "bin_start": 3384561.5,
                        "bin_end": 3866552,
                        "count": 0
                      },
                      {
                        "bin_start": 3866552,
                        "bin_end": 4348542.5,
                        "count": 0
                      },
                      {
                        "bin_start": 4348542.5,
                        "bin_end": 4830533,
                        "count": 1
                      }
                    ]
                  }
                },
                {
                  "name": "POPESTIMATE2014",
                  "dtype": "int64",
                  "stats": {
                    "unique_count": 10,
                    "nan_count": 0,
                    "min": "10829",
                    "max": "4846411",
                    "histogram": [
                      {
                        "bin_start": 10829,
                        "bin_end": 494387.2,
                        "count": 9
                      },
                      {
                        "bin_start": 494387.2,
                        "bin_end": 977945.4,
                        "count": 0
                      },
                      {
                        "bin_start": 977945.4,
                        "bin_end": 1461503.6,
                        "count": 0
                      },
                      {
                        "bin_start": 1461503.6,
                        "bin_end": 1945061.8,
                        "count": 0
                      },
                      {
                        "bin_start": 1945061.8,
                        "bin_end": 2428620,
                        "count": 0
                      },
                      {
                        "bin_start": 2428620,
                        "bin_end": 2912178.2,
                        "count": 0
                      },
                      {
                        "bin_start": 2912178.2,
                        "bin_end": 3395736.4,
                        "count": 0
                      },
                      {
                        "bin_start": 3395736.4,
                        "bin_end": 3879294.6,
                        "count": 0
                      },
                      {
                        "bin_start": 3879294.6,
                        "bin_end": 4362852.8,
                        "count": 0
                      },
                      {
                        "bin_start": 4362852.8,
                        "bin_end": 4846411,
                        "count": 1
                      }
                    ]
                  }
                },
                {
                  "name": "POPESTIMATE2015",
                  "dtype": "int64",
                  "stats": {
                    "unique_count": 10,
                    "nan_count": 0,
                    "min": "10696",
                    "max": "4858979",
                    "histogram": [
                      {
                        "bin_start": 10696,
                        "bin_end": 495524.3,
                        "count": 9
                      },
                      {
                        "bin_start": 495524.3,
                        "bin_end": 980352.6,
                        "count": 0
                      },
                      {
                        "bin_start": 980352.6,
                        "bin_end": 1465180.9,
                        "count": 0
                      },
                      {
                        "bin_start": 1465180.9,
                        "bin_end": 1950009.2,
                        "count": 0
                      },
                      {
                        "bin_start": 1950009.2,
                        "bin_end": 2434837.5,
                        "count": 0
                      },
                      {
                        "bin_start": 2434837.5,
                        "bin_end": 2919665.8,
                        "count": 0
                      },
                      {
                        "bin_start": 2919665.8,
                        "bin_end": 3404494.1,
                        "count": 0
                      },
                      {
                        "bin_start": 3404494.1,
                        "bin_end": 3889322.4,
                        "count": 0
                      },
                      {
                        "bin_start": 3889322.4,
                        "bin_end": 4374150.7,
                        "count": 0
                      },
                      {
                        "bin_start": 4374150.7,
                        "bin_end": 4858979,
                        "count": 1
                      }
                    ]
                  }
                },
                {
                  "name": "NPOPCHG_2010",
                  "dtype": "int64",
                  "stats": {
                    "unique_count": 10,
                    "nan_count": 0,
                    "min": "-149",
                    "max": "5034",
                    "histogram": [
                      {
                        "bin_start": -149,
                        "bin_end": 369.29999999999995,
                        "count": 8
                      },
                      {
                        "bin_start": 369.29999999999995,
                        "bin_end": 887.5999999999999,
                        "count": 0
                      },
                      {
                        "bin_start": 887.5999999999999,
                        "bin_end": 1405.8999999999999,
                        "count": 1
                      },
                      {
                        "bin_start": 1405.8999999999999,
                        "bin_end": 1924.1999999999998,
                        "count": 0
                      },
                      {
                        "bin_start": 1924.1999999999998,
                        "bin_end": 2442.5,
                        "count": 0
                      },
                      {
                        "bin_start": 2442.5,
                        "bin_end": 2960.7999999999997,
                        "count": 0
                      },
                      {
                        "bin_start": 2960.7999999999997,
                        "bin_end": 3479.0999999999995,
                        "count": 0
                      },
                      {
                        "bin_start": 3479.0999999999995,
                        "bin_end": 3997.3999999999996,
                        "count": 0
                      },
                      {
                        "bin_start": 3997.3999999999996,
                        "bin_end": 4515.7,
                        "count": 0
                      },
                      {
                        "bin_start": 4515.7,
                        "bin_end": 5034,
                        "count": 1
                      }
                    ]
                  }
                },
                {
                  "name": "NPOPCHG_2011",
                  "dtype": "int64",
                  "stats": {
                    "unique_count": 10,
                    "nan_count": 0,
                    "min": "-669",
                    "max": "15947",
                    "histogram": [
                      {
                        "bin_start": -669,
                        "bin_end": 992.5999999999999,
                        "count": 8
                      },
                      {
                        "bin_start": 992.5999999999999,
                        "bin_end": 2654.2,
                        "count": 0
                      },
                      {
                        "bin_start": 2654.2,
                        "bin_end": 4315.799999999999,
                        "count": 1
                      },
                      {
                        "bin_start": 4315.799999999999,
                        "bin_end": 5977.4,
                        "count": 0
                      },
                      {
                        "bin_start": 5977.4,
                        "bin_end": 7639,
                        "count": 0
                      },
                      {
                        "bin_start": 7639,
                        "bin_end": 9300.599999999999,
                        "count": 0
                      },
                      {
                        "bin_start": 9300.599999999999,
                        "bin_end": 10962.199999999999,
                        "count": 0
                      },
                      {
                        "bin_start": 10962.199999999999,
                        "bin_end": 12623.8,
                        "count": 0
                      },
                      {
                        "bin_start": 12623.8,
                        "bin_end": 14285.4,
                        "count": 0
                      },
                      {
                        "bin_start": 14285.4,
                        "bin_end": 15947,
                        "count": 1
                      }
                    ]
                  }
                },
                {
                  "name": "NPOPCHG_2012",
                  "dtype": "int64",
                  "stats": {
                    "unique_count": 10,
                    "nan_count": 0,
                    "min": "-482",
                    "max": "14981",
                    "histogram": [
                      {
                        "bin_start": -482,
                        "bin_end": 1064.3,
                        "count": 8
                      },
                      {
                        "bin_start": 1064.3,
                        "bin_end": 2610.6,
                        "count": 0
                      },
                      {
                        "bin_start": 2610.6,
                        "bin_end": 4156.9,
                        "count": 1
                      },
                      {
                        "bin_start": 4156.9,
                        "bin_end": 5703.2,
                        "count": 0
                      },
                      {
                        "bin_start": 5703.2,
                        "bin_end": 7249.5,
                        "count": 0
                      },
                      {
                        "bin_start": 7249.5,
                        "bin_end": 8795.8,
                        "count": 0
                      },
                      {
                        "bin_start": 8795.8,
                        "bin_end": 10342.1,
                        "count": 0
                      },
                      {
                        "bin_start": 10342.1,
                        "bin_end": 11888.4,
                        "count": 0
                      },
                      {
                        "bin_start": 11888.4,
                        "bin_end": 13434.699999999999,
                        "count": 0
                      },
                      {
                        "bin_start": 13434.699999999999,
                        "bin_end": 14981,
                        "count": 1
                      }
                    ]
                  }
                },
                {
                  "name": "NPOPCHG_2013",
                  "dtype": "int64",
                  "stats": {
                    "unique_count": 10,
                    "nan_count": 0,
                    "min": "-711",
                    "max": "14444",
                    "histogram": [
                      {
                        "bin_start": -711,
                        "bin_end": 804.5,
                        "count": 8
                      },
                      {
                        "bin_start": 804.5,
                        "bin_end": 2320,
                        "count": 0
                      },
                      {
                        "bin_start": 2320,
                        "bin_end": 3835.5,
                        "count": 0
                      },
                      {
                        "bin_start": 3835.5,
                        "bin_end": 5351,
                        "count": 1
                      },
                      {
                        "bin_start": 5351,
                        "bin_end": 6866.5,
                        "count": 0
                      },
                      {
                        "bin_start": 6866.5,
                        "bin_end": 8382,
                        "count": 0
                      },
                      {
                        "bin_start": 8382,
                        "bin_end": 9897.5,
                        "count": 0
                      },
                      {
                        "bin_start": 9897.5,
                        "bin_end": 11413,
                        "count": 0
                      },
                      {
                        "bin_start": 11413,
                        "bin_end": 12928.5,
                        "count": 0
                      },
                      {
                        "bin_start": 12928.5,
                        "bin_end": 14444,
                        "count": 1
                      }
                    ]
                  }
                },
                {
                  "name": "NPOPCHG_2014",
                  "dtype": "int64",
                  "stats": {
                    "unique_count": 10,
                    "nan_count": 0,
                    "min": "-582",
                    "max": "15878",
                    "histogram": [
                      {
                        "bin_start": -582,
                        "bin_end": 1064,
                        "count": 8
                      },
                      {
                        "bin_start": 1064,
                        "bin_end": 2710,
                        "count": 0
                      },
                      {
                        "bin_start": 2710,
                        "bin_end": 4356,
                        "count": 0
                      },
                      {
                        "bin_start": 4356,
                        "bin_end": 6002,
                        "count": 1
                      },
                      {
                        "bin_start": 6002,
                        "bin_end": 7648,
                        "count": 0
                      },
                      {
                        "bin_start": 7648,
                        "bin_end": 9294,
                        "count": 0
                      },
                      {
                        "bin_start": 9294,
                        "bin_end": 10940,
                        "count": 0
                      },
                      {
                        "bin_start": 10940,
                        "bin_end": 12586,
                        "count": 0
                      },
                      {
                        "bin_start": 12586,
                        "bin_end": 14232,
                        "count": 0
                      },
                      {
                        "bin_start": 14232,
                        "bin_end": 15878,
                        "count": 1
                      }
                    ]
                  }
                },
                {
                  "name": "NPOPCHG_2015",
                  "dtype": "int64",
                  "stats": {
                    "unique_count": 10,
                    "nan_count": 0,
                    "min": "-373",
                    "max": "12568",
                    "histogram": [
                      {
                        "bin_start": -373,
                        "bin_end": 921.0999999999999,
                        "count": 8
                      },
                      {
                        "bin_start": 921.0999999999999,
                        "bin_end": 2215.2,
                        "count": 0
                      },
                      {
                        "bin_start": 2215.2,
                        "bin_end": 3509.2999999999997,
                        "count": 0
                      },
                      {
                        "bin_start": 3509.2999999999997,
                        "bin_end": 4803.4,
                        "count": 1
                      },
                      {
                        "bin_start": 4803.4,
                        "bin_end": 6097.5,
                        "count": 0
                      },
                      {
                        "bin_start": 6097.5,
                        "bin_end": 7391.599999999999,
                        "count": 0
                      },
                      {
                        "bin_start": 7391.599999999999,
                        "bin_end": 8685.699999999999,
                        "count": 0
                      },
                      {
                        "bin_start": 8685.699999999999,
                        "bin_end": 9979.8,
                        "count": 0
                      },
                      {
                        "bin_start": 9979.8,
                        "bin_end": 11273.9,
                        "count": 0
                      },
                      {
                        "bin_start": 11273.9,
                        "bin_end": 12568,
                        "count": 1
                      }
                    ]
                  }
                },
                {
                  "name": "BIRTHS2010",
                  "dtype": "int64",
                  "stats": {
                    "unique_count": 10,
                    "nan_count": 0,
                    "min": "39",
                    "max": "14226",
                    "histogram": [
                      {
                        "bin_start": 39,
                        "bin_end": 1457.7,
                        "count": 9
                      },
                      {
                        "bin_start": 1457.7,
                        "bin_end": 2876.4,
                        "count": 0
                      },
                      {
                        "bin_start": 2876.4,
                        "bin_end": 4295.1,
                        "count": 0
                      },
                      {
                        "bin_start": 4295.1,
                        "bin_end": 5713.8,
                        "count": 0
                      },
                      {
                        "bin_start": 5713.8,
                        "bin_end": 7132.5,
                        "count": 0
                      },
                      {
                        "bin_start": 7132.5,
                        "bin_end": 8551.2,
                        "count": 0
                      },
                      {
                        "bin_start": 8551.2,
                        "bin_end": 9969.9,
                        "count": 0
                      },
                      {
                        "bin_start": 9969.9,
                        "bin_end": 11388.6,
                        "count": 0
                      },
                      {
                        "bin_start": 11388.6,
                        "bin_end": 12807.300000000001,
                        "count": 0
                      },
                      {
                        "bin_start": 12807.300000000001,
                        "bin_end": 14226,
                        "count": 1
                      }
                    ]
                  }
                },
                {
                  "name": "BIRTHS2011",
                  "dtype": "int64",
                  "stats": {
                    "unique_count": 10,
                    "nan_count": 0,
                    "min": "169",
                    "max": "59689",
                    "histogram": [
                      {
                        "bin_start": 169,
                        "bin_end": 6121,
                        "count": 9
                      },
                      {
                        "bin_start": 6121,
                        "bin_end": 12073,
                        "count": 0
                      },
                      {
                        "bin_start": 12073,
                        "bin_end": 18025,
                        "count": 0
                      },
                      {
                        "bin_start": 18025,
                        "bin_end": 23977,
                        "count": 0
                      },
                      {
                        "bin_start": 23977,
                        "bin_end": 29929,
                        "count": 0
                      },
                      {
                        "bin_start": 29929,
                        "bin_end": 35881,
                        "count": 0
                      },
                      {
                        "bin_start": 35881,
                        "bin_end": 41833,
                        "count": 0
                      },
                      {
                        "bin_start": 41833,
                        "bin_end": 47785,
                        "count": 0
                      },
                      {
                        "bin_start": 47785,
                        "bin_end": 53737,
                        "count": 0
                      },
                      {
                        "bin_start": 53737,
                        "bin_end": 59689,
                        "count": 1
                      }
                    ]
                  }
                },
                {
                  "name": "BIRTHS2012",
                  "dtype": "int64",
                  "stats": {
                    "unique_count": 10,
                    "nan_count": 0,
                    "min": "122",
                    "max": "59062",
                    "histogram": [
                      {
                        "bin_start": 122,
                        "bin_end": 6016,
                        "count": 9
                      },
                      {
                        "bin_start": 6016,
                        "bin_end": 11910,
                        "count": 0
                      },
                      {
                        "bin_start": 11910,
                        "bin_end": 17804,
                        "count": 0
                      },
                      {
                        "bin_start": 17804,
                        "bin_end": 23698,
                        "count": 0
                      },
                      {
                        "bin_start": 23698,
                        "bin_end": 29592,
                        "count": 0
                      },
                      {
                        "bin_start": 29592,
                        "bin_end": 35486,
                        "count": 0
                      },
                      {
                        "bin_start": 35486,
                        "bin_end": 41380,
                        "count": 0
                      },
                      {
                        "bin_start": 41380,
                        "bin_end": 47274,
                        "count": 0
                      },
                      {
                        "bin_start": 47274,
                        "bin_end": 53168,
                        "count": 0
                      },
                      {
                        "bin_start": 53168,
                        "bin_end": 59062,
                        "count": 1
                      }
                    ]
                  }
                },
                {
                  "name": "BIRTHS2013",
                  "dtype": "int64",
                  "stats": {
                    "unique_count": 10,
                    "nan_count": 0,
                    "min": "132",
                    "max": "57938",
                    "histogram": [
                      {
                        "bin_start": 132,
                        "bin_end": 5912.6,
                        "count": 9
                      },
                      {
                        "bin_start": 5912.6,
                        "bin_end": 11693.2,
                        "count": 0
                      },
                      {
                        "bin_start": 11693.2,
                        "bin_end": 17473.800000000003,
                        "count": 0
                      },
                      {
                        "bin_start": 17473.800000000003,
                        "bin_end": 23254.4,
                        "count": 0
                      },
                      {
                        "bin_start": 23254.4,
                        "bin_end": 29035,
                        "count": 0
                      },
                      {
                        "bin_start": 29035,
                        "bin_end": 34815.600000000006,
                        "count": 0
                      },
                      {
                        "bin_start": 34815.600000000006,
                        "bin_end": 40596.200000000004,
                        "count": 0
                      },
                      {
                        "bin_start": 40596.200000000004,
                        "bin_end": 46376.8,
                        "count": 0
                      },
                      {
                        "bin_start": 46376.8,
                        "bin_end": 52157.4,
                        "count": 0
                      },
                      {
                        "bin_start": 52157.4,
                        "bin_end": 57938,
                        "count": 1
                      }
                    ]
                  }
                },
                {
                  "name": "BIRTHS2014",
                  "dtype": "int64",
                  "stats": {
                    "unique_count": 10,
                    "nan_count": 0,
                    "min": "118",
                    "max": "58334",
                    "histogram": [
                      {
                        "bin_start": 118,
                        "bin_end": 5939.6,
                        "count": 9
                      },
                      {
                        "bin_start": 5939.6,
                        "bin_end": 11761.2,
                        "count": 0
                      },
                      {
                        "bin_start": 11761.2,
                        "bin_end": 17582.800000000003,
                        "count": 0
                      },
                      {
                        "bin_start": 17582.800000000003,
                        "bin_end": 23404.4,
                        "count": 0
                      },
                      {
                        "bin_start": 23404.4,
                        "bin_end": 29226,
                        "count": 0
                      },
                      {
                        "bin_start": 29226,
                        "bin_end": 35047.600000000006,
                        "count": 0
                      },
                      {
                        "bin_start": 35047.600000000006,
                        "bin_end": 40869.200000000004,
                        "count": 0
                      },
                      {
                        "bin_start": 40869.200000000004,
                        "bin_end": 46690.8,
                        "count": 0
                      },
                      {
                        "bin_start": 46690.8,
                        "bin_end": 52512.4,
                        "count": 0
                      },
                      {
                        "bin_start": 52512.4,
                        "bin_end": 58334,
                        "count": 1
                      }
                    ]
                  }
                },
                {
                  "name": "BIRTHS2015",
                  "dtype": "int64",
                  "stats": {
                    "unique_count": 10,
                    "nan_count": 0,
                    "min": "123",
                    "max": "58305",
                    "histogram": [
                      {
                        "bin_start": 123,
                        "bin_end": 5941.2,
                        "count": 9
                      },
                      {
                        "bin_start": 5941.2,
                        "bin_end": 11759.4,
                        "count": 0
                      },
                      {
                        "bin_start": 11759.4,
                        "bin_end": 17577.6,
                        "count": 0
                      },
                      {
                        "bin_start": 17577.6,
                        "bin_end": 23395.8,
                        "count": 0
                      },
                      {
                        "bin_start": 23395.8,
                        "bin_end": 29214,
                        "count": 0
                      },
                      {
                        "bin_start": 29214,
                        "bin_end": 35032.2,
                        "count": 0
                      },
                      {
                        "bin_start": 35032.2,
                        "bin_end": 40850.4,
                        "count": 0
                      },
                      {
                        "bin_start": 40850.4,
                        "bin_end": 46668.6,
                        "count": 0
                      },
                      {
                        "bin_start": 46668.6,
                        "bin_end": 52486.799999999996,
                        "count": 0
                      },
                      {
                        "bin_start": 52486.799999999996,
                        "bin_end": 58305,
                        "count": 1
                      }
                    ]
                  }
                },
                {
                  "name": "DEATHS2010",
                  "dtype": "int64",
                  "stats": {
                    "unique_count": 10,
                    "nan_count": 0,
                    "min": "34",
                    "max": "11089",
                    "histogram": [
                      {
                        "bin_start": 34,
                        "bin_end": 1139.5,
                        "count": 9
                      },
                      {
                        "bin_start": 1139.5,
                        "bin_end": 2245,
                        "count": 0
                      },
                      {
                        "bin_start": 2245,
                        "bin_end": 3350.5,
                        "count": 0
                      },
                      {
                        "bin_start": 3350.5,
                        "bin_end": 4456,
                        "count": 0
                      },
                      {
                        "bin_start": 4456,
                        "bin_end": 5561.5,
                        "count": 0
                      },
                      {
                        "bin_start": 5561.5,
                        "bin_end": 6667,
                        "count": 0
                      },
                      {
                        "bin_start": 6667,
                        "bin_end": 7772.5,
                        "count": 0
                      },
                      {
                        "bin_start": 7772.5,
                        "bin_end": 8878,
                        "count": 0
                      },
                      {
                        "bin_start": 8878,
                        "bin_end": 9983.5,
                        "count": 0
                      },
                      {
                        "bin_start": 9983.5,
                        "bin_end": 11089,
                        "count": 1
                      }
                    ]
                  }
                },
                {
                  "name": "DEATHS2011",
                  "dtype": "int64",
                  "stats": {
                    "unique_count": 10,
                    "nan_count": 0,
                    "min": "132",
                    "max": "48811",
                    "histogram": [
                      {
                        "bin_start": 132,
                        "bin_end": 4999.9,
                        "count": 9
                      },
                      {
                        "bin_start": 4999.9,
                        "bin_end": 9867.8,
                        "count": 0
                      },
                      {
                        "bin_start": 9867.8,
                        "bin_end": 14735.699999999999,
                        "count": 0
                      },
                      {
                        "bin_start": 14735.699999999999,
                        "bin_end": 19603.6,
                        "count": 0
                      },
                      {
                        "bin_start": 19603.6,
                        "bin_end": 24471.5,
                        "count": 0
                      },
                      {
                        "bin_start": 24471.5,
                        "bin_end": 29339.399999999998,
                        "count": 0
                      },
                      {
                        "bin_start": 29339.399999999998,
                        "bin_end": 34207.299999999996,
                        "count": 0
                      },
                      {
                        "bin_start": 34207.299999999996,
                        "bin_end": 39075.2,
                        "count": 0
                      },
                      {
                        "bin_start": 39075.2,
                        "bin_end": 43943.1,
                        "count": 0
                      },
                      {
                        "bin_start": 43943.1,
                        "bin_end": 48811,
                        "count": 1
                      }
                    ]
                  }
                },
                {
                  "name": "DEATHS2012",
                  "dtype": "int64",
                  "stats": {
                    "unique_count": 10,
                    "nan_count": 0,
                    "min": "116",
                    "max": "48357",
                    "histogram": [
                      {
                        "bin_start": 116,
                        "bin_end": 4940.1,
                        "count": 9
                      },
                      {
                        "bin_start": 4940.1,
                        "bin_end": 9764.2,
                        "count": 0
                      },
                      {
                        "bin_start": 9764.2,
                        "bin_end": 14588.300000000001,
                        "count": 0
                      },
                      {
                        "bin_start": 14588.300000000001,
                        "bin_end": 19412.4,
                        "count": 0
                      },
                      {
                        "bin_start": 19412.4,
                        "bin_end": 24236.5,
                        "count": 0
                      },
                      {
                        "bin_start": 24236.5,
                        "bin_end": 29060.600000000002,
                        "count": 0
                      },
                      {
                        "bin_start": 29060.600000000002,
                        "bin_end": 33884.700000000004,
                        "count": 0
                      },
                      {
                        "bin_start": 33884.700000000004,
                        "bin_end": 38708.8,
                        "count": 0
                      },
                      {
                        "bin_start": 38708.8,
                        "bin_end": 43532.9,
                        "count": 0
                      },
                      {
                        "bin_start": 43532.9,
                        "bin_end": 48357,
                        "count": 1
                      }
                    ]
                  }
                },
                {
                  "name": "DEATHS2013",
                  "dtype": "int64",
                  "stats": {
                    "unique_count": 10,
                    "nan_count": 0,
                    "min": "120",
                    "max": "50843",
                    "histogram": [
                      {
                        "bin_start": 120,
                        "bin_end": 5192.3,
                        "count": 9
                      },
                      {
                        "bin_start": 5192.3,
                        "bin_end": 10264.6,
                        "count": 0
                      },
                      {
                        "bin_start": 10264.6,
                        "bin_end": 15336.900000000001,
                        "count": 0
                      },
                      {
                        "bin_start": 15336.900000000001,
                        "bin_end": 20409.2,
                        "count": 0
                      },
                      {
                        "bin_start": 20409.2,
                        "bin_end": 25481.5,
                        "count": 0
                      },
                      {
                        "bin_start": 25481.5,
                        "bin_end": 30553.800000000003,
                        "count": 0
                      },
                      {
                        "bin_start": 30553.800000000003,
                        "bin_end": 35626.1,
                        "count": 0
                      },
                      {
                        "bin_start": 35626.1,
                        "bin_end": 40698.4,
                        "count": 0
                      },
                      {
                        "bin_start": 40698.4,
                        "bin_end": 45770.700000000004,
                        "count": 0
                      },
                      {
                        "bin_start": 45770.700000000004,
                        "bin_end": 50843,
                        "count": 1
                      }
                    ]
                  }
                },
                {
                  "name": "DEATHS2014",
                  "dtype": "int64",
                  "stats": {
                    "unique_count": 10,
                    "nan_count": 0,
                    "min": "99",
                    "max": "50228",
                    "histogram": [
                      {
                        "bin_start": 99,
                        "bin_end": 5111.9,
                        "count": 9
                      },
                      {
                        "bin_start": 5111.9,
                        "bin_end": 10124.8,
                        "count": 0
                      },
                      {
                        "bin_start": 10124.8,
                        "bin_end": 15137.699999999999,
                        "count": 0
                      },
                      {
                        "bin_start": 15137.699999999999,
                        "bin_end": 20150.6,
                        "count": 0
                      },
                      {
                        "bin_start": 20150.6,
                        "bin_end": 25163.5,
                        "count": 0
                      },
                      {
                        "bin_start": 25163.5,
                        "bin_end": 30176.399999999998,
                        "count": 0
                      },
                      {
                        "bin_start": 30176.399999999998,
                        "bin_end": 35189.299999999996,
                        "count": 0
                      },
                      {
                        "bin_start": 35189.299999999996,
                        "bin_end": 40202.2,
                        "count": 0
                      },
                      {
                        "bin_start": 40202.2,
                        "bin_end": 45215.1,
                        "count": 0
                      },
                      {
                        "bin_start": 45215.1,
                        "bin_end": 50228,
                        "count": 1
                      }
                    ]
                  }
                },
                {
                  "name": "DEATHS2015",
                  "dtype": "int64",
                  "stats": {
                    "unique_count": 10,
                    "nan_count": 0,
                    "min": "109",
                    "max": "50330",
                    "histogram": [
                      {
                        "bin_start": 109,
                        "bin_end": 5131.1,
                        "count": 9
                      },
                      {
                        "bin_start": 5131.1,
                        "bin_end": 10153.2,
                        "count": 0
                      },
                      {
                        "bin_start": 10153.2,
                        "bin_end": 15175.300000000001,
                        "count": 0
                      },
                      {
                        "bin_start": 15175.300000000001,
                        "bin_end": 20197.4,
                        "count": 0
                      },
                      {
                        "bin_start": 20197.4,
                        "bin_end": 25219.5,
                        "count": 0
                      },
                      {
                        "bin_start": 25219.5,
                        "bin_end": 30241.600000000002,
                        "count": 0
                      },
                      {
                        "bin_start": 30241.600000000002,
                        "bin_end": 35263.700000000004,
                        "count": 0
                      },
                      {
                        "bin_start": 35263.700000000004,
                        "bin_end": 40285.8,
                        "count": 0
                      },
                      {
                        "bin_start": 40285.8,
                        "bin_end": 45307.9,
                        "count": 0
                      },
                      {
                        "bin_start": 45307.9,
                        "bin_end": 50330,
                        "count": 1
                      }
                    ]
                  }
                },
                {
                  "name": "NATURALINC2010",
                  "dtype": "int64",
                  "stats": {
                    "unique_count": 9,
                    "nan_count": 0,
                    "min": "-58",
                    "max": "3137",
                    "histogram": [
                      {
                        "bin_start": -58,
                        "bin_end": 261.5,
                        "count": 9
                      },
                      {
                        "bin_start": 261.5,
                        "bin_end": 581,
                        "count": 0
                      },
                      {
                        "bin_start": 581,
                        "bin_end": 900.5,
                        "count": 0
                      },
                      {
                        "bin_start": 900.5,
                        "bin_end": 1220,
                        "count": 0
                      },
                      {
                        "bin_start": 1220,
                        "bin_end": 1539.5,
                        "count": 0
                      },
                      {
                        "bin_start": 1539.5,
                        "bin_end": 1859,
                        "count": 0
                      },
                      {
                        "bin_start": 1859,
                        "bin_end": 2178.5,
                        "count": 0
                      },
                      {
                        "bin_start": 2178.5,
                        "bin_end": 2498,
                        "count": 0
                      },
                      {
                        "bin_start": 2498,
                        "bin_end": 2817.5,
                        "count": 0
                      },
                      {
                        "bin_start": 2817.5,
                        "bin_end": 3137,
                        "count": 1
                      }
                    ]
                  }
                },
                {
                  "name": "NATURALINC2011",
                  "dtype": "int64",
                  "stats": {
                    "unique_count": 10,
                    "nan_count": 0,
                    "min": "-40",
                    "max": "10878",
                    "histogram": [
                      {
                        "bin_start": -40,
                        "bin_end": 1051.8,
                        "count": 9
                      },
                      {
                        "bin_start": 1051.8,
                        "bin_end": 2143.6,
                        "count": 0
                      },
                      {
                        "bin_start": 2143.6,
                        "bin_end": 3235.3999999999996,
                        "count": 0
                      },
                      {
                        "bin_start": 3235.3999999999996,
                        "bin_end": 4327.2,
                        "count": 0
                      },
                      {
                        "bin_start": 4327.2,
                        "bin_end": 5419,
                        "count": 0
                      },
                      {
                        "bin_start": 5419,
                        "bin_end": 6510.799999999999,
                        "count": 0
                      },
                      {
                        "bin_start": 6510.799999999999,
                        "bin_end": 7602.599999999999,
                        "count": 0
                      },
                      {
                        "bin_start": 7602.599999999999,
                        "bin_end": 8694.4,
                        "count": 0
                      },
                      {
                        "bin_start": 8694.4,
                        "bin_end": 9786.199999999999,
                        "count": 0
                      },
                      {
                        "bin_start": 9786.199999999999,
                        "bin_end": 10878,
                        "count": 1
                      }
                    ]
                  }
                },
                {
                  "name": "NATURALINC2012",
                  "dtype": "int64",
                  "stats": {
                    "unique_count": 10,
                    "nan_count": 0,
                    "min": "-82",
                    "max": "10705",
                    "histogram": [
                      {
                        "bin_start": -82,
                        "bin_end": 996.7,
                        "count": 9
                      },
                      {
                        "bin_start": 996.7,
                        "bin_end": 2075.4,
                        "count": 0
                      },
                      {
                        "bin_start": 2075.4,
                        "bin_end": 3154.1000000000004,
                        "count": 0
                      },
                      {
                        "bin_start": 3154.1000000000004,
                        "bin_end": 4232.8,
                        "count": 0
                      },
                      {
                        "bin_start": 4232.8,
                        "bin_end": 5311.5,
                        "count": 0
                      },
                      {
                        "bin_start": 5311.5,
                        "bin_end": 6390.200000000001,
                        "count": 0
                      },
                      {
                        "bin_start": 6390.200000000001,
                        "bin_end": 7468.900000000001,
                        "count": 0
                      },
                      {
                        "bin_start": 7468.900000000001,
                        "bin_end": 8547.6,
                        "count": 0
                      },
                      {
                        "bin_start": 8547.6,
                        "bin_end": 9626.300000000001,
                        "count": 0
                      },
                      {
                        "bin_start": 9626.300000000001,
                        "bin_end": 10705,
                        "count": 1
                      }
                    ]
                  }
                },
                {
                  "name": "NATURALINC2013",
                  "dtype": "int64",
                  "stats": {
                    "unique_count": 10,
                    "nan_count": 0,
                    "min": "-103",
                    "max": "7095",
                    "histogram": [
                      {
                        "bin_start": -103,
                        "bin_end": 616.8,
                        "count": 9
                      },
                      {
                        "bin_start": 616.8,
                        "bin_end": 1336.6,
                        "count": 0
                      },
                      {
                        "bin_start": 1336.6,
                        "bin_end": 2056.3999999999996,
                        "count": 0
                      },
                      {
                        "bin_start": 2056.3999999999996,
                        "bin_end": 2776.2,
                        "count": 0
                      },
                      {
                        "bin_start": 2776.2,
                        "bin_end": 3496,
                        "count": 0
                      },
                      {
                        "bin_start": 3496,
                        "bin_end": 4215.799999999999,
                        "count": 0
                      },
                      {
                        "bin_start": 4215.799999999999,
                        "bin_end": 4935.599999999999,
                        "count": 0
                      },
                      {
                        "bin_start": 4935.599999999999,
                        "bin_end": 5655.4,
                        "count": 0
                      },
                      {
                        "bin_start": 5655.4,
                        "bin_end": 6375.2,
                        "count": 0
                      },
                      {
                        "bin_start": 6375.2,
                        "bin_end": 7095,
                        "count": 1
                      }
                    ]
                  }
                },
                {
                  "name": "NATURALINC2014",
                  "dtype": "int64",
                  "stats": {
                    "unique_count": 10,
                    "nan_count": 0,
                    "min": "-70",
                    "max": "8106",
                    "histogram": [
                      {
                        "bin_start": -70,
                        "bin_end": 747.6,
                        "count": 9
                      },
                      {
                        "bin_start": 747.6,
                        "bin_end": 1565.2,
                        "count": 0
                      },
                      {
                        "bin_start": 1565.2,
                        "bin_end": 2382.8,
                        "count": 0
                      },
                      {
                        "bin_start": 2382.8,
                        "bin_end": 3200.4,
                        "count": 0
                      },
                      {
                        "bin_start": 3200.4,
                        "bin_end": 4018,
                        "count": 0
                      },
                      {
                        "bin_start": 4018,
                        "bin_end": 4835.6,
                        "count": 0
                      },
                      {
                        "bin_start": 4835.6,
                        "bin_end": 5653.2,
                        "count": 0
                      },
                      {
                        "bin_start": 5653.2,
                        "bin_end": 6470.8,
                        "count": 0
                      },
                      {
                        "bin_start": 6470.8,
                        "bin_end": 7288.400000000001,
                        "count": 0
                      },
                      {
                        "bin_start": 7288.400000000001,
                        "bin_end": 8106,
                        "count": 1
                      }
                    ]
                  }
                },
                {
                  "name": "NATURALINC2015",
                  "dtype": "int64",
                  "stats": {
                    "unique_count": 10,
                    "nan_count": 0,
                    "min": "-60",
                    "max": "7975",
                    "histogram": [
                      {
                        "bin_start": -60,
                        "bin_end": 743.5,
                        "count": 9
                      },
                      {
                        "bin_start": 743.5,
                        "bin_end": 1547,
                        "count": 0
                      },
                      {
                        "bin_start": 1547,
                        "bin_end": 2350.5,
                        "count": 0
                      },
                      {
                        "bin_start": 2350.5,
                        "bin_end": 3154,
                        "count": 0
                      },
                      {
                        "bin_start": 3154,
                        "bin_end": 3957.5,
                        "count": 0
                      },
                      {
                        "bin_start": 3957.5,
                        "bin_end": 4761,
                        "count": 0
                      },
                      {
                        "bin_start": 4761,
                        "bin_end": 5564.5,
                        "count": 0
                      },
                      {
                        "bin_start": 5564.5,
                        "bin_end": 6368,
                        "count": 0
                      },
                      {
                        "bin_start": 6368,
                        "bin_end": 7171.5,
                        "count": 0
                      },
                      {
                        "bin_start": 7171.5,
                        "bin_end": 7975,
                        "count": 1
                      }
                    ]
                  }
                },
                {
                  "name": "INTERNATIONALMIG2010",
                  "dtype": "int64",
                  "stats": {
                    "unique_count": 8,
                    "nan_count": 0,
                    "min": "0",
                    "max": "1357",
                    "histogram": [
                      {
                        "bin_start": 0,
                        "bin_end": 135.7,
                        "count": 9
                      },
                      {
                        "bin_start": 135.7,
                        "bin_end": 271.4,
                        "count": 0
                      },
                      {
                        "bin_start": 271.4,
                        "bin_end": 407.09999999999997,
                        "count": 0
                      },
                      {
                        "bin_start": 407.09999999999997,
                        "bin_end": 542.8,
                        "count": 0
                      },
                      {
                        "bin_start": 542.8,
                        "bin_end": 678.5,
                        "count": 0
                      },
                      {
                        "bin_start": 678.5,
                        "bin_end": 814.1999999999999,
                        "count": 0
                      },
                      {
                        "bin_start": 814.1999999999999,
                        "bin_end": 949.8999999999999,
                        "count": 0
                      },
                      {
                        "bin_start": 949.8999999999999,
                        "bin_end": 1085.6,
                        "count": 0
                      },
                      {
                        "bin_start": 1085.6,
                        "bin_end": 1221.3,
                        "count": 0
                      },
                      {
                        "bin_start": 1221.3,
                        "bin_end": 1357,
                        "count": 1
                      }
                    ]
                  }
                },
                {
                  "name": "INTERNATIONALMIG2011",
                  "dtype": "int64",
                  "stats": {
                    "unique_count": 10,
                    "nan_count": 0,
                    "min": "-4",
                    "max": "4926",
                    "histogram": [
                      {
                        "bin_start": -4,
                        "bin_end": 489,
                        "count": 9
                      },
                      {
                        "bin_start": 489,
                        "bin_end": 982,
                        "count": 0
                      },
                      {
                        "bin_start": 982,
                        "bin_end": 1475,
                        "count": 0
                      },
                      {
                        "bin_start": 1475,
                        "bin_end": 1968,
                        "count": 0
                      },
                      {
                        "bin_start": 1968,
                        "bin_end": 2461,
                        "count": 0
                      },
                      {
                        "bin_start": 2461,
                        "bin_end": 2954,
                        "count": 0
                      },
                      {
                        "bin_start": 2954,
                        "bin_end": 3447,
                        "count": 0
                      },
                      {
                        "bin_start": 3447,
                        "bin_end": 3940,
                        "count": 0
                      },
                      {
                        "bin_start": 3940,
                        "bin_end": 4433,
                        "count": 0
                      },
                      {
                        "bin_start": 4433,
                        "bin_end": 4926,
                        "count": 1
                      }
                    ]
                  }
                },
                {
                  "name": "INTERNATIONALMIG2012",
                  "dtype": "int64",
                  "stats": {
                    "unique_count": 9,
                    "nan_count": 0,
                    "min": "-7",
                    "max": "4904",
                    "histogram": [
                      {
                        "bin_start": -7,
                        "bin_end": 484.1,
                        "count": 9
                      },
                      {
                        "bin_start": 484.1,
                        "bin_end": 975.2,
                        "count": 0
                      },
                      {
                        "bin_start": 975.2,
                        "bin_end": 1466.3000000000002,
                        "count": 0
                      },
                      {
                        "bin_start": 1466.3000000000002,
                        "bin_end": 1957.4,
                        "count": 0
                      },
                      {
                        "bin_start": 1957.4,
                        "bin_end": 2448.5,
                        "count": 0
                      },
                      {
                        "bin_start": 2448.5,
                        "bin_end": 2939.6000000000004,
                        "count": 0
                      },
                      {
                        "bin_start": 2939.6000000000004,
                        "bin_end": 3430.7000000000003,
                        "count": 0
                      },
                      {
                        "bin_start": 3430.7000000000003,
                        "bin_end": 3921.8,
                        "count": 0
                      },
                      {
                        "bin_start": 3921.8,
                        "bin_end": 4412.900000000001,
                        "count": 0
                      },
                      {
                        "bin_start": 4412.900000000001,
                        "bin_end": 4904,
                        "count": 1
                      }
                    ]
                  }
                },
                {
                  "name": "INTERNATIONALMIG2013",
                  "dtype": "int64",
                  "stats": {
                    "unique_count": 10,
                    "nan_count": 0,
                    "min": "-3",
                    "max": "4834",
                    "histogram": [
                      {
                        "bin_start": -3,
                        "bin_end": 480.7,
                        "count": 9
                      },
                      {
                        "bin_start": 480.7,
                        "bin_end": 964.4,
                        "count": 0
                      },
                      {
                        "bin_start": 964.4,
                        "bin_end": 1448.1,
                        "count": 0
                      },
                      {
                        "bin_start": 1448.1,
                        "bin_end": 1931.8,
                        "count": 0
                      },
                      {
                        "bin_start": 1931.8,
                        "bin_end": 2415.5,
                        "count": 0
                      },
                      {
                        "bin_start": 2415.5,
                        "bin_end": 2899.2,
                        "count": 0
                      },
                      {
                        "bin_start": 2899.2,
                        "bin_end": 3382.9,
                        "count": 0
                      },
                      {
                        "bin_start": 3382.9,
                        "bin_end": 3866.6,
                        "count": 0
                      },
                      {
                        "bin_start": 3866.6,
                        "bin_end": 4350.3,
                        "count": 0
                      },
                      {
                        "bin_start": 4350.3,
                        "bin_end": 4834,
                        "count": 1
                      }
                    ]
                  }
                },
                {
                  "name": "INTERNATIONALMIG2014",
                  "dtype": "int64",
                  "stats": {
                    "unique_count": 10,
                    "nan_count": 0,
                    "min": "-2",
                    "max": "5529",
                    "histogram": [
                      {
                        "bin_start": -2,
                        "bin_end": 551.1,
                        "count": 9
                      },
                      {
                        "bin_start": 551.1,
                        "bin_end": 1104.2,
                        "count": 0
                      },
                      {
                        "bin_start": 1104.2,
                        "bin_end": 1657.3000000000002,
                        "count": 0
                      },
                      {
                        "bin_start": 1657.3000000000002,
                        "bin_end": 2210.4,
                        "count": 0
                      },
                      {
                        "bin_start": 2210.4,
                        "bin_end": 2763.5,
                        "count": 0
                      },
                      {
                        "bin_start": 2763.5,
                        "bin_end": 3316.6000000000004,
                        "count": 0
                      },
                      {
                        "bin_start": 3316.6000000000004,
                        "bin_end": 3869.7000000000003,
                        "count": 0
                      },
                      {
                        "bin_start": 3869.7000000000003,
                        "bin_end": 4422.8,
                        "count": 0
                      },
                      {
                        "bin_start": 4422.8,
                        "bin_end": 4975.900000000001,
                        "count": 0
                      },
                      {
                        "bin_start": 4975.900000000001,
                        "bin_end": 5529,
                        "count": 1
                      }
                    ]
                  }
                },
                {
                  "name": "INTERNATIONALMIG2015",
                  "dtype": "int64",
                  "stats": {
                    "unique_count": 10,
                    "nan_count": 0,
                    "min": "0",
                    "max": "5726",
                    "histogram": [
                      {
                        "bin_start": 0,
                        "bin_end": 572.6,
                        "count": 9
                      },
                      {
                        "bin_start": 572.6,
                        "bin_end": 1145.2,
                        "count": 0
                      },
                      {
                        "bin_start": 1145.2,
                        "bin_end": 1717.8000000000002,
                        "count": 0
                      },
                      {
                        "bin_start": 1717.8000000000002,
                        "bin_end": 2290.4,
                        "count": 0
                      },
                      {
                        "bin_start": 2290.4,
                        "bin_end": 2863,
                        "count": 0
                      },
                      {
                        "bin_start": 2863,
                        "bin_end": 3435.6000000000004,
                        "count": 0
                      },
                      {
                        "bin_start": 3435.6000000000004,
                        "bin_end": 4008.2000000000003,
                        "count": 0
                      },
                      {
                        "bin_start": 4008.2000000000003,
                        "bin_end": 4580.8,
                        "count": 0
                      },
                      {
                        "bin_start": 4580.8,
                        "bin_end": 5153.400000000001,
                        "count": 0
                      },
                      {
                        "bin_start": 5153.400000000001,
                        "bin_end": 5726,
                        "count": 1
                      }
                    ]
                  }
                },
                {
                  "name": "DOMESTICMIG2010",
                  "dtype": "int64",
                  "stats": {
                    "unique_count": 10,
                    "nan_count": 0,
                    "min": "-155",
                    "max": "856",
                    "histogram": [
                      {
                        "bin_start": -155,
                        "bin_end": -53.900000000000006,
                        "count": 4
                      },
                      {
                        "bin_start": -53.900000000000006,
                        "bin_end": 47.19999999999999,
                        "count": 3
                      },
                      {
                        "bin_start": 47.19999999999999,
                        "bin_end": 148.29999999999995,
                        "count": 1
                      },
                      {
                        "bin_start": 148.29999999999995,
                        "bin_end": 249.39999999999998,
                        "count": 0
                      },
                      {
                        "bin_start": 249.39999999999998,
                        "bin_end": 350.5,
                        "count": 0
                      },
                      {
                        "bin_start": 350.5,
                        "bin_end": 451.5999999999999,
                        "count": 0
                      },
                      {
                        "bin_start": 451.5999999999999,
                        "bin_end": 552.6999999999999,
                        "count": 1
                      },
                      {
                        "bin_start": 552.6999999999999,
                        "bin_end": 653.8,
                        "count": 0
                      },
                      {
                        "bin_start": 653.8,
                        "bin_end": 754.9,
                        "count": 0
                      },
                      {
                        "bin_start": 754.9,
                        "bin_end": 856,
                        "count": 1
                      }
                    ]
                  }
                },
                {
                  "name": "DOMESTICMIG2011",
                  "dtype": "int64",
                  "stats": {
                    "unique_count": 10,
                    "nan_count": 0,
                    "min": "-727",
                    "max": "2743",
                    "histogram": [
                      {
                        "bin_start": -727,
                        "bin_end": -380,
                        "count": 1
                      },
                      {
                        "bin_start": -380,
                        "bin_end": -33,
                        "count": 5
                      },
                      {
                        "bin_start": -33,
                        "bin_end": 314,
                        "count": 2
                      },
                      {
                        "bin_start": 314,
                        "bin_end": 661,
                        "count": 1
                      },
                      {
                        "bin_start": 661,
                        "bin_end": 1008,
                        "count": 0
                      },
                      {
                        "bin_start": 1008,
                        "bin_end": 1355,
                        "count": 0
                      },
                      {
                        "bin_start": 1355,
                        "bin_end": 1702,
                        "count": 0
                      },
                      {
                        "bin_start": 1702,
                        "bin_end": 2049,
                        "count": 0
                      },
                      {
                        "bin_start": 2049,
                        "bin_end": 2396,
                        "count": 0
                      },
                      {
                        "bin_start": 2396,
                        "bin_end": 2743,
                        "count": 1
                      }
                    ]
                  }
                },
                {
                  "name": "DOMESTICMIG2012",
                  "dtype": "int64",
                  "stats": {
                    "unique_count": 9,
                    "nan_count": 0,
                    "min": "-929",
                    "max": "3327",
                    "histogram": [
                      {
                        "bin_start": -929,
                        "bin_end": -503.4,
                        "count": 2
                      },
                      {
                        "bin_start": -503.4,
                        "bin_end": -77.79999999999995,
                        "count": 3
                      },
                      {
                        "bin_start": -77.79999999999995,
                        "bin_end": 347.8000000000002,
                        "count": 4
                      },
                      {
                        "bin_start": 347.8000000000002,
                        "bin_end": 773.4000000000001,
                        "count": 0
                      },
                      {
                        "bin_start": 773.4000000000001,
                        "bin_end": 1199,
                        "count": 0
                      },
                      {
                        "bin_start": 1199,
                        "bin_end": 1624.6000000000004,
                        "count": 0
                      },
                      {
                        "bin_start": 1624.6000000000004,
                        "bin_end": 2050.2000000000003,
                        "count": 0
                      },
                      {
                        "bin_start": 2050.2000000000003,
                        "bin_end": 2475.8,
                        "count": 0
                      },
                      {
                        "bin_start": 2475.8,
                        "bin_end": 2901.4,
                        "count": 0
                      },
                      {
                        "bin_start": 2901.4,
                        "bin_end": 3327,
                        "count": 1
                      }
                    ]
                  }
                },
                {
                  "name": "DOMESTICMIG2013",
                  "dtype": "int64",
                  "stats": {
                    "unique_count": 10,
                    "nan_count": 0,
                    "min": "-646",
                    "max": "4211",
                    "histogram": [
                      {
                        "bin_start": -646,
                        "bin_end": -160.3,
                        "count": 3
                      },
                      {
                        "bin_start": -160.3,
                        "bin_end": 325.4,
                        "count": 5
                      },
                      {
                        "bin_start": 325.4,
                        "bin_end": 811.0999999999999,
                        "count": 0
                      },
                      {
                        "bin_start": 811.0999999999999,
                        "bin_end": 1296.8,
                        "count": 0
                      },
                      {
                        "bin_start": 1296.8,
                        "bin_end": 1782.5,
                        "count": 0
                      },
                      {
                        "bin_start": 1782.5,
                        "bin_end": 2268.2,
                        "count": 1
                      },
                      {
                        "bin_start": 2268.2,
                        "bin_end": 2753.9,
                        "count": 0
                      },
                      {
                        "bin_start": 2753.9,
                        "bin_end": 3239.6,
                        "count": 0
                      },
                      {
                        "bin_start": 3239.6,
                        "bin_end": 3725.3,
                        "count": 0
                      },
                      {
                        "bin_start": 3725.3,
                        "bin_end": 4211,
                        "count": 1
                      }
                    ]
                  }
                },
                {
                  "name": "DOMESTICMIG2014",
                  "dtype": "int64",
                  "stats": {
                    "unique_count": 10,
                    "nan_count": 0,
                    "min": "-519",
                    "max": "3799",
                    "histogram": [
                      {
                        "bin_start": -519,
                        "bin_end": -87.19999999999999,
                        "count": 3
                      },
                      {
                        "bin_start": -87.19999999999999,
                        "bin_end": 344.6,
                        "count": 5
                      },
                      {
                        "bin_start": 344.6,
                        "bin_end": 776.4000000000001,
                        "count": 0
                      },
                      {
                        "bin_start": 776.4000000000001,
                        "bin_end": 1208.2,
                        "count": 0
                      },
                      {
                        "bin_start": 1208.2,
                        "bin_end": 1640,
                        "count": 0
                      },
                      {
                        "bin_start": 1640,
                        "bin_end": 2071.8,
                        "count": 0
                      },
                      {
                        "bin_start": 2071.8,
                        "bin_end": 2503.6,
                        "count": 0
                      },
                      {
                        "bin_start": 2503.6,
                        "bin_end": 2935.4,
                        "count": 1
                      },
                      {
                        "bin_start": 2935.4,
                        "bin_end": 3367.2000000000003,
                        "count": 0
                      },
                      {
                        "bin_start": 3367.2000000000003,
                        "bin_end": 3799,
                        "count": 1
                      }
                    ]
                  }
                },
                {
                  "name": "DOMESTICMIG2015",
                  "dtype": "int64",
                  "stats": {
                    "unique_count": 10,
                    "nan_count": 0,
                    "min": "-2268",
                    "max": "3469",
                    "histogram": [
                      {
                        "bin_start": -2268,
                        "bin_end": -1694.3,
                        "count": 1
                      },
                      {
                        "bin_start": -1694.3,
                        "bin_end": -1120.6,
                        "count": 0
                      },
                      {
                        "bin_start": -1120.6,
                        "bin_end": -546.8999999999999,
                        "count": 0
                      },
                      {
                        "bin_start": -546.8999999999999,
                        "bin_end": 26.800000000000182,
                        "count": 7
                      },
                      {
                        "bin_start": 26.800000000000182,
                        "bin_end": 600.5,
                        "count": 1
                      },
                      {
                        "bin_start": 600.5,
                        "bin_end": 1174.2000000000003,
                        "count": 0
                      },
                      {
                        "bin_start": 1174.2000000000003,
                        "bin_end": 1747.9000000000005,
                        "count": 0
                      },
                      {
                        "bin_start": 1747.9000000000005,
                        "bin_end": 2321.6000000000004,
                        "count": 0
                      },
                      {
                        "bin_start": 2321.6000000000004,
                        "bin_end": 2895.3,
                        "count": 0
                      },
                      {
                        "bin_start": 2895.3,
                        "bin_end": 3469,
                        "count": 1
                      }
                    ]
                  }
                },
                {
                  "name": "NETMIG2010",
                  "dtype": "int64",
                  "stats": {
                    "unique_count": 9,
                    "nan_count": 0,
                    "min": "-149",
                    "max": "1894",
                    "histogram": [
                      {
                        "bin_start": -149,
                        "bin_end": 55.30000000000001,
                        "count": 7
                      },
                      {
                        "bin_start": 55.30000000000001,
                        "bin_end": 259.6,
                        "count": 1
                      },
                      {
                        "bin_start": 259.6,
                        "bin_end": 463.9000000000001,
                        "count": 0
                      },
                      {
                        "bin_start": 463.9000000000001,
                        "bin_end": 668.2,
                        "count": 0
                      },
                      {
                        "bin_start": 668.2,
                        "bin_end": 872.5,
                        "count": 0
                      },
                      {
                        "bin_start": 872.5,
                        "bin_end": 1076.8000000000002,
                        "count": 1
                      },
                      {
                        "bin_start": 1076.8000000000002,
                        "bin_end": 1281.1000000000001,
                        "count": 0
                      },
                      {
                        "bin_start": 1281.1000000000001,
                        "bin_end": 1485.4,
                        "count": 0
                      },
                      {
                        "bin_start": 1485.4,
                        "bin_end": 1689.7,
                        "count": 0
                      },
                      {
                        "bin_start": 1689.7,
                        "bin_end": 1894,
                        "count": 1
                      }
                    ]
                  }
                },
                {
                  "name": "NETMIG2011",
                  "dtype": "int64",
                  "stats": {
                    "unique_count": 10,
                    "nan_count": 0,
                    "min": "-684",
                    "max": "4937",
                    "histogram": [
                      {
                        "bin_start": -684,
                        "bin_end": -121.89999999999998,
                        "count": 4
                      },
                      {
                        "bin_start": -121.89999999999998,
                        "bin_end": 440.20000000000005,
                        "count": 4
                      },
                      {
                        "bin_start": 440.20000000000005,
                        "bin_end": 1002.3000000000002,
                        "count": 0
                      },
                      {
                        "bin_start": 1002.3000000000002,
                        "bin_end": 1564.4,
                        "count": 0
                      },
                      {
                        "bin_start": 1564.4,
                        "bin_end": 2126.5,
                        "count": 0
                      },
                      {
                        "bin_start": 2126.5,
                        "bin_end": 2688.6000000000004,
                        "count": 0
                      },
                      {
                        "bin_start": 2688.6000000000004,
                        "bin_end": 3250.7000000000003,
                        "count": 1
                      },
                      {
                        "bin_start": 3250.7000000000003,
                        "bin_end": 3812.8,
                        "count": 0
                      },
                      {
                        "bin_start": 3812.8,
                        "bin_end": 4374.900000000001,
                        "count": 0
                      },
                      {
                        "bin_start": 4374.900000000001,
                        "bin_end": 4937,
                        "count": 1
                      }
                    ]
                  }
                },
                {
                  "name": "NETMIG2012",
                  "dtype": "int64",
                  "stats": {
                    "unique_count": 10,
                    "nan_count": 0,
                    "min": "-481",
                    "max": "3975",
                    "histogram": [
                      {
                        "bin_start": -481,
                        "bin_end": -35.39999999999998,
                        "count": 6
                      },
                      {
                        "bin_start": -35.39999999999998,
                        "bin_end": 410.20000000000005,
                        "count": 2
                      },
                      {
                        "bin_start": 410.20000000000005,
                        "bin_end": 855.8000000000002,
                        "count": 0
                      },
                      {
                        "bin_start": 855.8000000000002,
                        "bin_end": 1301.4,
                        "count": 0
                      },
                      {
                        "bin_start": 1301.4,
                        "bin_end": 1747,
                        "count": 0
                      },
                      {
                        "bin_start": 1747,
                        "bin_end": 2192.6000000000004,
                        "count": 0
                      },
                      {
                        "bin_start": 2192.6000000000004,
                        "bin_end": 2638.2000000000003,
                        "count": 0
                      },
                      {
                        "bin_start": 2638.2000000000003,
                        "bin_end": 3083.8,
                        "count": 0
                      },
                      {
                        "bin_start": 3083.8,
                        "bin_end": 3529.4,
                        "count": 1
                      },
                      {
                        "bin_start": 3529.4,
                        "bin_end": 3975,
                        "count": 1
                      }
                    ]
                  }
                },
                {
                  "name": "NETMIG2013",
                  "dtype": "int64",
                  "stats": {
                    "unique_count": 10,
                    "nan_count": 0,
                    "min": "-592",
                    "max": "6672",
                    "histogram": [
                      {
                        "bin_start": -592,
                        "bin_end": 134.39999999999998,
                        "count": 8
                      },
                      {
                        "bin_start": 134.39999999999998,
                        "bin_end": 860.8,
                        "count": 0
                      },
                      {
                        "bin_start": 860.8,
                        "bin_end": 1587.1999999999998,
                        "count": 0
                      },
                      {
                        "bin_start": 1587.1999999999998,
                        "bin_end": 2313.6,
                        "count": 0
                      },
                      {
                        "bin_start": 2313.6,
                        "bin_end": 3040,
                        "count": 0
                      },
                      {
                        "bin_start": 3040,
                        "bin_end": 3766.3999999999996,
                        "count": 0
                      },
                      {
                        "bin_start": 3766.3999999999996,
                        "bin_end": 4492.8,
                        "count": 1
                      },
                      {
                        "bin_start": 4492.8,
                        "bin_end": 5219.2,
                        "count": 0
                      },
                      {
                        "bin_start": 5219.2,
                        "bin_end": 5945.599999999999,
                        "count": 0
                      },
                      {
                        "bin_start": 5945.599999999999,
                        "bin_end": 6672,
                        "count": 1
                      }
                    ]
                  }
                },
                {
                  "name": "NETMIG2014",
                  "dtype": "int64",
                  "stats": {
                    "unique_count": 10,
                    "nan_count": 0,
                    "min": "-455",
                    "max": "8345",
                    "histogram": [
                      {
                        "bin_start": -455,
                        "bin_end": 425,
                        "count": 8
                      },
                      {
                        "bin_start": 425,
                        "bin_end": 1305,
                        "count": 0
                      },
                      {
                        "bin_start": 1305,
                        "bin_end": 2185,
                        "count": 0
                      },
                      {
                        "bin_start": 2185,
                        "bin_end": 3065,
                        "count": 0
                      },
                      {
                        "bin_start": 3065,
                        "bin_end": 3945,
                        "count": 0
                      },
                      {
                        "bin_start": 3945,
                        "bin_end": 4825,
                        "count": 1
                      },
                      {
                        "bin_start": 4825,
                        "bin_end": 5705,
                        "count": 0
                      },
                      {
                        "bin_start": 5705,
                        "bin_end": 6585,
                        "count": 0
                      },
                      {
                        "bin_start": 6585,
                        "bin_end": 7465,
                        "count": 0
                      },
                      {
                        "bin_start": 7465,
                        "bin_end": 8345,
                        "count": 1
                      }
                    ]
                  }
                },
                {
                  "name": "NETMIG2015",
                  "dtype": "int64",
                  "stats": {
                    "unique_count": 10,
                    "nan_count": 0,
                    "min": "-325",
                    "max": "3690",
                    "histogram": [
                      {
                        "bin_start": -325,
                        "bin_end": 76.5,
                        "count": 7
                      },
                      {
                        "bin_start": 76.5,
                        "bin_end": 478,
                        "count": 1
                      },
                      {
                        "bin_start": 478,
                        "bin_end": 879.5,
                        "count": 0
                      },
                      {
                        "bin_start": 879.5,
                        "bin_end": 1281,
                        "count": 0
                      },
                      {
                        "bin_start": 1281,
                        "bin_end": 1682.5,
                        "count": 0
                      },
                      {
                        "bin_start": 1682.5,
                        "bin_end": 2084,
                        "count": 0
                      },
                      {
                        "bin_start": 2084,
                        "bin_end": 2485.5,
                        "count": 0
                      },
                      {
                        "bin_start": 2485.5,
                        "bin_end": 2887,
                        "count": 0
                      },
                      {
                        "bin_start": 2887,
                        "bin_end": 3288.5,
                        "count": 0
                      },
                      {
                        "bin_start": 3288.5,
                        "bin_end": 3690,
                        "count": 2
                      }
                    ]
                  }
                },
                {
                  "name": "RESIDUAL2010",
                  "dtype": "int64",
                  "stats": {
                    "unique_count": 9,
                    "nan_count": 0,
                    "min": "-6",
                    "max": "18",
                    "histogram": [
                      {
                        "bin_start": -6,
                        "bin_end": -3.6,
                        "count": 2
                      },
                      {
                        "bin_start": -3.6,
                        "bin_end": -1.2000000000000002,
                        "count": 1
                      },
                      {
                        "bin_start": -1.2000000000000002,
                        "bin_end": 1.1999999999999993,
                        "count": 3
                      },
                      {
                        "bin_start": 1.1999999999999993,
                        "bin_end": 3.5999999999999996,
                        "count": 2
                      },
                      {
                        "bin_start": 3.5999999999999996,
                        "bin_end": 6,
                        "count": 0
                      },
                      {
                        "bin_start": 6,
                        "bin_end": 8.399999999999999,
                        "count": 1
                      },
                      {
                        "bin_start": 8.399999999999999,
                        "bin_end": 10.8,
                        "count": 0
                      },
                      {
                        "bin_start": 10.8,
                        "bin_end": 13.2,
                        "count": 0
                      },
                      {
                        "bin_start": 13.2,
                        "bin_end": 15.599999999999998,
                        "count": 0
                      },
                      {
                        "bin_start": 15.599999999999998,
                        "bin_end": 18,
                        "count": 1
                      }
                    ]
                  }
                },
                {
                  "name": "RESIDUAL2011",
                  "dtype": "int64",
                  "stats": {
                    "unique_count": 10,
                    "nan_count": 0,
                    "min": "-41",
                    "max": "174",
                    "histogram": [
                      {
                        "bin_start": -41,
                        "bin_end": -19.5,
                        "count": 1
                      },
                      {
                        "bin_start": -19.5,
                        "bin_end": 2,
                        "count": 2
                      },
                      {
                        "bin_start": 2,
                        "bin_end": 23.5,
                        "count": 3
                      },
                      {
                        "bin_start": 23.5,
                        "bin_end": 45,
                        "count": 0
                      },
                      {
                        "bin_start": 45,
                        "bin_end": 66.5,
                        "count": 2
                      },
                      {
                        "bin_start": 66.5,
                        "bin_end": 88,
                        "count": 0
                      },
                      {
                        "bin_start": 88,
                        "bin_end": 109.5,
                        "count": 0
                      },
                      {
                        "bin_start": 109.5,
                        "bin_end": 131,
                        "count": 0
                      },
                      {
                        "bin_start": 131,
                        "bin_end": 152.5,
                        "count": 1
                      },
                      {
                        "bin_start": 152.5,
                        "bin_end": 174,
                        "count": 1
                      }
                    ]
                  }
                },
                {
                  "name": "RESIDUAL2012",
                  "dtype": "int64",
                  "stats": {
                    "unique_count": 9,
                    "nan_count": 0,
                    "min": "-4",
                    "max": "301",
                    "histogram": [
                      {
                        "bin_start": -4,
                        "bin_end": 26.5,
                        "count": 9
                      },
                      {
                        "bin_start": 26.5,
                        "bin_end": 57,
                        "count": 0
                      },
                      {
                        "bin_start": 57,
                        "bin_end": 87.5,
                        "count": 0
                      },
                      {
                        "bin_start": 87.5,
                        "bin_end": 118,
                        "count": 0
                      },
                      {
                        "bin_start": 118,
                        "bin_end": 148.5,
                        "count": 0
                      },
                      {
                        "bin_start": 148.5,
                        "bin_end": 179,
                        "count": 0
                      },
                      {
                        "bin_start": 179,
                        "bin_end": 209.5,
                        "count": 0
                      },
                      {
                        "bin_start": 209.5,
                        "bin_end": 240,
                        "count": 0
                      },
                      {
                        "bin_start": 240,
                        "bin_end": 270.5,
                        "count": 0
                      },
                      {
                        "bin_start": 270.5,
                        "bin_end": 301,
                        "count": 1
                      }
                    ]
                  }
                },
                {
                  "name": "RESIDUAL2013",
                  "dtype": "int64",
                  "stats": {
                    "unique_count": 10,
                    "nan_count": 0,
                    "min": "-22",
                    "max": "677",
                    "histogram": [
                      {
                        "bin_start": -22,
                        "bin_end": 47.900000000000006,
                        "count": 8
                      },
                      {
                        "bin_start": 47.900000000000006,
                        "bin_end": 117.80000000000001,
                        "count": 1
                      },
                      {
                        "bin_start": 117.80000000000001,
                        "bin_end": 187.70000000000002,
                        "count": 0
                      },
                      {
                        "bin_start": 187.70000000000002,
                        "bin_end": 257.6,
                        "count": 0
                      },
                      {
                        "bin_start": 257.6,
                        "bin_end": 327.5,
                        "count": 0
                      },
                      {
                        "bin_start": 327.5,
                        "bin_end": 397.40000000000003,
                        "count": 0
                      },
                      {
                        "bin_start": 397.40000000000003,
                        "bin_end": 467.30000000000007,
                        "count": 0
                      },
                      {
                        "bin_start": 467.30000000000007,
                        "bin_end": 537.2,
                        "count": 0
                      },
                      {
                        "bin_start": 537.2,
                        "bin_end": 607.1,
                        "count": 0
                      },
                      {
                        "bin_start": 607.1,
                        "bin_end": 677,
                        "count": 1
                      }
                    ]
                  }
                },
                {
                  "name": "RESIDUAL2014",
                  "dtype": "int64",
                  "stats": {
                    "unique_count": 10,
                    "nan_count": 0,
                    "min": "-573",
                    "max": "434",
                    "histogram": [
                      {
                        "bin_start": -573,
                        "bin_end": -472.3,
                        "count": 1
                      },
                      {
                        "bin_start": -472.3,
                        "bin_end": -371.6,
                        "count": 0
                      },
                      {
                        "bin_start": -371.6,
                        "bin_end": -270.9,
                        "count": 0
                      },
                      {
                        "bin_start": -270.9,
                        "bin_end": -170.2,
                        "count": 0
                      },
                      {
                        "bin_start": -170.2,
                        "bin_end": -69.5,
                        "count": 1
                      },
                      {
                        "bin_start": -69.5,
                        "bin_end": 31.200000000000045,
                        "count": 7
                      },
                      {
                        "bin_start": 31.200000000000045,
                        "bin_end": 131.89999999999998,
                        "count": 0
                      },
                      {
                        "bin_start": 131.89999999999998,
                        "bin_end": 232.60000000000002,
                        "count": 0
                      },
                      {
                        "bin_start": 232.60000000000002,
                        "bin_end": 333.30000000000007,
                        "count": 0
                      },
                      {
                        "bin_start": 333.30000000000007,
                        "bin_end": 434,
                        "count": 1
                      }
                    ]
                  }
                },
                {
                  "name": "RESIDUAL2015",
                  "dtype": "int64",
                  "stats": {
                    "unique_count": 9,
                    "nan_count": 0,
                    "min": "-21",
                    "max": "1135",
                    "histogram": [
                      {
                        "bin_start": -21,
                        "bin_end": 94.6,
                        "count": 9
                      },
                      {
                        "bin_start": 94.6,
                        "bin_end": 210.2,
                        "count": 0
                      },
                      {
                        "bin_start": 210.2,
                        "bin_end": 325.79999999999995,
                        "count": 0
                      },
                      {
                        "bin_start": 325.79999999999995,
                        "bin_end": 441.4,
                        "count": 0
                      },
                      {
                        "bin_start": 441.4,
                        "bin_end": 557,
                        "count": 0
                      },
                      {
                        "bin_start": 557,
                        "bin_end": 672.5999999999999,
                        "count": 0
                      },
                      {
                        "bin_start": 672.5999999999999,
                        "bin_end": 788.1999999999999,
                        "count": 0
                      },
                      {
                        "bin_start": 788.1999999999999,
                        "bin_end": 903.8,
                        "count": 0
                      },
                      {
                        "bin_start": 903.8,
                        "bin_end": 1019.3999999999999,
                        "count": 0
                      },
                      {
                        "bin_start": 1019.3999999999999,
                        "bin_end": 1135,
                        "count": 1
                      }
                    ]
                  }
                },
                {
                  "name": "GQESTIMATESBASE2010",
                  "dtype": "int64",
                  "stats": {
                    "unique_count": 10,
                    "nan_count": 0,
                    "min": "333",
                    "max": "116185",
                    "histogram": [
                      {
                        "bin_start": 333,
                        "bin_end": 11918.2,
                        "count": 9
                      },
                      {
                        "bin_start": 11918.2,
                        "bin_end": 23503.4,
                        "count": 0
                      },
                      {
                        "bin_start": 23503.4,
                        "bin_end": 35088.600000000006,
                        "count": 0
                      },
                      {
                        "bin_start": 35088.600000000006,
                        "bin_end": 46673.8,
                        "count": 0
                      },
                      {
                        "bin_start": 46673.8,
                        "bin_end": 58259,
                        "count": 0
                      },
                      {
                        "bin_start": 58259,
                        "bin_end": 69844.20000000001,
                        "count": 0
                      },
                      {
                        "bin_start": 69844.20000000001,
                        "bin_end": 81429.40000000001,
                        "count": 0
                      },
                      {
                        "bin_start": 81429.40000000001,
                        "bin_end": 93014.6,
                        "count": 0
                      },
                      {
                        "bin_start": 93014.6,
                        "bin_end": 104599.8,
                        "count": 0
                      },
                      {
                        "bin_start": 104599.8,
                        "bin_end": 116185,
                        "count": 1
                      }
                    ]
                  }
                },
                {
                  "name": "GQESTIMATES2010",
                  "dtype": "int64",
                  "stats": {
                    "unique_count": 10,
                    "nan_count": 0,
                    "min": "333",
                    "max": "116212",
                    "histogram": [
                      {
                        "bin_start": 333,
                        "bin_end": 11920.9,
                        "count": 9
                      },
                      {
                        "bin_start": 11920.9,
                        "bin_end": 23508.8,
                        "count": 0
                      },
                      {
                        "bin_start": 23508.8,
                        "bin_end": 35096.7,
                        "count": 0
                      },
                      {
                        "bin_start": 35096.7,
                        "bin_end": 46684.6,
                        "count": 0
                      },
                      {
                        "bin_start": 46684.6,
                        "bin_end": 58272.5,
                        "count": 0
                      },
                      {
                        "bin_start": 58272.5,
                        "bin_end": 69860.4,
                        "count": 0
                      },
                      {
                        "bin_start": 69860.4,
                        "bin_end": 81448.3,
                        "count": 0
                      },
                      {
                        "bin_start": 81448.3,
                        "bin_end": 93036.2,
                        "count": 0
                      },
                      {
                        "bin_start": 93036.2,
                        "bin_end": 104624.09999999999,
                        "count": 0
                      },
                      {
                        "bin_start": 104624.09999999999,
                        "bin_end": 116212,
                        "count": 1
                      }
                    ]
                  }
                },
                {
                  "name": "GQESTIMATES2011",
                  "dtype": "int64",
                  "stats": {
                    "unique_count": 10,
                    "nan_count": 0,
                    "min": "333",
                    "max": "115560",
                    "histogram": [
                      {
                        "bin_start": 333,
                        "bin_end": 11855.7,
                        "count": 9
                      },
                      {
                        "bin_start": 11855.7,
                        "bin_end": 23378.4,
                        "count": 0
                      },
                      {
                        "bin_start": 23378.4,
                        "bin_end": 34901.100000000006,
                        "count": 0
                      },
                      {
                        "bin_start": 34901.100000000006,
                        "bin_end": 46423.8,
                        "count": 0
                      },
                      {
                        "bin_start": 46423.8,
                        "bin_end": 57946.5,
                        "count": 0
                      },
                      {
                        "bin_start": 57946.5,
                        "bin_end": 69469.20000000001,
                        "count": 0
                      },
                      {
                        "bin_start": 69469.20000000001,
                        "bin_end": 80991.90000000001,
                        "count": 0
                      },
                      {
                        "bin_start": 80991.90000000001,
                        "bin_end": 92514.6,
                        "count": 0
                      },
                      {
                        "bin_start": 92514.6,
                        "bin_end": 104037.3,
                        "count": 0
                      },
                      {
                        "bin_start": 104037.3,
                        "bin_end": 115560,
                        "count": 1
                      }
                    ]
                  }
                },
                {
                  "name": "GQESTIMATES2012",
                  "dtype": "int64",
                  "stats": {
                    "unique_count": 10,
                    "nan_count": 0,
                    "min": "333",
                    "max": "115666",
                    "histogram": [
                      {
                        "bin_start": 333,
                        "bin_end": 11866.3,
                        "count": 9
                      },
                      {
                        "bin_start": 11866.3,
                        "bin_end": 23399.6,
                        "count": 0
                      },
                      {
                        "bin_start": 23399.6,
                        "bin_end": 34932.899999999994,
                        "count": 0
                      },
                      {
                        "bin_start": 34932.899999999994,
                        "bin_end": 46466.2,
                        "count": 0
                      },
                      {
                        "bin_start": 46466.2,
                        "bin_end": 57999.5,
                        "count": 0
                      },
                      {
                        "bin_start": 57999.5,
                        "bin_end": 69532.79999999999,
                        "count": 0
                      },
                      {
                        "bin_start": 69532.79999999999,
                        "bin_end": 81066.09999999999,
                        "count": 0
                      },
                      {
                        "bin_start": 81066.09999999999,
                        "bin_end": 92599.4,
                        "count": 0
                      },
                      {
                        "bin_start": 92599.4,
                        "bin_end": 104132.7,
                        "count": 0
                      },
                      {
                        "bin_start": 104132.7,
                        "bin_end": 115666,
                        "count": 1
                      }
                    ]
                  }
                },
                {
                  "name": "GQESTIMATES2013",
                  "dtype": "int64",
                  "stats": {
                    "unique_count": 10,
                    "nan_count": 0,
                    "min": "333",
                    "max": "116963",
                    "histogram": [
                      {
                        "bin_start": 333,
                        "bin_end": 11996,
                        "count": 9
                      },
                      {
                        "bin_start": 11996,
                        "bin_end": 23659,
                        "count": 0
                      },
                      {
                        "bin_start": 23659,
                        "bin_end": 35322,
                        "count": 0
                      },
                      {
                        "bin_start": 35322,
                        "bin_end": 46985,
                        "count": 0
                      },
                      {
                        "bin_start": 46985,
                        "bin_end": 58648,
                        "count": 0
                      },
                      {
                        "bin_start": 58648,
                        "bin_end": 70311,
                        "count": 0
                      },
                      {
                        "bin_start": 70311,
                        "bin_end": 81974,
                        "count": 0
                      },
                      {
                        "bin_start": 81974,
                        "bin_end": 93637,
                        "count": 0
                      },
                      {
                        "bin_start": 93637,
                        "bin_end": 105300,
                        "count": 0
                      },
                      {
                        "bin_start": 105300,
                        "bin_end": 116963,
                        "count": 1
                      }
                    ]
                  }
                },
                {
                  "name": "GQESTIMATES2014",
                  "dtype": "int64",
                  "stats": {
                    "unique_count": 10,
                    "nan_count": 0,
                    "min": "333",
                    "max": "119088",
                    "histogram": [
                      {
                        "bin_start": 333,
                        "bin_end": 12208.5,
                        "count": 9
                      },
                      {
                        "bin_start": 12208.5,
                        "bin_end": 24084,
                        "count": 0
                      },
                      {
                        "bin_start": 24084,
                        "bin_end": 35959.5,
                        "count": 0
                      },
                      {
                        "bin_start": 35959.5,
                        "bin_end": 47835,
                        "count": 0
                      },
                      {
                        "bin_start": 47835,
                        "bin_end": 59710.5,
                        "count": 0
                      },
                      {
                        "bin_start": 59710.5,
                        "bin_end": 71586,
                        "count": 0
                      },
                      {
                        "bin_start": 71586,
                        "bin_end": 83461.5,
                        "count": 0
                      },
                      {
                        "bin_start": 83461.5,
                        "bin_end": 95337,
                        "count": 0
                      },
                      {
                        "bin_start": 95337,
                        "bin_end": 107212.5,
                        "count": 0
                      },
                      {
                        "bin_start": 107212.5,
                        "bin_end": 119088,
                        "count": 1
                      }
                    ]
                  }
                },
                {
                  "name": "GQESTIMATES2015",
                  "dtype": "int64",
                  "stats": {
                    "unique_count": 10,
                    "nan_count": 0,
                    "min": "333",
                    "max": "119599",
                    "histogram": [
                      {
                        "bin_start": 333,
                        "bin_end": 12259.6,
                        "count": 9
                      },
                      {
                        "bin_start": 12259.6,
                        "bin_end": 24186.2,
                        "count": 0
                      },
                      {
                        "bin_start": 24186.2,
                        "bin_end": 36112.8,
                        "count": 0
                      },
                      {
                        "bin_start": 36112.8,
                        "bin_end": 48039.4,
                        "count": 0
                      },
                      {
                        "bin_start": 48039.4,
                        "bin_end": 59966,
                        "count": 0
                      },
                      {
                        "bin_start": 59966,
                        "bin_end": 71892.6,
                        "count": 0
                      },
                      {
                        "bin_start": 71892.6,
                        "bin_end": 83819.2,
                        "count": 0
                      },
                      {
                        "bin_start": 83819.2,
                        "bin_end": 95745.8,
                        "count": 0
                      },
                      {
                        "bin_start": 95745.8,
                        "bin_end": 107672.40000000001,
                        "count": 0
                      },
                      {
                        "bin_start": 107672.40000000001,
                        "bin_end": 119599,
                        "count": 1
                      }
                    ]
                  }
                },
                {
                  "name": "RBIRTH2011",
                  "dtype": "float64",
                  "stats": {
                    "unique_count": 10,
                    "nan_count": 0,
                    "min": "11.572789388",
                    "max": "15.709239636",
                    "histogram": [
                      {
                        "bin_start": 11.572789388,
                        "bin_end": 11.9864344128,
                        "count": 5
                      },
                      {
                        "bin_start": 11.9864344128,
                        "bin_end": 12.4000794376,
                        "count": 1
                      },
                      {
                        "bin_start": 12.4000794376,
                        "bin_end": 12.8137244624,
                        "count": 1
                      },
                      {
                        "bin_start": 12.8137244624,
                        "bin_end": 13.2273694872,
                        "count": 1
                      },
                      {
                        "bin_start": 13.2273694872,
                        "bin_end": 13.641014512,
                        "count": 1
                      },
                      {
                        "bin_start": 13.641014512,
                        "bin_end": 14.0546595368,
                        "count": 0
                      },
                      {
                        "bin_start": 14.0546595368,
                        "bin_end": 14.4683045616,
                        "count": 0
                      },
                      {
                        "bin_start": 14.4683045616,
                        "bin_end": 14.8819495864,
                        "count": 0
                      },
                      {
                        "bin_start": 14.8819495864,
                        "bin_end": 15.2955946112,
                        "count": 0
                      },
                      {
                        "bin_start": 15.2955946112,
                        "bin_end": 15.709239636,
                        "count": 1
                      }
                    ]
                  }
                },
                {
                  "name": "RBIRTH2012",
                  "dtype": "float64",
                  "stats": {
                    "unique_count": 10,
                    "nan_count": 0,
                    "min": "10.798898072",
                    "max": "12.295756232",
                    "histogram": [
                      {
                        "bin_start": 10.798898072,
                        "bin_end": 10.948583888,
                        "count": 1
                      },
                      {
                        "bin_start": 10.948583888,
                        "bin_end": 11.098269704,
                        "count": 2
                      },
                      {
                        "bin_start": 11.098269704,
                        "bin_end": 11.24795552,
                        "count": 1
                      },
                      {
                        "bin_start": 11.24795552,
                        "bin_end": 11.397641336,
                        "count": 0
                      },
                      {
                        "bin_start": 11.397641336,
                        "bin_end": 11.547327152000001,
                        "count": 3
                      },
                      {
                        "bin_start": 11.547327152000001,
                        "bin_end": 11.697012968000001,
                        "count": 0
                      },
                      {
                        "bin_start": 11.697012968000001,
                        "bin_end": 11.846698784,
                        "count": 1
                      },
                      {
                        "bin_start": 11.846698784,
                        "bin_end": 11.9963846,
                        "count": 0
                      },
                      {
                        "bin_start": 11.9963846,
                        "bin_end": 12.146070416,
                        "count": 0
                      },
                      {
                        "bin_start": 12.146070416,
                        "bin_end": 12.295756232,
                        "count": 2
                      }
                    ]
                  }
                },
                {
                  "name": "RBIRTH2013",
                  "dtype": "float64",
                  "stats": {
                    "unique_count": 10,
                    "nan_count": 0,
                    "min": "10.416194097",
                    "max": "12.432890647",
                    "histogram": [
                      {
                        "bin_start": 10.416194097,
                        "bin_end": 10.617863752,
                        "count": 2
                      },
                      {
                        "bin_start": 10.617863752,
                        "bin_end": 10.819533407,
                        "count": 0
                      },
                      {
                        "bin_start": 10.819533407,
                        "bin_end": 11.021203062,
                        "count": 0
                      },
                      {
                        "bin_start": 11.021203062,
                        "bin_end": 11.222872717,
                        "count": 3
                      },
                      {
                        "bin_start": 11.222872717,
                        "bin_end": 11.424542372000001,
                        "count": 0
                      },
                      {
                        "bin_start": 11.424542372000001,
                        "bin_end": 11.626212027000001,
                        "count": 1
                      },
                      {
                        "bin_start": 11.626212027000001,
                        "bin_end": 11.827881682000001,
                        "count": 1
                      },
                      {
                        "bin_start": 11.827881682000001,
                        "bin_end": 12.029551337000001,
                        "count": 2
                      },
                      {
                        "bin_start": 12.029551337000001,
                        "bin_end": 12.231220992,
                        "count": 0
                      },
                      {
                        "bin_start": 12.231220992,
                        "bin_end": 12.432890647,
                        "count": 1
                      }
                    ]
                  }
                },
                {
                  "name": "RBIRTH2014",
                  "dtype": "float64",
                  "stats": {
                    "unique_count": 10,
                    "nan_count": 0,
                    "min": "9.6675838477",
                    "max": "13.173150455",
                    "histogram": [
                      {
                        "bin_start": 9.6675838477,
                        "bin_end": 10.01814050843,
                        "count": 1
                      },
                      {
                        "bin_start": 10.01814050843,
                        "bin_end": 10.368697169159999,
                        "count": 0
                      },
                      {
                        "bin_start": 10.368697169159999,
                        "bin_end": 10.71925382989,
                        "count": 1
                      },
                      {
                        "bin_start": 10.71925382989,
                        "bin_end": 11.06981049062,
                        "count": 2
                      },
                      {
                        "bin_start": 11.06981049062,
                        "bin_end": 11.42036715135,
                        "count": 2
                      },
                      {
                        "bin_start": 11.42036715135,
                        "bin_end": 11.77092381208,
                        "count": 1
                      },
                      {
                        "bin_start": 11.77092381208,
                        "bin_end": 12.12148047281,
                        "count": 1
                      },
                      {
                        "bin_start": 12.12148047281,
                        "bin_end": 12.472037133539999,
                        "count": 1
                      },
                      {
                        "bin_start": 12.472037133539999,
                        "bin_end": 12.82259379427,
                        "count": 0
                      },
                      {
                        "bin_start": 12.82259379427,
                        "bin_end": 13.173150455,
                        "count": 1
                      }
                    ]
                  }
                },
                {
                  "name": "RBIRTH2015",
                  "dtype": "float64",
                  "stats": {
                    "unique_count": 10,
                    "nan_count": 0,
                    "min": "10.093051178",
                    "max": "12.713331684",
                    "histogram": [
                      {
                        "bin_start": 10.093051178,
                        "bin_end": 10.3550792286,
                        "count": 1
                      },
                      {
                        "bin_start": 10.3550792286,
                        "bin_end": 10.617107279199999,
                        "count": 1
                      },
                      {
                        "bin_start": 10.617107279199999,
                        "bin_end": 10.8791353298,
                        "count": 1
                      },
                      {
                        "bin_start": 10.8791353298,
                        "bin_end": 11.1411633804,
                        "count": 1
                      },
                      {
                        "bin_start": 11.1411633804,
                        "bin_end": 11.403191431,
                        "count": 1
                      },
                      {
                        "bin_start": 11.403191431,
                        "bin_end": 11.6652194816,
                        "count": 2
                      },
                      {
                        "bin_start": 11.6652194816,
                        "bin_end": 11.9272475322,
                        "count": 0
                      },
                      {
                        "bin_start": 11.9272475322,
                        "bin_end": 12.1892755828,
                        "count": 1
                      },
                      {
                        "bin_start": 12.1892755828,
                        "bin_end": 12.4513036334,
                        "count": 0
                      },
                      {
                        "bin_start": 12.4513036334,
                        "bin_end": 12.713331684,
                        "count": 2
                      }
                    ]
                  }
                },
                {
                  "name": "RDEATH2011",
                  "dtype": "float64",
                  "stats": {
                    "unique_count": 10,
                    "nan_count": 0,
                    "min": "9.2254783329",
                    "max": "12.953253734",
                    "histogram": [
                      {
                        "bin_start": 9.2254783329,
                        "bin_end": 9.59825587301,
                        "count": 1
                      },
                      {
                        "bin_start": 9.59825587301,
                        "bin_end": 9.97103341312,
                        "count": 2
                      },
                      {
                        "bin_start": 9.97103341312,
                        "bin_end": 10.343810953230001,
                        "count": 1
                      },
                      {
                        "bin_start": 10.343810953230001,
                        "bin_end": 10.71658849334,
                        "count": 0
                      },
                      {
                        "bin_start": 10.71658849334,
                        "bin_end": 11.08936603345,
                        "count": 0
                      },
                      {
                        "bin_start": 11.08936603345,
                        "bin_end": 11.46214357356,
                        "count": 1
                      },
                      {
                        "bin_start": 11.46214357356,
                        "bin_end": 11.834921113670001,
                        "count": 1
                      },
                      {
                        "bin_start": 11.834921113670001,
                        "bin_end": 12.20769865378,
                        "count": 1
                      },
                      {
                        "bin_start": 12.20769865378,
                        "bin_end": 12.58047619389,
                        "count": 2
                      },
                      {
                        "bin_start": 12.58047619389,
                        "bin_end": 12.953253734,
                        "count": 1
                      }
                    ]
                  }
                },
                {
                  "name": "RDEATH2012",
                  "dtype": "float64",
                  "stats": {
                    "unique_count": 10,
                    "nan_count": 0,
                    "min": "9.9667157311",
                    "max": "13.956631604",
                    "histogram": [
                      {
                        "bin_start": 9.9667157311,
                        "bin_end": 10.365707318390001,
                        "count": 4
                      },
                      {
                        "bin_start": 10.365707318390001,
                        "bin_end": 10.764698905680001,
                        "count": 2
                      },
                      {
                        "bin_start": 10.764698905680001,
                        "bin_end": 11.163690492970002,
                        "count": 1
                      },
                      {
                        "bin_start": 11.163690492970002,
                        "bin_end": 11.56268208026,
                        "count": 1
                      },
                      {
                        "bin_start": 11.56268208026,
                        "bin_end": 11.96167366755,
                        "count": 0
                      },
                      {
                        "bin_start": 11.96167366755,
                        "bin_end": 12.36066525484,
                        "count": 0
                      },
                      {
                        "bin_start": 12.36066525484,
                        "bin_end": 12.759656842130001,
                        "count": 0
                      },
                      {
                        "bin_start": 12.759656842130001,
                        "bin_end": 13.158648429420001,
                        "count": 0
                      },
                      {
                        "bin_start": 13.158648429420001,
                        "bin_end": 13.55764001671,
                        "count": 1
                      },
                      {
                        "bin_start": 13.55764001671,
                        "bin_end": 13.956631604,
                        "count": 1
                      }
                    ]
                  }
                },
                {
                  "name": "RDEATH2013",
                  "dtype": "float64",
                  "stats": {
                    "unique_count": 10,
                    "nan_count": 0,
                    "min": "9.8671411748",
                    "max": "13.249692208",
                    "histogram": [
                      {
                        "bin_start": 9.8671411748,
                        "bin_end": 10.20539627812,
                        "count": 2
                      },
                      {
                        "bin_start": 10.20539627812,
                        "bin_end": 10.54365138144,
                        "count": 1
                      },
                      {
                        "bin_start": 10.54365138144,
                        "bin_end": 10.88190648476,
                        "count": 2
                      },
                      {
                        "bin_start": 10.88190648476,
                        "bin_end": 11.22016158808,
                        "count": 0
                      },
                      {
                        "bin_start": 11.22016158808,
                        "bin_end": 11.558416691400001,
                        "count": 1
                      },
                      {
                        "bin_start": 11.558416691400001,
                        "bin_end": 11.89667179472,
                        "count": 0
                      },
                      {
                        "bin_start": 11.89667179472,
                        "bin_end": 12.234926898040001,
                        "count": 1
                      },
                      {
                        "bin_start": 12.234926898040001,
                        "bin_end": 12.573182001360001,
                        "count": 1
                      },
                      {
                        "bin_start": 12.573182001360001,
                        "bin_end": 12.911437104680001,
                        "count": 1
                      },
                      {
                        "bin_start": 12.911437104680001,
                        "bin_end": 13.249692208,
                        "count": 1
                      }
                    ]
                  }
                },
                {
                  "name": "RDEATH2014",
                  "dtype": "float64",
                  "stats": {
                    "unique_count": 10,
                    "nan_count": 0,
                    "min": "9.1363933",
                    "max": "14.397771424",
                    "histogram": [
                      {
                        "bin_start": 9.1363933,
                        "bin_end": 9.6625311124,
                        "count": 3
                      },
                      {
                        "bin_start": 9.6625311124,
                        "bin_end": 10.1886689248,
                        "count": 0
                      },
                      {
                        "bin_start": 10.1886689248,
                        "bin_end": 10.7148067372,
                        "count": 3
                      },
                      {
                        "bin_start": 10.7148067372,
                        "bin_end": 11.2409445496,
                        "count": 0
                      },
                      {
                        "bin_start": 11.2409445496,
                        "bin_end": 11.767082362,
                        "count": 1
                      },
                      {
                        "bin_start": 11.767082362,
                        "bin_end": 12.2932201744,
                        "count": 1
                      },
                      {
                        "bin_start": 12.2932201744,
                        "bin_end": 12.8193579868,
                        "count": 0
                      },
                      {
                        "bin_start": 12.8193579868,
                        "bin_end": 13.3454957992,
                        "count": 1
                      },
                      {
                        "bin_start": 13.3454957992,
                        "bin_end": 13.8716336116,
                        "count": 0
                      },
                      {
                        "bin_start": 13.8716336116,
                        "bin_end": 14.397771424,
                        "count": 1
                      }
                    ]
                  }
                },
                {
                  "name": "RDEATH2015",
                  "dtype": "float64",
                  "stats": {
                    "unique_count": 10,
                    "nan_count": 0,
                    "min": "8.4420221083",
                    "max": "13.406674001",
                    "histogram": [
                      {
                        "bin_start": 8.4420221083,
                        "bin_end": 8.93848729757,
                        "count": 1
                      },
                      {
                        "bin_start": 8.93848729757,
                        "bin_end": 9.43495248684,
                        "count": 0
                      },
                      {
                        "bin_start": 9.43495248684,
                        "bin_end": 9.93141767611,
                        "count": 2
                      },
                      {
                        "bin_start": 9.93141767611,
                        "bin_end": 10.42788286538,
                        "count": 3
                      },
                      {
                        "bin_start": 10.42788286538,
                        "bin_end": 10.92434805465,
                        "count": 0
                      },
                      {
                        "bin_start": 10.92434805465,
                        "bin_end": 11.420813243920001,
                        "count": 0
                      },
                      {
                        "bin_start": 11.420813243920001,
                        "bin_end": 11.91727843319,
                        "count": 2
                      },
                      {
                        "bin_start": 11.91727843319,
                        "bin_end": 12.41374362246,
                        "count": 1
                      },
                      {
                        "bin_start": 12.41374362246,
                        "bin_end": 12.910208811730001,
                        "count": 0
                      },
                      {
                        "bin_start": 12.910208811730001,
                        "bin_end": 13.406674001,
                        "count": 1
                      }
                    ]
                  }
                },
                {
                  "name": "RNATURALINC2011",
                  "dtype": "float64",
                  "stats": {
                    "unique_count": 10,
                    "nan_count": 0,
                    "min": "-1.174898298",
                    "max": "3.4393009853",
                    "histogram": [
                      {
                        "bin_start": -1.174898298,
                        "bin_end": -0.71347836967,
                        "count": 1
                      },
                      {
                        "bin_start": -0.71347836967,
                        "bin_end": -0.2520584413400001,
                        "count": 1
                      },
                      {
                        "bin_start": -0.2520584413400001,
                        "bin_end": 0.2093614869899998,
                        "count": 0
                      },
                      {
                        "bin_start": 0.2093614869899998,
                        "bin_end": 0.6707814153199998,
                        "count": 2
                      },
                      {
                        "bin_start": 0.6707814153199998,
                        "bin_end": 1.1322013436499998,
                        "count": 1
                      },
                      {
                        "bin_start": 1.1322013436499998,
                        "bin_end": 1.5936212719799996,
                        "count": 0
                      },
                      {
                        "bin_start": 1.5936212719799996,
                        "bin_end": 2.05504120031,
                        "count": 1
                      },
                      {
                        "bin_start": 2.05504120031,
                        "bin_end": 2.5164611286399996,
                        "count": 2
                      },
                      {
                        "bin_start": 2.5164611286399996,
                        "bin_end": 2.97788105697,
                        "count": 0
                      },
                      {
                        "bin_start": 2.97788105697,
                        "bin_end": 3.4393009853,
                        "count": 2
                      }
                    ]
                  }
                },
                {
                  "name": "RNATURALINC2012",
                  "dtype": "float64",
                  "stats": {
                    "unique_count": 10,
                    "nan_count": 0,
                    "min": "-2.409355351",
                    "max": "2.2262203842",
                    "histogram": [
                      {
                        "bin_start": -2.409355351,
                        "bin_end": -1.94579777748,
                        "count": 1
                      },
                      {
                        "bin_start": -1.94579777748,
                        "bin_end": -1.48224020396,
                        "count": 0
                      },
                      {
                        "bin_start": -1.48224020396,
                        "bin_end": -1.0186826304399998,
                        "count": 1
                      },
                      {
                        "bin_start": -1.0186826304399998,
                        "bin_end": -0.5551250569199999,
                        "count": 0
                      },
                      {
                        "bin_start": -0.5551250569199999,
                        "bin_end": -0.09156748339999998,
                        "count": 0
                      },
                      {
                        "bin_start": -0.09156748339999998,
                        "bin_end": 0.37199009012000017,
                        "count": 3
                      },
                      {
                        "bin_start": 0.37199009012000017,
                        "bin_end": 0.8355476636399999,
                        "count": 1
                      },
                      {
                        "bin_start": 0.8355476636399999,
                        "bin_end": 1.29910523716,
                        "count": 2
                      },
                      {
                        "bin_start": 1.29910523716,
                        "bin_end": 1.7626628106799997,
                        "count": 0
                      },
                      {
                        "bin_start": 1.7626628106799997,
                        "bin_end": 2.2262203842,
                        "count": 2
                      }
                    ]
                  }
                },
                {
                  "name": "RNATURALINC2013",
                  "dtype": "float64",
                  "stats": {
                    "unique_count": 10,
                    "nan_count": 0,
                    "min": "-1.40704696",
                    "max": "1.4709812409",
                    "histogram": [
                      {
                        "bin_start": -1.40704696,
                        "bin_end": -1.11924413991,
                        "count": 1
                      },
                      {
                        "bin_start": -1.11924413991,
                        "bin_end": -0.8314413198199999,
                        "count": 3
                      },
                      {
                        "bin_start": -0.8314413198199999,
                        "bin_end": -0.5436384997299999,
                        "count": 0
                      },
                      {
                        "bin_start": -0.5436384997299999,
                        "bin_end": -0.25583567963999987,
                        "count": 1
                      },
                      {
                        "bin_start": -0.25583567963999987,
                        "bin_end": 0.03196714045000015,
                        "count": 1
                      },
                      {
                        "bin_start": 0.03196714045000015,
                        "bin_end": 0.3197699605400002,
                        "count": 0
                      },
                      {
                        "bin_start": 0.3197699605400002,
                        "bin_end": 0.6075727806300002,
                        "count": 0
                      },
                      {
                        "bin_start": 0.6075727806300002,
                        "bin_end": 0.8953756007200002,
                        "count": 0
                      },
                      {
                        "bin_start": 0.8953756007200002,
                        "bin_end": 1.1831784208100002,
                        "count": 2
                      },
                      {
                        "bin_start": 1.1831784208100002,
                        "bin_end": 1.4709812409,
                        "count": 2
                      }
                    ]
                  }
                },
                {
                  "name": "RNATURALINC2014",
                  "dtype": "float64",
                  "stats": {
                    "unique_count": 10,
                    "nan_count": 0,
                    "min": "-2.052635437",
                    "max": "2.1572039736",
                    "histogram": [
                      {
                        "bin_start": -2.052635437,
                        "bin_end": -1.6316514959400001,
                        "count": 2
                      },
                      {
                        "bin_start": -1.6316514959400001,
                        "bin_end": -1.21066755488,
                        "count": 0
                      },
                      {
                        "bin_start": -1.21066755488,
                        "bin_end": -0.7896836138199999,
                        "count": 0
                      },
                      {
                        "bin_start": -0.7896836138199999,
                        "bin_end": -0.3686996727599998,
                        "count": 1
                      },
                      {
                        "bin_start": -0.3686996727599998,
                        "bin_end": 0.052284268300000214,
                        "count": 0
                      },
                      {
                        "bin_start": 0.052284268300000214,
                        "bin_end": 0.47326820936000047,
                        "count": 1
                      },
                      {
                        "bin_start": 0.47326820936000047,
                        "bin_end": 0.8942521504200003,
                        "count": 2
                      },
                      {
                        "bin_start": 0.8942521504200003,
                        "bin_end": 1.3152360914800005,
                        "count": 0
                      },
                      {
                        "bin_start": 1.3152360914800005,
                        "bin_end": 1.7362200325400008,
                        "count": 2
                      },
                      {
                        "bin_start": 1.7362200325400008,
                        "bin_end": 2.1572039736,
                        "count": 2
                      }
                    ]
                  }
                },
                {
                  "name": "RNATURALINC2015",
                  "dtype": "float64",
                  "stats": {
                    "unique_count": 10,
                    "nan_count": 0,
                    "min": "-1.500825454",
                    "max": "2.404258973",
                    "histogram": [
                      {
                        "bin_start": -1.500825454,
                        "bin_end": -1.1103170112999998,
                        "count": 1
                      },
                      {
                        "bin_start": -1.1103170112999998,
                        "bin_end": -0.7198085685999999,
                        "count": 1
                      },
                      {
                        "bin_start": -0.7198085685999999,
                        "bin_end": -0.3293001258999999,
                        "count": 1
                      },
                      {
                        "bin_start": -0.3293001258999999,
                        "bin_end": 0.06120831680000016,
                        "count": 0
                      },
                      {
                        "bin_start": 0.06120831680000016,
                        "bin_end": 0.45171675950000023,
                        "count": 1
                      },
                      {
                        "bin_start": 0.45171675950000023,
                        "bin_end": 0.8422252022000001,
                        "count": 0
                      },
                      {
                        "bin_start": 0.8422252022000001,
                        "bin_end": 1.2327336449000004,
                        "count": 2
                      },
                      {
                        "bin_start": 1.2327336449000004,
                        "bin_end": 1.6232420876000002,
                        "count": 2
                      },
                      {
                        "bin_start": 1.6232420876000002,
                        "bin_end": 2.0137505303000003,
                        "count": 1
                      },
                      {
                        "bin_start": 2.0137505303000003,
                        "bin_end": 2.404258973,
                        "count": 1
                      }
                    ]
                  }
                },
                {
                  "name": "RINTERNATIONALMIG2011",
                  "dtype": "float64",
                  "stats": {
                    "unique_count": 10,
                    "nan_count": 0,
                    "min": "-0.146608756",
                    "max": "1.9520356944",
                    "histogram": [
                      {
                        "bin_start": -0.146608756,
                        "bin_end": 0.06325568904000001,
                        "count": 2
                      },
                      {
                        "bin_start": 0.06325568904000001,
                        "bin_end": 0.27312013408,
                        "count": 1
                      },
                      {
                        "bin_start": 0.27312013408,
                        "bin_end": 0.48298457912000003,
                        "count": 3
                      },
                      {
                        "bin_start": 0.48298457912000003,
                        "bin_end": 0.69284902416,
                        "count": 0
                      },
                      {
                        "bin_start": 0.69284902416,
                        "bin_end": 0.9027134692000001,
                        "count": 0
                      },
                      {
                        "bin_start": 0.9027134692000001,
                        "bin_end": 1.11257791424,
                        "count": 3
                      },
                      {
                        "bin_start": 1.11257791424,
                        "bin_end": 1.32244235928,
                        "count": 0
                      },
                      {
                        "bin_start": 1.32244235928,
                        "bin_end": 1.53230680432,
                        "count": 0
                      },
                      {
                        "bin_start": 1.53230680432,
                        "bin_end": 1.7421712493600001,
                        "count": 0
                      },
                      {
                        "bin_start": 1.7421712493600001,
                        "bin_end": 1.9520356944,
                        "count": 1
                      }
                    ]
                  }
                },
                {
                  "name": "RINTERNATIONALMIG2012",
                  "dtype": "float64",
                  "stats": {
                    "unique_count": 10,
                    "nan_count": 0,
                    "min": "-0.257423922",
                    "max": "2.3546032494",
                    "histogram": [
                      {
                        "bin_start": -0.257423922,
                        "bin_end": 0.003778795140000013,
                        "count": 1
                      },
                      {
                        "bin_start": 0.003778795140000013,
                        "bin_end": 0.26498151228000005,
                        "count": 1
                      },
                      {
                        "bin_start": 0.26498151228000005,
                        "bin_end": 0.5261842294200001,
                        "count": 3
                      },
                      {
                        "bin_start": 0.5261842294200001,
                        "bin_end": 0.7873869465600001,
                        "count": 1
                      },
                      {
                        "bin_start": 0.7873869465600001,
                        "bin_end": 1.0485896637,
                        "count": 3
                      },
                      {
                        "bin_start": 1.0485896637,
                        "bin_end": 1.3097923808400003,
                        "count": 0
                      },
                      {
                        "bin_start": 1.3097923808400003,
                        "bin_end": 1.5709950979800003,
                        "count": 0
                      },
                      {
                        "bin_start": 1.5709950979800003,
                        "bin_end": 1.8321978151200002,
                        "count": 0
                      },
                      {
                        "bin_start": 1.8321978151200002,
                        "bin_end": 2.0934005322600004,
                        "count": 0
                      },
                      {
                        "bin_start": 2.0934005322600004,
                        "bin_end": 2.3546032494,
                        "count": 1
                      }
                    ]
                  }
                },
                {
                  "name": "RINTERNATIONALMIG2013",
                  "dtype": "float64",
                  "stats": {
                    "unique_count": 10,
                    "nan_count": 0,
                    "min": "-0.110840168",
                    "max": "2.6372798342",
                    "histogram": [
                      {
                        "bin_start": -0.110840168,
                        "bin_end": 0.16397183222,
                        "count": 2
                      },
                      {
                        "bin_start": 0.16397183222,
                        "bin_end": 0.43878383244,
                        "count": 2
                      },
                      {
                        "bin_start": 0.43878383244,
                        "bin_end": 0.71359583266,
                        "count": 1
                      },
                      {
                        "bin_start": 0.71359583266,
                        "bin_end": 0.9884078328800001,
                        "count": 3
                      },
                      {
                        "bin_start": 0.9884078328800001,
                        "bin_end": 1.2632198331000002,
                        "count": 1
                      },
                      {
                        "bin_start": 1.2632198331000002,
                        "bin_end": 1.53803183332,
                        "count": 0
                      },
                      {
                        "bin_start": 1.53803183332,
                        "bin_end": 1.8128438335400001,
                        "count": 0
                      },
                      {
                        "bin_start": 1.8128438335400001,
                        "bin_end": 2.08765583376,
                        "count": 0
                      },
                      {
                        "bin_start": 2.08765583376,
                        "bin_end": 2.36246783398,
                        "count": 0
                      },
                      {
                        "bin_start": 2.36246783398,
                        "bin_end": 2.6372798342,
                        "count": 1
                      }
                    ]
                  }
                },
                {
                  "name": "RINTERNATIONALMIG2014",
                  "dtype": "float64",
                  "stats": {
                    "unique_count": 10,
                    "nan_count": 0,
                    "min": "-0.07436603",
                    "max": "2.8894999301",
                    "histogram": [
                      {
                        "bin_start": -0.07436603,
                        "bin_end": 0.22202056601,
                        "count": 2
                      },
                      {
                        "bin_start": 0.22202056601,
                        "bin_end": 0.51840716202,
                        "count": 2
                      },
                      {
                        "bin_start": 0.51840716202,
                        "bin_end": 0.81479375803,
                        "count": 1
                      },
                      {
                        "bin_start": 0.81479375803,
                        "bin_end": 1.11118035404,
                        "count": 3
                      },
                      {
                        "bin_start": 1.11118035404,
                        "bin_end": 1.40756695005,
                        "count": 1
                      },
                      {
                        "bin_start": 1.40756695005,
                        "bin_end": 1.70395354606,
                        "count": 0
                      },
                      {
                        "bin_start": 1.70395354606,
                        "bin_end": 2.0003401420699998,
                        "count": 0
                      },
                      {
                        "bin_start": 2.0003401420699998,
                        "bin_end": 2.29672673808,
                        "count": 0
                      },
                      {
                        "bin_start": 2.29672673808,
                        "bin_end": 2.59311333409,
                        "count": 0
                      },
                      {
                        "bin_start": 2.59311333409,
                        "bin_end": 2.8894999301,
                        "count": 1
                      }
                    ]
                  }
                },
                {
                  "name": "RINTERNATIONALMIG2015",
                  "dtype": "float64",
                  "stats": {
                    "unique_count": 10,
                    "nan_count": 0,
                    "min": "0.0",
                    "max": "2.9732868757",
                    "histogram": [
                      {
                        "bin_start": 0,
                        "bin_end": 0.29732868756999997,
                        "count": 2
                      },
                      {
                        "bin_start": 0.29732868756999997,
                        "bin_end": 0.5946573751399999,
                        "count": 3
                      },
                      {
                        "bin_start": 0.5946573751399999,
                        "bin_end": 0.8919860627099999,
                        "count": 0
                      },
                      {
                        "bin_start": 0.8919860627099999,
                        "bin_end": 1.1893147502799999,
                        "count": 4
                      },
                      {
                        "bin_start": 1.1893147502799999,
                        "bin_end": 1.4866434378499997,
                        "count": 0
                      },
                      {
                        "bin_start": 1.4866434378499997,
                        "bin_end": 1.7839721254199998,
                        "count": 0
                      },
                      {
                        "bin_start": 1.7839721254199998,
                        "bin_end": 2.08130081299,
                        "count": 0
                      },
                      {
                        "bin_start": 2.08130081299,
                        "bin_end": 2.3786295005599998,
                        "count": 0
                      },
                      {
                        "bin_start": 2.3786295005599998,
                        "bin_end": 2.6759581881299996,
                        "count": 0
                      },
                      {
                        "bin_start": 2.6759581881299996,
                        "bin_end": 2.9732868757,
                        "count": 1
                      }
                    ]
                  }
                },
                {
                  "name": "RDOMESTICMIG2011",
                  "dtype": "float64",
                  "stats": {
                    "unique_count": 10,
                    "nan_count": 0,
                    "min": "-30.95370887",
                    "max": "14.832960211",
                    "histogram": [
                      {
                        "bin_start": -30.95370887,
                        "bin_end": -26.3750419619,
                        "count": 1
                      },
                      {
                        "bin_start": -26.3750419619,
                        "bin_end": -21.7963750538,
                        "count": 0
                      },
                      {
                        "bin_start": -21.7963750538,
                        "bin_end": -17.2177081457,
                        "count": 0
                      },
                      {
                        "bin_start": -17.2177081457,
                        "bin_end": -12.6390412376,
                        "count": 1
                      },
                      {
                        "bin_start": -12.6390412376,
                        "bin_end": -8.0603743295,
                        "count": 0
                      },
                      {
                        "bin_start": -8.0603743295,
                        "bin_end": -3.481707421400003,
                        "count": 3
                      },
                      {
                        "bin_start": -3.481707421400003,
                        "bin_end": 1.0969594867000012,
                        "count": 2
                      },
                      {
                        "bin_start": 1.0969594867000012,
                        "bin_end": 5.675626394799998,
                        "count": 1
                      },
                      {
                        "bin_start": 5.675626394799998,
                        "bin_end": 10.254293302899995,
                        "count": 1
                      },
                      {
                        "bin_start": 10.254293302899995,
                        "bin_end": 14.832960211,
                        "count": 1
                      }
                    ]
                  }
                },
                {
                  "name": "RDOMESTICMIG2012",
                  "dtype": "float64",
                  "stats": {
                    "unique_count": 10,
                    "nan_count": 0,
                    "min": "-11.68423359",
                    "max": "17.647292835",
                    "histogram": [
                      {
                        "bin_start": -11.68423359,
                        "bin_end": -8.7510809475,
                        "count": 1
                      },
                      {
                        "bin_start": -8.7510809475,
                        "bin_end": -5.817928305,
                        "count": 0
                      },
                      {
                        "bin_start": -5.817928305,
                        "bin_end": -2.884775662499999,
                        "count": 4
                      },
                      {
                        "bin_start": -2.884775662499999,
                        "bin_end": 0.04837698000000046,
                        "count": 3
                      },
                      {
                        "bin_start": 0.04837698000000046,
                        "bin_end": 2.9815296225,
                        "count": 0
                      },
                      {
                        "bin_start": 2.9815296225,
                        "bin_end": 5.9146822650000015,
                        "count": 1
                      },
                      {
                        "bin_start": 5.9146822650000015,
                        "bin_end": 8.8478349075,
                        "count": 0
                      },
                      {
                        "bin_start": 8.8478349075,
                        "bin_end": 11.78098755,
                        "count": 0
                      },
                      {
                        "bin_start": 11.78098755,
                        "bin_end": 14.714140192500002,
                        "count": 0
                      },
                      {
                        "bin_start": 14.714140192500002,
                        "bin_end": 17.647292835,
                        "count": 1
                      }
                    ]
                  }
                },
                {
                  "name": "RDOMESTICMIG2013",
                  "dtype": "float64",
                  "stats": {
                    "unique_count": 10,
                    "nan_count": 0,
                    "min": "-7.05682406",
                    "max": "21.845705303",
                    "histogram": [
                      {
                        "bin_start": -7.05682406,
                        "bin_end": -4.166571123700001,
                        "count": 4
                      },
                      {
                        "bin_start": -4.166571123700001,
                        "bin_end": -1.2763181874000002,
                        "count": 2
                      },
                      {
                        "bin_start": -1.2763181874000002,
                        "bin_end": 1.6139347489000002,
                        "count": 2
                      },
                      {
                        "bin_start": 1.6139347489000002,
                        "bin_end": 4.5041876852,
                        "count": 1
                      },
                      {
                        "bin_start": 4.5041876852,
                        "bin_end": 7.394440621499999,
                        "count": 0
                      },
                      {
                        "bin_start": 7.394440621499999,
                        "bin_end": 10.2846935578,
                        "count": 0
                      },
                      {
                        "bin_start": 10.2846935578,
                        "bin_end": 13.174946494099999,
                        "count": 0
                      },
                      {
                        "bin_start": 13.174946494099999,
                        "bin_end": 16.0651994304,
                        "count": 0
                      },
                      {
                        "bin_start": 16.0651994304,
                        "bin_end": 18.9554523667,
                        "count": 0
                      },
                      {
                        "bin_start": 18.9554523667,
                        "bin_end": 21.845705303,
                        "count": 1
                      }
                    ]
                  }
                },
                {
                  "name": "RDOMESTICMIG2014",
                  "dtype": "float64",
                  "stats": {
                    "unique_count": 10,
                    "nan_count": 0,
                    "min": "-4.46321076",
                    "max": "19.243286504",
                    "histogram": [
                      {
                        "bin_start": -4.46321076,
                        "bin_end": -2.0925610336,
                        "count": 3
                      },
                      {
                        "bin_start": -2.0925610336,
                        "bin_end": 0.2780886927999999,
                        "count": 2
                      },
                      {
                        "bin_start": 0.2780886927999999,
                        "bin_end": 2.6487384192,
                        "count": 3
                      },
                      {
                        "bin_start": 2.6487384192,
                        "bin_end": 5.0193881456,
                        "count": 0
                      },
                      {
                        "bin_start": 5.0193881456,
                        "bin_end": 7.390037872,
                        "count": 0
                      },
                      {
                        "bin_start": 7.390037872,
                        "bin_end": 9.7606875984,
                        "count": 0
                      },
                      {
                        "bin_start": 9.7606875984,
                        "bin_end": 12.1313373248,
                        "count": 0
                      },
                      {
                        "bin_start": 12.1313373248,
                        "bin_end": 14.5019870512,
                        "count": 1
                      },
                      {
                        "bin_start": 14.5019870512,
                        "bin_end": 16.8726367776,
                        "count": 0
                      },
                      {
                        "bin_start": 16.8726367776,
                        "bin_end": 19.243286504,
                        "count": 1
                      }
                    ]
                  }
                },
                {
                  "name": "RDOMESTICMIG2015",
                  "dtype": "float64",
                  "stats": {
                    "unique_count": 10,
                    "nan_count": 0,
                    "min": "-16.16724739",
                    "max": "17.197872203",
                    "histogram": [
                      {
                        "bin_start": -16.16724739,
                        "bin_end": -12.830735430699999,
                        "count": 1
                      },
                      {
                        "bin_start": -12.830735430699999,
                        "bin_end": -9.4942234714,
                        "count": 1
                      },
                      {
                        "bin_start": -9.4942234714,
                        "bin_end": -6.157711512100001,
                        "count": 1
                      },
                      {
                        "bin_start": -6.157711512100001,
                        "bin_end": -2.8211995527999996,
                        "count": 1
                      },
                      {
                        "bin_start": -2.8211995527999996,
                        "bin_end": 0.5153124065000014,
                        "count": 4
                      },
                      {
                        "bin_start": 0.5153124065000014,
                        "bin_end": 3.851824365799999,
                        "count": 1
                      },
                      {
                        "bin_start": 3.851824365799999,
                        "bin_end": 7.1883363251,
                        "count": 0
                      },
                      {
                        "bin_start": 7.1883363251,
                        "bin_end": 10.5248482844,
                        "count": 0
                      },
                      {
                        "bin_start": 10.5248482844,
                        "bin_end": 13.861360243700002,
                        "count": 0
                      },
                      {
                        "bin_start": 13.861360243700002,
                        "bin_end": 17.197872203,
                        "count": 1
                      }
                    ]
                  }
                },
                {
                  "name": "RNETMIG2011",
                  "dtype": "float64",
                  "stats": {
                    "unique_count": 10,
                    "nan_count": 0,
                    "min": "-29.00167317",
                    "max": "15.844175508",
                    "histogram": [
                      {
                        "bin_start": -29.00167317,
                        "bin_end": -24.5170883022,
                        "count": 1
                      },
                      {
                        "bin_start": -24.5170883022,
                        "bin_end": -20.0325034344,
                        "count": 0
                      },
                      {
                        "bin_start": -20.0325034344,
                        "bin_end": -15.5479185666,
                        "count": 0
                      },
                      {
                        "bin_start": -15.5479185666,
                        "bin_end": -11.063333698800001,
                        "count": 1
                      },
                      {
                        "bin_start": -11.063333698800001,
                        "bin_end": -6.578748831000002,
                        "count": 0
                      },
                      {
                        "bin_start": -6.578748831000002,
                        "bin_end": -2.0941639631999998,
                        "count": 3
                      },
                      {
                        "bin_start": -2.0941639631999998,
                        "bin_end": 2.390420904599999,
                        "count": 3
                      },
                      {
                        "bin_start": 2.390420904599999,
                        "bin_end": 6.875005772399998,
                        "count": 0
                      },
                      {
                        "bin_start": 6.875005772399998,
                        "bin_end": 11.3595906402,
                        "count": 1
                      },
                      {
                        "bin_start": 11.3595906402,
                        "bin_end": 15.844175508,
                        "count": 1
                      }
                    ]
                  }
                },
                {
                  "name": "RNETMIG2012",
                  "dtype": "float64",
                  "stats": {
                    "unique_count": 10,
                    "nan_count": 0,
                    "min": "-11.58686497",
                    "max": "18.55962658",
                    "histogram": [
                      {
                        "bin_start": -11.58686497,
                        "bin_end": -8.572215815,
                        "count": 1
                      },
                      {
                        "bin_start": -8.572215815,
                        "bin_end": -5.557566660000001,
                        "count": 0
                      },
                      {
                        "bin_start": -5.557566660000001,
                        "bin_end": -2.542917505000002,
                        "count": 5
                      },
                      {
                        "bin_start": -2.542917505000002,
                        "bin_end": 0.47173164999999884,
                        "count": 1
                      },
                      {
                        "bin_start": 0.47173164999999884,
                        "bin_end": 3.4863808049999996,
                        "count": 1
                      },
                      {
                        "bin_start": 3.4863808049999996,
                        "bin_end": 6.501029959999997,
                        "count": 1
                      },
                      {
                        "bin_start": 6.501029959999997,
                        "bin_end": 9.515679114999998,
                        "count": 0
                      },
                      {
                        "bin_start": 9.515679114999998,
                        "bin_end": 12.530328269999998,
                        "count": 0
                      },
                      {
                        "bin_start": 12.530328269999998,
                        "bin_end": 15.544977424999999,
                        "count": 0
                      },
                      {
                        "bin_start": 15.544977424999999,
                        "bin_end": 18.55962658,
                        "count": 1
                      }
                    ]
                  }
                },
                {
                  "name": "RNETMIG2013",
                  "dtype": "float64",
                  "stats": {
                    "unique_count": 10,
                    "nan_count": 0,
                    "min": "-7.167664228",
                    "max": "22.727626439",
                    "histogram": [
                      {
                        "bin_start": -7.167664228,
                        "bin_end": -4.178135161299999,
                        "count": 4
                      },
                      {
                        "bin_start": -4.178135161299999,
                        "bin_end": -1.188606094599999,
                        "count": 2
                      },
                      {
                        "bin_start": -1.188606094599999,
                        "bin_end": 1.8009229721000004,
                        "count": 2
                      },
                      {
                        "bin_start": 1.8009229721000004,
                        "bin_end": 4.790452038800002,
                        "count": 1
                      },
                      {
                        "bin_start": 4.790452038800002,
                        "bin_end": 7.779981105500003,
                        "count": 0
                      },
                      {
                        "bin_start": 7.779981105500003,
                        "bin_end": 10.7695101722,
                        "count": 0
                      },
                      {
                        "bin_start": 10.7695101722,
                        "bin_end": 13.759039238900002,
                        "count": 0
                      },
                      {
                        "bin_start": 13.759039238900002,
                        "bin_end": 16.748568305600003,
                        "count": 0
                      },
                      {
                        "bin_start": 16.748568305600003,
                        "bin_end": 19.738097372300004,
                        "count": 0
                      },
                      {
                        "bin_start": 19.738097372300004,
                        "bin_end": 22.727626439,
                        "count": 1
                      }
                    ]
                  }
                },
                {
                  "name": "RNETMIG2014",
                  "dtype": "float64",
                  "stats": {
                    "unique_count": 10,
                    "nan_count": 0,
                    "min": "-3.978582583",
                    "max": "20.317141924",
                    "histogram": [
                      {
                        "bin_start": -3.978582583,
                        "bin_end": -1.5490101322999998,
                        "count": 3
                      },
                      {
                        "bin_start": -1.5490101322999998,
                        "bin_end": 0.8805623184000004,
                        "count": 2
                      },
                      {
                        "bin_start": 0.8805623184000004,
                        "bin_end": 3.3101347691000007,
                        "count": 3
                      },
                      {
                        "bin_start": 3.3101347691000007,
                        "bin_end": 5.739707219800001,
                        "count": 0
                      },
                      {
                        "bin_start": 5.739707219800001,
                        "bin_end": 8.169279670500002,
                        "count": 0
                      },
                      {
                        "bin_start": 8.169279670500002,
                        "bin_end": 10.598852121200002,
                        "count": 0
                      },
                      {
                        "bin_start": 10.598852121200002,
                        "bin_end": 13.028424571900002,
                        "count": 0
                      },
                      {
                        "bin_start": 13.028424571900002,
                        "bin_end": 15.457997022600003,
                        "count": 0
                      },
                      {
                        "bin_start": 15.457997022600003,
                        "bin_end": 17.8875694733,
                        "count": 1
                      },
                      {
                        "bin_start": 17.8875694733,
                        "bin_end": 20.317141924,
                        "count": 1
                      }
                    ]
                  }
                },
                {
                  "name": "RNETMIG2015",
                  "dtype": "float64",
                  "stats": {
                    "unique_count": 10,
                    "nan_count": 0,
                    "min": "-13.19396051",
                    "max": "18.293499115",
                    "histogram": [
                      {
                        "bin_start": -13.19396051,
                        "bin_end": -10.0452145475,
                        "count": 2
                      },
                      {
                        "bin_start": -10.0452145475,
                        "bin_end": -6.896468585,
                        "count": 0
                      },
                      {
                        "bin_start": -6.896468585,
                        "bin_end": -3.7477226224999995,
                        "count": 1
                      },
                      {
                        "bin_start": -3.7477226224999995,
                        "bin_end": -0.5989766599999999,
                        "count": 3
                      },
                      {
                        "bin_start": -0.5989766599999999,
                        "bin_end": 2.5497693024999997,
                        "count": 3
                      },
                      {
                        "bin_start": 2.5497693024999997,
                        "bin_end": 5.698515265000001,
                        "count": 0
                      },
                      {
                        "bin_start": 5.698515265000001,
                        "bin_end": 8.847261227499999,
                        "count": 0
                      },
                      {
                        "bin_start": 8.847261227499999,
                        "bin_end": 11.99600719,
                        "count": 0
                      },
                      {
                        "bin_start": 11.99600719,
                        "bin_end": 15.144753152500002,
                        "count": 0
                      },
                      {
                        "bin_start": 15.144753152500002,
                        "bin_end": 18.293499115,
                        "count": 1
                      }
                    ]
                  }
                },
                {
                  "name": "_deepnote_index_column",
                  "dtype": "int64"
                }
              ],
              "rows_top": [
                {
                  "SUMLEV": 40,
                  "REGION": 3,
                  "DIVISION": 6,
                  "STATE": 1,
                  "COUNTY": 0,
                  "STNAME": "Alabama",
                  "CTYNAME": "Alabama",
                  "CENSUS2010POP": 4779736,
                  "ESTIMATESBASE2010": 4780127,
                  "POPESTIMATE2010": 4785161,
                  "POPESTIMATE2011": 4801108,
                  "POPESTIMATE2012": 4816089,
                  "POPESTIMATE2013": 4830533,
                  "POPESTIMATE2014": 4846411,
                  "POPESTIMATE2015": 4858979,
                  "NPOPCHG_2010": 5034,
                  "NPOPCHG_2011": 15947,
                  "NPOPCHG_2012": 14981,
                  "NPOPCHG_2013": 14444,
                  "NPOPCHG_2014": 15878,
                  "NPOPCHG_2015": 12568,
                  "BIRTHS2010": 14226,
                  "BIRTHS2011": 59689,
                  "BIRTHS2012": 59062,
                  "BIRTHS2013": 57938,
                  "BIRTHS2014": 58334,
                  "BIRTHS2015": 58305,
                  "DEATHS2010": 11089,
                  "DEATHS2011": 48811,
                  "DEATHS2012": 48357,
                  "DEATHS2013": 50843,
                  "DEATHS2014": 50228,
                  "DEATHS2015": 50330,
                  "NATURALINC2010": 3137,
                  "NATURALINC2011": 10878,
                  "NATURALINC2012": 10705,
                  "NATURALINC2013": 7095,
                  "NATURALINC2014": 8106,
                  "NATURALINC2015": 7975,
                  "INTERNATIONALMIG2010": 1357,
                  "INTERNATIONALMIG2011": 4926,
                  "INTERNATIONALMIG2012": 4904,
                  "INTERNATIONALMIG2013": 4834,
                  "INTERNATIONALMIG2014": 5529,
                  "INTERNATIONALMIG2015": 5726,
                  "DOMESTICMIG2010": 537,
                  "DOMESTICMIG2011": 11,
                  "DOMESTICMIG2012": -929,
                  "DOMESTICMIG2013": 1838,
                  "DOMESTICMIG2014": 2816,
                  "DOMESTICMIG2015": -2268,
                  "NETMIG2010": 1894,
                  "NETMIG2011": 4937,
                  "NETMIG2012": 3975,
                  "NETMIG2013": 6672,
                  "NETMIG2014": 8345,
                  "NETMIG2015": 3458,
                  "RESIDUAL2010": 3,
                  "RESIDUAL2011": 132,
                  "RESIDUAL2012": 301,
                  "RESIDUAL2013": 677,
                  "RESIDUAL2014": -573,
                  "RESIDUAL2015": 1135,
                  "GQESTIMATESBASE2010": 116185,
                  "GQESTIMATES2010": 116212,
                  "GQESTIMATES2011": 115560,
                  "GQESTIMATES2012": 115666,
                  "GQESTIMATES2013": 116963,
                  "GQESTIMATES2014": 119088,
                  "GQESTIMATES2015": 119599,
                  "RBIRTH2011": 12.453020044,
                  "RBIRTH2012": 12.282580881,
                  "RBIRTH2013": 12.012080498,
                  "RBIRTH2014": 12.056285538,
                  "RBIRTH2015": 12.014973123,
                  "RDEATH2011": 10.183523955,
                  "RDEATH2012": 10.056360497,
                  "RDEATH2013": 10.541099257,
                  "RDEATH2014": 10.380963246,
                  "RDEATH2015": 10.371556424,
                  "RNATURALINC2011": 2.2694960886,
                  "RNATURALINC2012": 2.2262203842,
                  "RNATURALINC2013": 1.4709812409,
                  "RNATURALINC2014": 1.6753222918,
                  "RNATURALINC2015": 1.6434166994,
                  "RINTERNATIONALMIG2011": 1.0277199607,
                  "RINTERNATIONALMIG2012": 1.0198397724,
                  "RINTERNATIONALMIG2013": 1.0022161125,
                  "RINTERNATIONALMIG2014": 1.1427161302,
                  "RINTERNATIONALMIG2015": 1.1799628866,
                  "RDOMESTICMIG2011": 0.0022949492,
                  "RDOMESTICMIG2012": -0.193195585,
                  "RDOMESTICMIG2013": 0.3810660353,
                  "RDOMESTICMIG2014": 0.5820019213,
                  "RDOMESTICMIG2015": -0.467369163,
                  "RNETMIG2011": 1.0300149099,
                  "RNETMIG2012": 0.8266441875,
                  "RNETMIG2013": 1.3832821479,
                  "RNETMIG2014": 1.7247180515,
                  "RNETMIG2015": 0.7125937237,
                  "_deepnote_index_column": 0
                },
                {
                  "SUMLEV": 50,
                  "REGION": 3,
                  "DIVISION": 6,
                  "STATE": 1,
                  "COUNTY": 1,
                  "STNAME": "Alabama",
                  "CTYNAME": "Autauga County",
                  "CENSUS2010POP": 54571,
                  "ESTIMATESBASE2010": 54571,
                  "POPESTIMATE2010": 54660,
                  "POPESTIMATE2011": 55253,
                  "POPESTIMATE2012": 55175,
                  "POPESTIMATE2013": 55038,
                  "POPESTIMATE2014": 55290,
                  "POPESTIMATE2015": 55347,
                  "NPOPCHG_2010": 89,
                  "NPOPCHG_2011": 593,
                  "NPOPCHG_2012": -78,
                  "NPOPCHG_2013": -137,
                  "NPOPCHG_2014": 252,
                  "NPOPCHG_2015": 57,
                  "BIRTHS2010": 151,
                  "BIRTHS2011": 636,
                  "BIRTHS2012": 615,
                  "BIRTHS2013": 574,
                  "BIRTHS2014": 623,
                  "BIRTHS2015": 600,
                  "DEATHS2010": 152,
                  "DEATHS2011": 507,
                  "DEATHS2012": 558,
                  "DEATHS2013": 583,
                  "DEATHS2014": 504,
                  "DEATHS2015": 467,
                  "NATURALINC2010": -1,
                  "NATURALINC2011": 129,
                  "NATURALINC2012": 57,
                  "NATURALINC2013": -9,
                  "NATURALINC2014": 119,
                  "NATURALINC2015": 133,
                  "INTERNATIONALMIG2010": 33,
                  "INTERNATIONALMIG2011": 20,
                  "INTERNATIONALMIG2012": 16,
                  "INTERNATIONALMIG2013": 16,
                  "INTERNATIONALMIG2014": 18,
                  "INTERNATIONALMIG2015": 19,
                  "DOMESTICMIG2010": 49,
                  "DOMESTICMIG2011": 398,
                  "DOMESTICMIG2012": -161,
                  "DOMESTICMIG2013": -166,
                  "DOMESTICMIG2014": 125,
                  "DOMESTICMIG2015": -140,
                  "NETMIG2010": 82,
                  "NETMIG2011": 418,
                  "NETMIG2012": -145,
                  "NETMIG2013": -150,
                  "NETMIG2014": 143,
                  "NETMIG2015": -121,
                  "RESIDUAL2010": 8,
                  "RESIDUAL2011": 46,
                  "RESIDUAL2012": 10,
                  "RESIDUAL2013": 22,
                  "RESIDUAL2014": -10,
                  "RESIDUAL2015": 45,
                  "GQESTIMATESBASE2010": 455,
                  "GQESTIMATES2010": 455,
                  "GQESTIMATES2011": 455,
                  "GQESTIMATES2012": 455,
                  "GQESTIMATES2013": 455,
                  "GQESTIMATES2014": 455,
                  "GQESTIMATES2015": 455,
                  "RBIRTH2011": 11.572789388,
                  "RBIRTH2012": 11.138479371,
                  "RBIRTH2013": 10.416194097,
                  "RBIRTH2014": 11.293597274,
                  "RBIRTH2015": 10.846281081,
                  "RDEATH2011": 9.2254783329,
                  "RDEATH2012": 10.106132503,
                  "RDEATH2013": 10.579514213,
                  "RDEATH2014": 9.1363933,
                  "RDEATH2015": 8.4420221083,
                  "RNATURALINC2011": 2.3473110551,
                  "RNATURALINC2012": 1.0323468685,
                  "RNATURALINC2013": -0.163320117,
                  "RNATURALINC2014": 2.1572039736,
                  "RNATURALINC2015": 2.404258973,
                  "RINTERNATIONALMIG2011": 0.3639241946,
                  "RINTERNATIONALMIG2012": 0.2897815771,
                  "RINTERNATIONALMIG2013": 0.2903468738,
                  "RINTERNATIONALMIG2014": 0.3262997607,
                  "RINTERNATIONALMIG2015": 0.3434655676,
                  "RDOMESTICMIG2011": 7.2420914723,
                  "RDOMESTICMIG2012": -2.91592712,
                  "RDOMESTICMIG2013": -3.012348815,
                  "RDOMESTICMIG2014": 2.2659705605,
                  "RDOMESTICMIG2015": -2.530798919,
                  "RNETMIG2011": 7.6060156669,
                  "RNETMIG2012": -2.626145543,
                  "RNETMIG2013": -2.722001942,
                  "RNETMIG2014": 2.5922703212,
                  "RNETMIG2015": -2.187333351,
                  "_deepnote_index_column": 1
                },
                {
                  "SUMLEV": 50,
                  "REGION": 3,
                  "DIVISION": 6,
                  "STATE": 1,
                  "COUNTY": 3,
                  "STNAME": "Alabama",
                  "CTYNAME": "Baldwin County",
                  "CENSUS2010POP": 182265,
                  "ESTIMATESBASE2010": 182265,
                  "POPESTIMATE2010": 183193,
                  "POPESTIMATE2011": 186659,
                  "POPESTIMATE2012": 190396,
                  "POPESTIMATE2013": 195126,
                  "POPESTIMATE2014": 199713,
                  "POPESTIMATE2015": 203709,
                  "NPOPCHG_2010": 928,
                  "NPOPCHG_2011": 3466,
                  "NPOPCHG_2012": 3737,
                  "NPOPCHG_2013": 4730,
                  "NPOPCHG_2014": 4587,
                  "NPOPCHG_2015": 3996,
                  "BIRTHS2010": 517,
                  "BIRTHS2011": 2187,
                  "BIRTHS2012": 2092,
                  "BIRTHS2013": 2160,
                  "BIRTHS2014": 2186,
                  "BIRTHS2015": 2240,
                  "DEATHS2010": 532,
                  "DEATHS2011": 1825,
                  "DEATHS2012": 1879,
                  "DEATHS2013": 1902,
                  "DEATHS2014": 2044,
                  "DEATHS2015": 1992,
                  "NATURALINC2010": -15,
                  "NATURALINC2011": 362,
                  "NATURALINC2012": 213,
                  "NATURALINC2013": 258,
                  "NATURALINC2014": 142,
                  "NATURALINC2015": 248,
                  "INTERNATIONALMIG2010": 69,
                  "INTERNATIONALMIG2011": 187,
                  "INTERNATIONALMIG2012": 172,
                  "INTERNATIONALMIG2013": 170,
                  "INTERNATIONALMIG2014": 212,
                  "INTERNATIONALMIG2015": 221,
                  "DOMESTICMIG2010": 856,
                  "DOMESTICMIG2011": 2743,
                  "DOMESTICMIG2012": 3327,
                  "DOMESTICMIG2013": 4211,
                  "DOMESTICMIG2014": 3799,
                  "DOMESTICMIG2015": 3469,
                  "NETMIG2010": 925,
                  "NETMIG2011": 2930,
                  "NETMIG2012": 3499,
                  "NETMIG2013": 4381,
                  "NETMIG2014": 4011,
                  "NETMIG2015": 3690,
                  "RESIDUAL2010": 18,
                  "RESIDUAL2011": 174,
                  "RESIDUAL2012": 25,
                  "RESIDUAL2013": 91,
                  "RESIDUAL2014": 434,
                  "RESIDUAL2015": 58,
                  "GQESTIMATESBASE2010": 2307,
                  "GQESTIMATES2010": 2307,
                  "GQESTIMATES2011": 2307,
                  "GQESTIMATES2012": 2249,
                  "GQESTIMATES2013": 2304,
                  "GQESTIMATES2014": 2308,
                  "GQESTIMATES2015": 2309,
                  "RBIRTH2011": 11.826352162,
                  "RBIRTH2012": 11.09652438,
                  "RBIRTH2013": 11.205586192,
                  "RBIRTH2014": 11.072867675,
                  "RBIRTH2015": 11.104996753,
                  "RDEATH2011": 9.8688123898,
                  "RDEATH2012": 9.9667157311,
                  "RDEATH2013": 9.8671411748,
                  "RDEATH2014": 10.353587158,
                  "RDEATH2015": 9.8755149694,
                  "RNATURALINC2011": 1.9575397727,
                  "RNATURALINC2012": 1.1298086486,
                  "RNATURALINC2013": 1.3384450174,
                  "RNATURALINC2014": 0.7192805169,
                  "RNATURALINC2015": 1.2294817833,
                  "RINTERNATIONALMIG2011": 1.0112152969,
                  "RINTERNATIONALMIG2012": 0.9123337444,
                  "RINTERNATIONALMIG2013": 0.8819211355,
                  "RINTERNATIONALMIG2014": 1.0738554196,
                  "RINTERNATIONALMIG2015": 1.0956269118,
                  "RDOMESTICMIG2011": 14.832960211,
                  "RDOMESTICMIG2012": 17.647292835,
                  "RDOMESTICMIG2013": 21.845705303,
                  "RDOMESTICMIG2014": 19.243286504,
                  "RDOMESTICMIG2015": 17.197872203,
                  "RNETMIG2011": 15.844175508,
                  "RNETMIG2012": 18.55962658,
                  "RNETMIG2013": 22.727626439,
                  "RNETMIG2014": 20.317141924,
                  "RNETMIG2015": 18.293499115,
                  "_deepnote_index_column": 2
                },
                {
                  "SUMLEV": 50,
                  "REGION": 3,
                  "DIVISION": 6,
                  "STATE": 1,
                  "COUNTY": 5,
                  "STNAME": "Alabama",
                  "CTYNAME": "Barbour County",
                  "CENSUS2010POP": 27457,
                  "ESTIMATESBASE2010": 27457,
                  "POPESTIMATE2010": 27341,
                  "POPESTIMATE2011": 27226,
                  "POPESTIMATE2012": 27159,
                  "POPESTIMATE2013": 26973,
                  "POPESTIMATE2014": 26815,
                  "POPESTIMATE2015": 26489,
                  "NPOPCHG_2010": -116,
                  "NPOPCHG_2011": -115,
                  "NPOPCHG_2012": -67,
                  "NPOPCHG_2013": -186,
                  "NPOPCHG_2014": -158,
                  "NPOPCHG_2015": -326,
                  "BIRTHS2010": 70,
                  "BIRTHS2011": 335,
                  "BIRTHS2012": 300,
                  "BIRTHS2013": 283,
                  "BIRTHS2014": 260,
                  "BIRTHS2015": 269,
                  "DEATHS2010": 128,
                  "DEATHS2011": 319,
                  "DEATHS2012": 291,
                  "DEATHS2013": 294,
                  "DEATHS2014": 310,
                  "DEATHS2015": 309,
                  "NATURALINC2010": -58,
                  "NATURALINC2011": 16,
                  "NATURALINC2012": 9,
                  "NATURALINC2013": -11,
                  "NATURALINC2014": -50,
                  "NATURALINC2015": -40,
                  "INTERNATIONALMIG2010": 2,
                  "INTERNATIONALMIG2011": -4,
                  "INTERNATIONALMIG2012": -7,
                  "INTERNATIONALMIG2013": -3,
                  "INTERNATIONALMIG2014": -2,
                  "INTERNATIONALMIG2015": 0,
                  "DOMESTICMIG2010": -62,
                  "DOMESTICMIG2011": -129,
                  "DOMESTICMIG2012": -68,
                  "DOMESTICMIG2013": -191,
                  "DOMESTICMIG2014": -105,
                  "DOMESTICMIG2015": -281,
                  "NETMIG2010": -60,
                  "NETMIG2011": -133,
                  "NETMIG2012": -75,
                  "NETMIG2013": -194,
                  "NETMIG2014": -107,
                  "NETMIG2015": -281,
                  "RESIDUAL2010": 2,
                  "RESIDUAL2011": 2,
                  "RESIDUAL2012": -1,
                  "RESIDUAL2013": 19,
                  "RESIDUAL2014": -1,
                  "RESIDUAL2015": -5,
                  "GQESTIMATESBASE2010": 3193,
                  "GQESTIMATES2010": 3193,
                  "GQESTIMATES2011": 3382,
                  "GQESTIMATES2012": 3388,
                  "GQESTIMATES2013": 3389,
                  "GQESTIMATES2014": 3353,
                  "GQESTIMATES2015": 3352,
                  "RBIRTH2011": 12.278483332,
                  "RBIRTH2012": 11.032453802,
                  "RBIRTH2013": 10.45592256,
                  "RBIRTH2014": 9.6675838477,
                  "RBIRTH2015": 10.093051178,
                  "RDEATH2011": 11.692048308,
                  "RDEATH2012": 10.701480188,
                  "RDEATH2013": 10.862336511,
                  "RDEATH2014": 11.526734588,
                  "RDEATH2015": 11.593876632,
                  "RNATURALINC2011": 0.5864350248,
                  "RNATURALINC2012": 0.330973614,
                  "RNATURALINC2013": -0.406413951,
                  "RNATURALINC2014": -1.85915074,
                  "RNATURALINC2015": -1.500825454,
                  "RINTERNATIONALMIG2011": -0.146608756,
                  "RINTERNATIONALMIG2012": -0.257423922,
                  "RINTERNATIONALMIG2013": -0.110840168,
                  "RINTERNATIONALMIG2014": -0.07436603,
                  "RINTERNATIONALMIG2015": 0,
                  "RDOMESTICMIG2011": -4.728132388,
                  "RDOMESTICMIG2012": -2.500689528,
                  "RDOMESTICMIG2013": -7.05682406,
                  "RDOMESTICMIG2014": -3.904216554,
                  "RDOMESTICMIG2015": -10.54329881,
                  "RNETMIG2011": -4.874741144,
                  "RNETMIG2012": -2.75811345,
                  "RNETMIG2013": -7.167664228,
                  "RNETMIG2014": -3.978582583,
                  "RNETMIG2015": -10.54329881,
                  "_deepnote_index_column": 3
                },
                {
                  "SUMLEV": 50,
                  "REGION": 3,
                  "DIVISION": 6,
                  "STATE": 1,
                  "COUNTY": 7,
                  "STNAME": "Alabama",
                  "CTYNAME": "Bibb County",
                  "CENSUS2010POP": 22915,
                  "ESTIMATESBASE2010": 22919,
                  "POPESTIMATE2010": 22861,
                  "POPESTIMATE2011": 22733,
                  "POPESTIMATE2012": 22642,
                  "POPESTIMATE2013": 22512,
                  "POPESTIMATE2014": 22549,
                  "POPESTIMATE2015": 22583,
                  "NPOPCHG_2010": -58,
                  "NPOPCHG_2011": -128,
                  "NPOPCHG_2012": -91,
                  "NPOPCHG_2013": -130,
                  "NPOPCHG_2014": 37,
                  "NPOPCHG_2015": 34,
                  "BIRTHS2010": 44,
                  "BIRTHS2011": 266,
                  "BIRTHS2012": 245,
                  "BIRTHS2013": 259,
                  "BIRTHS2014": 247,
                  "BIRTHS2015": 253,
                  "DEATHS2010": 34,
                  "DEATHS2011": 278,
                  "DEATHS2012": 237,
                  "DEATHS2013": 281,
                  "DEATHS2014": 211,
                  "DEATHS2015": 223,
                  "NATURALINC2010": 10,
                  "NATURALINC2011": -12,
                  "NATURALINC2012": 8,
                  "NATURALINC2013": -22,
                  "NATURALINC2014": 36,
                  "NATURALINC2015": 30,
                  "INTERNATIONALMIG2010": 2,
                  "INTERNATIONALMIG2011": 10,
                  "INTERNATIONALMIG2012": 16,
                  "INTERNATIONALMIG2013": 18,
                  "INTERNATIONALMIG2014": 21,
                  "INTERNATIONALMIG2015": 21,
                  "DOMESTICMIG2010": -69,
                  "DOMESTICMIG2011": -126,
                  "DOMESTICMIG2012": -115,
                  "DOMESTICMIG2013": -140,
                  "DOMESTICMIG2014": -4,
                  "DOMESTICMIG2015": 4,
                  "NETMIG2010": -67,
                  "NETMIG2011": -116,
                  "NETMIG2012": -99,
                  "NETMIG2013": -122,
                  "NETMIG2014": 17,
                  "NETMIG2015": 25,
                  "RESIDUAL2010": -1,
                  "RESIDUAL2011": 0,
                  "RESIDUAL2012": 0,
                  "RESIDUAL2013": 14,
                  "RESIDUAL2014": -16,
                  "RESIDUAL2015": -21,
                  "GQESTIMATESBASE2010": 2224,
                  "GQESTIMATES2010": 2224,
                  "GQESTIMATES2011": 2224,
                  "GQESTIMATES2012": 2224,
                  "GQESTIMATES2013": 2224,
                  "GQESTIMATES2014": 2233,
                  "GQESTIMATES2015": 2236,
                  "RBIRTH2011": 11.668201956,
                  "RBIRTH2012": 10.798898072,
                  "RBIRTH2013": 11.471851885,
                  "RBIRTH2014": 10.962916935,
                  "RBIRTH2015": 11.21155721,
                  "RDEATH2011": 12.194587007,
                  "RDEATH2012": 10.446280992,
                  "RDEATH2013": 12.446294902,
                  "RDEATH2014": 9.3650828876,
                  "RDEATH2015": 9.8821235487,
                  "RNATURALINC2011": -0.526385051,
                  "RNATURALINC2012": 0.3526170799,
                  "RNATURALINC2013": -0.974443017,
                  "RNATURALINC2014": 1.5978340472,
                  "RNATURALINC2015": 1.3294336613,
                  "RINTERNATIONALMIG2011": 0.4386542089,
                  "RINTERNATIONALMIG2012": 0.7052341598,
                  "RINTERNATIONALMIG2013": 0.7972715596,
                  "RINTERNATIONALMIG2014": 0.9320698609,
                  "RINTERNATIONALMIG2015": 0.9306035629,
                  "RDOMESTICMIG2011": -5.527043032,
                  "RDOMESTICMIG2012": -5.068870523,
                  "RDOMESTICMIG2013": -6.201001019,
                  "RDOMESTICMIG2014": -0.177537116,
                  "RDOMESTICMIG2015": 0.1772578215,
                  "RNETMIG2011": -5.088388823,
                  "RNETMIG2012": -4.363636364,
                  "RNETMIG2013": -5.403729459,
                  "RNETMIG2014": 0.7545327445,
                  "RNETMIG2015": 1.1078613844,
                  "_deepnote_index_column": 4
                },
                {
                  "SUMLEV": 50,
                  "REGION": 3,
                  "DIVISION": 6,
                  "STATE": 1,
                  "COUNTY": 9,
                  "STNAME": "Alabama",
                  "CTYNAME": "Blount County",
                  "CENSUS2010POP": 57322,
                  "ESTIMATESBASE2010": 57322,
                  "POPESTIMATE2010": 57373,
                  "POPESTIMATE2011": 57711,
                  "POPESTIMATE2012": 57776,
                  "POPESTIMATE2013": 57734,
                  "POPESTIMATE2014": 57658,
                  "POPESTIMATE2015": 57673,
                  "NPOPCHG_2010": 51,
                  "NPOPCHG_2011": 338,
                  "NPOPCHG_2012": 65,
                  "NPOPCHG_2013": -42,
                  "NPOPCHG_2014": -76,
                  "NPOPCHG_2015": 15,
                  "BIRTHS2010": 183,
                  "BIRTHS2011": 744,
                  "BIRTHS2012": 710,
                  "BIRTHS2013": 646,
                  "BIRTHS2014": 618,
                  "BIRTHS2015": 603,
                  "DEATHS2010": 133,
                  "DEATHS2011": 570,
                  "DEATHS2012": 592,
                  "DEATHS2013": 585,
                  "DEATHS2014": 589,
                  "DEATHS2015": 590,
                  "NATURALINC2010": 50,
                  "NATURALINC2011": 174,
                  "NATURALINC2012": 118,
                  "NATURALINC2013": 61,
                  "NATURALINC2014": 29,
                  "NATURALINC2015": 13,
                  "INTERNATIONALMIG2010": 5,
                  "INTERNATIONALMIG2011": 3,
                  "INTERNATIONALMIG2012": 19,
                  "INTERNATIONALMIG2013": 20,
                  "INTERNATIONALMIG2014": 28,
                  "INTERNATIONALMIG2015": 28,
                  "DOMESTICMIG2010": -3,
                  "DOMESTICMIG2011": 104,
                  "DOMESTICMIG2012": -68,
                  "DOMESTICMIG2013": -101,
                  "DOMESTICMIG2014": -119,
                  "DOMESTICMIG2015": -79,
                  "NETMIG2010": 2,
                  "NETMIG2011": 107,
                  "NETMIG2012": -49,
                  "NETMIG2013": -81,
                  "NETMIG2014": -91,
                  "NETMIG2015": -51,
                  "RESIDUAL2010": -1,
                  "RESIDUAL2011": 57,
                  "RESIDUAL2012": -4,
                  "RESIDUAL2013": -22,
                  "RESIDUAL2014": -14,
                  "RESIDUAL2015": 53,
                  "GQESTIMATESBASE2010": 489,
                  "GQESTIMATES2010": 489,
                  "GQESTIMATES2011": 489,
                  "GQESTIMATES2012": 489,
                  "GQESTIMATES2013": 489,
                  "GQESTIMATES2014": 489,
                  "GQESTIMATES2015": 489,
                  "RBIRTH2011": 12.929686142,
                  "RBIRTH2012": 12.295756232,
                  "RBIRTH2013": 11.185178772,
                  "RBIRTH2014": 10.711314476,
                  "RBIRTH2015": 10.456858954,
                  "RDEATH2011": 9.9058079316,
                  "RDEATH2012": 10.252236182,
                  "RDEATH2013": 10.128993161,
                  "RDEATH2014": 10.208679978,
                  "RDEATH2015": 10.231420867,
                  "RNATURALINC2011": 3.0238782107,
                  "RNATURALINC2012": 2.0435200499,
                  "RNATURALINC2013": 1.0561856116,
                  "RNATURALINC2014": 0.5026344981,
                  "RNATURALINC2015": 0.2254380869,
                  "RINTERNATIONALMIG2011": 0.0521358312,
                  "RINTERNATIONALMIG2012": 0.329041364,
                  "RINTERNATIONALMIG2013": 0.3462903645,
                  "RINTERNATIONALMIG2014": 0.485302274,
                  "RINTERNATIONALMIG2015": 0.4855589564,
                  "RDOMESTICMIG2011": 1.8073754823,
                  "RDOMESTICMIG2012": -1.177621724,
                  "RDOMESTICMIG2013": -1.748766341,
                  "RDOMESTICMIG2014": -2.062534664,
                  "RDOMESTICMIG2015": -1.369969913,
                  "RNETMIG2011": 1.8595113135,
                  "RNETMIG2012": -0.84858036,
                  "RNETMIG2013": -1.402475976,
                  "RNETMIG2014": -1.57723239,
                  "RNETMIG2015": -0.884410956,
                  "_deepnote_index_column": 5
                },
                {
                  "SUMLEV": 50,
                  "REGION": 3,
                  "DIVISION": 6,
                  "STATE": 1,
                  "COUNTY": 11,
                  "STNAME": "Alabama",
                  "CTYNAME": "Bullock County",
                  "CENSUS2010POP": 10914,
                  "ESTIMATESBASE2010": 10915,
                  "POPESTIMATE2010": 10887,
                  "POPESTIMATE2011": 10629,
                  "POPESTIMATE2012": 10606,
                  "POPESTIMATE2013": 10628,
                  "POPESTIMATE2014": 10829,
                  "POPESTIMATE2015": 10696,
                  "NPOPCHG_2010": -28,
                  "NPOPCHG_2011": -258,
                  "NPOPCHG_2012": -23,
                  "NPOPCHG_2013": 22,
                  "NPOPCHG_2014": 201,
                  "NPOPCHG_2015": -133,
                  "BIRTHS2010": 39,
                  "BIRTHS2011": 169,
                  "BIRTHS2012": 122,
                  "BIRTHS2013": 132,
                  "BIRTHS2014": 118,
                  "BIRTHS2015": 123,
                  "DEATHS2010": 52,
                  "DEATHS2011": 132,
                  "DEATHS2012": 116,
                  "DEATHS2013": 120,
                  "DEATHS2014": 99,
                  "DEATHS2015": 109,
                  "NATURALINC2010": -13,
                  "NATURALINC2011": 37,
                  "NATURALINC2012": 6,
                  "NATURALINC2013": 12,
                  "NATURALINC2014": 19,
                  "NATURALINC2015": 14,
                  "INTERNATIONALMIG2010": 7,
                  "INTERNATIONALMIG2011": 21,
                  "INTERNATIONALMIG2012": 25,
                  "INTERNATIONALMIG2013": 28,
                  "INTERNATIONALMIG2014": 31,
                  "INTERNATIONALMIG2015": 32,
                  "DOMESTICMIG2010": -23,
                  "DOMESTICMIG2011": -333,
                  "DOMESTICMIG2012": -55,
                  "DOMESTICMIG2013": -12,
                  "DOMESTICMIG2014": 154,
                  "DOMESTICMIG2015": -174,
                  "NETMIG2010": -16,
                  "NETMIG2011": -312,
                  "NETMIG2012": -30,
                  "NETMIG2013": 16,
                  "NETMIG2014": 185,
                  "NETMIG2015": -142,
                  "RESIDUAL2010": 1,
                  "RESIDUAL2011": 17,
                  "RESIDUAL2012": 1,
                  "RESIDUAL2013": -6,
                  "RESIDUAL2014": -3,
                  "RESIDUAL2015": -5,
                  "GQESTIMATESBASE2010": 1690,
                  "GQESTIMATES2010": 1690,
                  "GQESTIMATES2011": 1690,
                  "GQESTIMATES2012": 1777,
                  "GQESTIMATES2013": 1715,
                  "GQESTIMATES2014": 1757,
                  "GQESTIMATES2015": 1757,
                  "RBIRTH2011": 15.709239636,
                  "RBIRTH2012": 11.490463857,
                  "RBIRTH2013": 12.432890647,
                  "RBIRTH2014": 10.998741669,
                  "RBIRTH2015": 11.428571429,
                  "RDEATH2011": 12.26993865,
                  "RDEATH2012": 10.925359077,
                  "RDEATH2013": 11.302627861,
                  "RDEATH2014": 9.2277578413,
                  "RDEATH2015": 10.12775842,
                  "RNATURALINC2011": 3.4393009853,
                  "RNATURALINC2012": 0.5651047798,
                  "RNATURALINC2013": 1.1302627861,
                  "RNATURALINC2014": 1.7709838281,
                  "RNATURALINC2015": 1.3008130081,
                  "RINTERNATIONALMIG2011": 1.9520356944,
                  "RINTERNATIONALMIG2012": 2.3546032494,
                  "RINTERNATIONALMIG2013": 2.6372798342,
                  "RINTERNATIONALMIG2014": 2.8894999301,
                  "RINTERNATIONALMIG2015": 2.9732868757,
                  "RDOMESTICMIG2011": -30.95370887,
                  "RDOMESTICMIG2012": -5.180127149,
                  "RDOMESTICMIG2013": -1.130262786,
                  "RDOMESTICMIG2014": 14.354289975,
                  "RDOMESTICMIG2015": -16.16724739,
                  "RNETMIG2011": -29.00167317,
                  "RNETMIG2012": -2.825523899,
                  "RNETMIG2013": 1.5070170481,
                  "RNETMIG2014": 17.243789905,
                  "RNETMIG2015": -13.19396051,
                  "_deepnote_index_column": 6
                },
                {
                  "SUMLEV": 50,
                  "REGION": 3,
                  "DIVISION": 6,
                  "STATE": 1,
                  "COUNTY": 13,
                  "STNAME": "Alabama",
                  "CTYNAME": "Butler County",
                  "CENSUS2010POP": 20947,
                  "ESTIMATESBASE2010": 20946,
                  "POPESTIMATE2010": 20944,
                  "POPESTIMATE2011": 20673,
                  "POPESTIMATE2012": 20408,
                  "POPESTIMATE2013": 20261,
                  "POPESTIMATE2014": 20276,
                  "POPESTIMATE2015": 20154,
                  "NPOPCHG_2010": -2,
                  "NPOPCHG_2011": -271,
                  "NPOPCHG_2012": -265,
                  "NPOPCHG_2013": -147,
                  "NPOPCHG_2014": 15,
                  "NPOPCHG_2015": -122,
                  "BIRTHS2010": 65,
                  "BIRTHS2011": 276,
                  "BIRTHS2012": 241,
                  "BIRTHS2013": 240,
                  "BIRTHS2014": 267,
                  "BIRTHS2015": 257,
                  "DEATHS2010": 60,
                  "DEATHS2011": 261,
                  "DEATHS2012": 271,
                  "DEATHS2013": 261,
                  "DEATHS2014": 265,
                  "DEATHS2015": 236,
                  "NATURALINC2010": 5,
                  "NATURALINC2011": 15,
                  "NATURALINC2012": -30,
                  "NATURALINC2013": -21,
                  "NATURALINC2014": 2,
                  "NATURALINC2015": 21,
                  "INTERNATIONALMIG2010": 0,
                  "INTERNATIONALMIG2011": 2,
                  "INTERNATIONALMIG2012": 2,
                  "INTERNATIONALMIG2013": 2,
                  "INTERNATIONALMIG2014": 2,
                  "INTERNATIONALMIG2015": 2,
                  "DOMESTICMIG2010": -5,
                  "DOMESTICMIG2011": -292,
                  "DOMESTICMIG2012": -240,
                  "DOMESTICMIG2013": -115,
                  "DOMESTICMIG2014": 22,
                  "DOMESTICMIG2015": -132,
                  "NETMIG2010": -5,
                  "NETMIG2011": -290,
                  "NETMIG2012": -238,
                  "NETMIG2013": -113,
                  "NETMIG2014": 24,
                  "NETMIG2015": -130,
                  "RESIDUAL2010": -2,
                  "RESIDUAL2011": 4,
                  "RESIDUAL2012": 3,
                  "RESIDUAL2013": -13,
                  "RESIDUAL2014": -11,
                  "RESIDUAL2015": -13,
                  "GQESTIMATESBASE2010": 333,
                  "GQESTIMATES2010": 333,
                  "GQESTIMATES2011": 333,
                  "GQESTIMATES2012": 333,
                  "GQESTIMATES2013": 333,
                  "GQESTIMATES2014": 333,
                  "GQESTIMATES2015": 333,
                  "RBIRTH2011": 13.263810462,
                  "RBIRTH2012": 11.732917894,
                  "RBIRTH2013": 11.80260149,
                  "RBIRTH2014": 13.173150455,
                  "RBIRTH2015": 12.713331684,
                  "RDEATH2011": 12.542951198,
                  "RDEATH2012": 13.193447092,
                  "RDEATH2013": 12.83532912,
                  "RDEATH2014": 13.074475171,
                  "RDEATH2015": 11.674499134,
                  "RNATURALINC2011": 0.7208592642,
                  "RNATURALINC2012": -1.460529198,
                  "RNATURALINC2013": -1.03272763,
                  "RNATURALINC2014": 0.0986752843,
                  "RNATURALINC2015": 1.0388325501,
                  "RINTERNATIONALMIG2011": 0.0961145686,
                  "RINTERNATIONALMIG2012": 0.0973686132,
                  "RINTERNATIONALMIG2013": 0.0983550124,
                  "RINTERNATIONALMIG2014": 0.0986752843,
                  "RINTERNATIONALMIG2015": 0.0989364333,
                  "RDOMESTICMIG2011": -14.03272701,
                  "RDOMESTICMIG2012": -11.68423359,
                  "RDOMESTICMIG2013": -5.655413214,
                  "RDOMESTICMIG2014": 1.0854281274,
                  "RDOMESTICMIG2015": -6.529804601,
                  "RNETMIG2011": -13.93661244,
                  "RNETMIG2012": -11.58686497,
                  "RNETMIG2013": -5.557058202,
                  "RNETMIG2014": 1.1841034117,
                  "RNETMIG2015": -6.430868167,
                  "_deepnote_index_column": 7
                },
                {
                  "SUMLEV": 50,
                  "REGION": 3,
                  "DIVISION": 6,
                  "STATE": 1,
                  "COUNTY": 15,
                  "STNAME": "Alabama",
                  "CTYNAME": "Calhoun County",
                  "CENSUS2010POP": 118572,
                  "ESTIMATESBASE2010": 118586,
                  "POPESTIMATE2010": 118437,
                  "POPESTIMATE2011": 117768,
                  "POPESTIMATE2012": 117286,
                  "POPESTIMATE2013": 116575,
                  "POPESTIMATE2014": 115993,
                  "POPESTIMATE2015": 115620,
                  "NPOPCHG_2010": -149,
                  "NPOPCHG_2011": -669,
                  "NPOPCHG_2012": -482,
                  "NPOPCHG_2013": -711,
                  "NPOPCHG_2014": -582,
                  "NPOPCHG_2015": -373,
                  "BIRTHS2010": 317,
                  "BIRTHS2011": 1382,
                  "BIRTHS2012": 1357,
                  "BIRTHS2013": 1309,
                  "BIRTHS2014": 1355,
                  "BIRTHS2015": 1335,
                  "DEATHS2010": 312,
                  "DEATHS2011": 1326,
                  "DEATHS2012": 1357,
                  "DEATHS2013": 1412,
                  "DEATHS2014": 1407,
                  "DEATHS2015": 1395,
                  "NATURALINC2010": 5,
                  "NATURALINC2011": 56,
                  "NATURALINC2012": 0,
                  "NATURALINC2013": -103,
                  "NATURALINC2014": -52,
                  "NATURALINC2015": -60,
                  "INTERNATIONALMIG2010": 6,
                  "INTERNATIONALMIG2011": 43,
                  "INTERNATIONALMIG2012": 61,
                  "INTERNATIONALMIG2013": 54,
                  "INTERNATIONALMIG2014": 64,
                  "INTERNATIONALMIG2015": 66,
                  "DOMESTICMIG2010": -155,
                  "DOMESTICMIG2011": -727,
                  "DOMESTICMIG2012": -542,
                  "DOMESTICMIG2013": -646,
                  "DOMESTICMIG2014": -519,
                  "DOMESTICMIG2015": -391,
                  "NETMIG2010": -149,
                  "NETMIG2011": -684,
                  "NETMIG2012": -481,
                  "NETMIG2013": -592,
                  "NETMIG2014": -455,
                  "NETMIG2015": -325,
                  "RESIDUAL2010": -5,
                  "RESIDUAL2011": -41,
                  "RESIDUAL2012": -1,
                  "RESIDUAL2013": -16,
                  "RESIDUAL2014": -75,
                  "RESIDUAL2015": 12,
                  "GQESTIMATESBASE2010": 2933,
                  "GQESTIMATES2010": 2934,
                  "GQESTIMATES2011": 2882,
                  "GQESTIMATES2012": 2958,
                  "GQESTIMATES2013": 2812,
                  "GQESTIMATES2014": 2797,
                  "GQESTIMATES2015": 2804,
                  "RBIRTH2011": 11.701699795,
                  "RBIRTH2012": 11.546282982,
                  "RBIRTH2013": 11.194684022,
                  "RBIRTH2014": 11.652505934,
                  "RBIRTH2015": 11.527850337,
                  "RDEATH2011": 11.227535404,
                  "RDEATH2012": 11.546282982,
                  "RDEATH2013": 12.075549151,
                  "RDEATH2014": 12.099686973,
                  "RDEATH2015": 12.04595597,
                  "RNATURALINC2011": 0.4741643911,
                  "RNATURALINC2012": 0,
                  "RNATURALINC2013": -0.880865129,
                  "RNATURALINC2014": -0.44718104,
                  "RNATURALINC2015": -0.518105633,
                  "RINTERNATIONALMIG2011": 0.3640905146,
                  "RINTERNATIONALMIG2012": 0.5190296698,
                  "RINTERNATIONALMIG2013": 0.4618127862,
                  "RINTERNATIONALMIG2014": 0.550376664,
                  "RINTERNATIONALMIG2015": 0.5699161964,
                  "RDOMESTICMIG2011": -6.155669863,
                  "RDOMESTICMIG2012": -4.611706246,
                  "RDOMESTICMIG2013": -5.524649257,
                  "RDOMESTICMIG2014": -4.46321076,
                  "RDOMESTICMIG2015": -3.376321709,
                  "RNETMIG2011": -5.791579348,
                  "RNETMIG2012": -4.092676576,
                  "RNETMIG2013": -5.062836471,
                  "RNETMIG2014": -3.912834096,
                  "RNETMIG2015": -2.806405513,
                  "_deepnote_index_column": 8
                },
                {
                  "SUMLEV": 50,
                  "REGION": 3,
                  "DIVISION": 6,
                  "STATE": 1,
                  "COUNTY": 17,
                  "STNAME": "Alabama",
                  "CTYNAME": "Chambers County",
                  "CENSUS2010POP": 34215,
                  "ESTIMATESBASE2010": 34170,
                  "POPESTIMATE2010": 34098,
                  "POPESTIMATE2011": 33993,
                  "POPESTIMATE2012": 34075,
                  "POPESTIMATE2013": 34153,
                  "POPESTIMATE2014": 34052,
                  "POPESTIMATE2015": 34123,
                  "NPOPCHG_2010": -72,
                  "NPOPCHG_2011": -105,
                  "NPOPCHG_2012": 82,
                  "NPOPCHG_2013": 78,
                  "NPOPCHG_2014": -101,
                  "NPOPCHG_2015": 71,
                  "BIRTHS2010": 81,
                  "BIRTHS2011": 401,
                  "BIRTHS2012": 393,
                  "BIRTHS2013": 404,
                  "BIRTHS2014": 421,
                  "BIRTHS2015": 429,
                  "DEATHS2010": 80,
                  "DEATHS2011": 441,
                  "DEATHS2012": 475,
                  "DEATHS2013": 452,
                  "DEATHS2014": 491,
                  "DEATHS2015": 457,
                  "NATURALINC2010": 1,
                  "NATURALINC2011": -40,
                  "NATURALINC2012": -82,
                  "NATURALINC2013": -48,
                  "NATURALINC2014": -70,
                  "NATURALINC2015": -28,
                  "INTERNATIONALMIG2010": 7,
                  "INTERNATIONALMIG2011": 31,
                  "INTERNATIONALMIG2012": 29,
                  "INTERNATIONALMIG2013": 31,
                  "INTERNATIONALMIG2014": 34,
                  "INTERNATIONALMIG2015": 34,
                  "DOMESTICMIG2010": -74,
                  "DOMESTICMIG2011": -93,
                  "DOMESTICMIG2012": 131,
                  "DOMESTICMIG2013": 98,
                  "DOMESTICMIG2014": -78,
                  "DOMESTICMIG2015": 46,
                  "NETMIG2010": -67,
                  "NETMIG2011": -62,
                  "NETMIG2012": 160,
                  "NETMIG2013": 129,
                  "NETMIG2014": -44,
                  "NETMIG2015": 80,
                  "RESIDUAL2010": -6,
                  "RESIDUAL2011": -3,
                  "RESIDUAL2012": 4,
                  "RESIDUAL2013": -3,
                  "RESIDUAL2014": 13,
                  "RESIDUAL2015": 19,
                  "GQESTIMATESBASE2010": 458,
                  "GQESTIMATES2010": 458,
                  "GQESTIMATES2011": 458,
                  "GQESTIMATES2012": 458,
                  "GQESTIMATES2013": 458,
                  "GQESTIMATES2014": 458,
                  "GQESTIMATES2015": 458,
                  "RBIRTH2011": 11.778355436,
                  "RBIRTH2012": 11.547276253,
                  "RBIRTH2013": 11.842645248,
                  "RBIRTH2014": 12.345135987,
                  "RBIRTH2015": 12.585258526,
                  "RDEATH2011": 12.953253734,
                  "RDEATH2012": 13.956631604,
                  "RDEATH2013": 13.249692208,
                  "RDEATH2014": 14.397771424,
                  "RDEATH2015": 13.406674001,
                  "RNATURALINC2011": -1.174898298,
                  "RNATURALINC2012": -2.409355351,
                  "RNATURALINC2013": -1.40704696,
                  "RNATURALINC2014": -2.052635437,
                  "RNATURALINC2015": -0.821415475,
                  "RINTERNATIONALMIG2011": 0.9105461808,
                  "RINTERNATIONALMIG2012": 0.8520890874,
                  "RINTERNATIONALMIG2013": 0.9087178285,
                  "RINTERNATIONALMIG2014": 0.9969943553,
                  "RINTERNATIONALMIG2015": 0.9974330766,
                  "RDOMESTICMIG2011": -2.731638543,
                  "RDOMESTICMIG2012": 3.8490920844,
                  "RDOMESTICMIG2013": 2.8727208771,
                  "RDOMESTICMIG2014": -2.287222344,
                  "RDOMESTICMIG2015": 1.3494682802,
                  "RNETMIG2011": -1.821092362,
                  "RNETMIG2012": 4.7011811718,
                  "RNETMIG2013": 3.7814387055,
                  "RNETMIG2014": -1.290227989,
                  "RNETMIG2015": 2.3469013568,
                  "_deepnote_index_column": 9
                }
              ],
              "rows_bottom": null
            },
            "text/plain": "   SUMLEV  REGION  DIVISION  STATE  COUNTY   STNAME          CTYNAME  \\\n0      40       3         6      1       0  Alabama          Alabama   \n1      50       3         6      1       1  Alabama   Autauga County   \n2      50       3         6      1       3  Alabama   Baldwin County   \n3      50       3         6      1       5  Alabama   Barbour County   \n4      50       3         6      1       7  Alabama      Bibb County   \n5      50       3         6      1       9  Alabama    Blount County   \n6      50       3         6      1      11  Alabama   Bullock County   \n7      50       3         6      1      13  Alabama    Butler County   \n8      50       3         6      1      15  Alabama   Calhoun County   \n9      50       3         6      1      17  Alabama  Chambers County   \n\n   CENSUS2010POP  ESTIMATESBASE2010  POPESTIMATE2010  ...  RDOMESTICMIG2011  \\\n0        4779736            4780127          4785161  ...          0.002295   \n1          54571              54571            54660  ...          7.242091   \n2         182265             182265           183193  ...         14.832960   \n3          27457              27457            27341  ...         -4.728132   \n4          22915              22919            22861  ...         -5.527043   \n5          57322              57322            57373  ...          1.807375   \n6          10914              10915            10887  ...        -30.953709   \n7          20947              20946            20944  ...        -14.032727   \n8         118572             118586           118437  ...         -6.155670   \n9          34215              34170            34098  ...         -2.731639   \n\n   RDOMESTICMIG2012  RDOMESTICMIG2013  RDOMESTICMIG2014  RDOMESTICMIG2015  \\\n0         -0.193196          0.381066          0.582002         -0.467369   \n1         -2.915927         -3.012349          2.265971         -2.530799   \n2         17.647293         21.845705         19.243287         17.197872   \n3         -2.500690         -7.056824         -3.904217        -10.543299   \n4         -5.068871         -6.201001         -0.177537          0.177258   \n5         -1.177622         -1.748766         -2.062535         -1.369970   \n6         -5.180127         -1.130263         14.354290        -16.167247   \n7        -11.684234         -5.655413          1.085428         -6.529805   \n8         -4.611706         -5.524649         -4.463211         -3.376322   \n9          3.849092          2.872721         -2.287222          1.349468   \n\n   RNETMIG2011  RNETMIG2012  RNETMIG2013  RNETMIG2014  RNETMIG2015  \n0     1.030015     0.826644     1.383282     1.724718     0.712594  \n1     7.606016    -2.626146    -2.722002     2.592270    -2.187333  \n2    15.844176    18.559627    22.727626    20.317142    18.293499  \n3    -4.874741    -2.758113    -7.167664    -3.978583   -10.543299  \n4    -5.088389    -4.363636    -5.403729     0.754533     1.107861  \n5     1.859511    -0.848580    -1.402476    -1.577232    -0.884411  \n6   -29.001673    -2.825524     1.507017    17.243790   -13.193961  \n7   -13.936612   -11.586865    -5.557058     1.184103    -6.430868  \n8    -5.791579    -4.092677    -5.062836    -3.912834    -2.806406  \n9    -1.821092     4.701181     3.781439    -1.290228     2.346901  \n\n[10 rows x 100 columns]",
            "text/html": "<div>\n<style scoped>\n    .dataframe tbody tr th:only-of-type {\n        vertical-align: middle;\n    }\n\n    .dataframe tbody tr th {\n        vertical-align: top;\n    }\n\n    .dataframe thead th {\n        text-align: right;\n    }\n</style>\n<table border=\"1\" class=\"dataframe\">\n  <thead>\n    <tr style=\"text-align: right;\">\n      <th></th>\n      <th>SUMLEV</th>\n      <th>REGION</th>\n      <th>DIVISION</th>\n      <th>STATE</th>\n      <th>COUNTY</th>\n      <th>STNAME</th>\n      <th>CTYNAME</th>\n      <th>CENSUS2010POP</th>\n      <th>ESTIMATESBASE2010</th>\n      <th>POPESTIMATE2010</th>\n      <th>...</th>\n      <th>RDOMESTICMIG2011</th>\n      <th>RDOMESTICMIG2012</th>\n      <th>RDOMESTICMIG2013</th>\n      <th>RDOMESTICMIG2014</th>\n      <th>RDOMESTICMIG2015</th>\n      <th>RNETMIG2011</th>\n      <th>RNETMIG2012</th>\n      <th>RNETMIG2013</th>\n      <th>RNETMIG2014</th>\n      <th>RNETMIG2015</th>\n    </tr>\n  </thead>\n  <tbody>\n    <tr>\n      <th>0</th>\n      <td>40</td>\n      <td>3</td>\n      <td>6</td>\n      <td>1</td>\n      <td>0</td>\n      <td>Alabama</td>\n      <td>Alabama</td>\n      <td>4779736</td>\n      <td>4780127</td>\n      <td>4785161</td>\n      <td>...</td>\n      <td>0.002295</td>\n      <td>-0.193196</td>\n      <td>0.381066</td>\n      <td>0.582002</td>\n      <td>-0.467369</td>\n      <td>1.030015</td>\n      <td>0.826644</td>\n      <td>1.383282</td>\n      <td>1.724718</td>\n      <td>0.712594</td>\n    </tr>\n    <tr>\n      <th>1</th>\n      <td>50</td>\n      <td>3</td>\n      <td>6</td>\n      <td>1</td>\n      <td>1</td>\n      <td>Alabama</td>\n      <td>Autauga County</td>\n      <td>54571</td>\n      <td>54571</td>\n      <td>54660</td>\n      <td>...</td>\n      <td>7.242091</td>\n      <td>-2.915927</td>\n      <td>-3.012349</td>\n      <td>2.265971</td>\n      <td>-2.530799</td>\n      <td>7.606016</td>\n      <td>-2.626146</td>\n      <td>-2.722002</td>\n      <td>2.592270</td>\n      <td>-2.187333</td>\n    </tr>\n    <tr>\n      <th>2</th>\n      <td>50</td>\n      <td>3</td>\n      <td>6</td>\n      <td>1</td>\n      <td>3</td>\n      <td>Alabama</td>\n      <td>Baldwin County</td>\n      <td>182265</td>\n      <td>182265</td>\n      <td>183193</td>\n      <td>...</td>\n      <td>14.832960</td>\n      <td>17.647293</td>\n      <td>21.845705</td>\n      <td>19.243287</td>\n      <td>17.197872</td>\n      <td>15.844176</td>\n      <td>18.559627</td>\n      <td>22.727626</td>\n      <td>20.317142</td>\n      <td>18.293499</td>\n    </tr>\n    <tr>\n      <th>3</th>\n      <td>50</td>\n      <td>3</td>\n      <td>6</td>\n      <td>1</td>\n      <td>5</td>\n      <td>Alabama</td>\n      <td>Barbour County</td>\n      <td>27457</td>\n      <td>27457</td>\n      <td>27341</td>\n      <td>...</td>\n      <td>-4.728132</td>\n      <td>-2.500690</td>\n      <td>-7.056824</td>\n      <td>-3.904217</td>\n      <td>-10.543299</td>\n      <td>-4.874741</td>\n      <td>-2.758113</td>\n      <td>-7.167664</td>\n      <td>-3.978583</td>\n      <td>-10.543299</td>\n    </tr>\n    <tr>\n      <th>4</th>\n      <td>50</td>\n      <td>3</td>\n      <td>6</td>\n      <td>1</td>\n      <td>7</td>\n      <td>Alabama</td>\n      <td>Bibb County</td>\n      <td>22915</td>\n      <td>22919</td>\n      <td>22861</td>\n      <td>...</td>\n      <td>-5.527043</td>\n      <td>-5.068871</td>\n      <td>-6.201001</td>\n      <td>-0.177537</td>\n      <td>0.177258</td>\n      <td>-5.088389</td>\n      <td>-4.363636</td>\n      <td>-5.403729</td>\n      <td>0.754533</td>\n      <td>1.107861</td>\n    </tr>\n    <tr>\n      <th>5</th>\n      <td>50</td>\n      <td>3</td>\n      <td>6</td>\n      <td>1</td>\n      <td>9</td>\n      <td>Alabama</td>\n      <td>Blount County</td>\n      <td>57322</td>\n      <td>57322</td>\n      <td>57373</td>\n      <td>...</td>\n      <td>1.807375</td>\n      <td>-1.177622</td>\n      <td>-1.748766</td>\n      <td>-2.062535</td>\n      <td>-1.369970</td>\n      <td>1.859511</td>\n      <td>-0.848580</td>\n      <td>-1.402476</td>\n      <td>-1.577232</td>\n      <td>-0.884411</td>\n    </tr>\n    <tr>\n      <th>6</th>\n      <td>50</td>\n      <td>3</td>\n      <td>6</td>\n      <td>1</td>\n      <td>11</td>\n      <td>Alabama</td>\n      <td>Bullock County</td>\n      <td>10914</td>\n      <td>10915</td>\n      <td>10887</td>\n      <td>...</td>\n      <td>-30.953709</td>\n      <td>-5.180127</td>\n      <td>-1.130263</td>\n      <td>14.354290</td>\n      <td>-16.167247</td>\n      <td>-29.001673</td>\n      <td>-2.825524</td>\n      <td>1.507017</td>\n      <td>17.243790</td>\n      <td>-13.193961</td>\n    </tr>\n    <tr>\n      <th>7</th>\n      <td>50</td>\n      <td>3</td>\n      <td>6</td>\n      <td>1</td>\n      <td>13</td>\n      <td>Alabama</td>\n      <td>Butler County</td>\n      <td>20947</td>\n      <td>20946</td>\n      <td>20944</td>\n      <td>...</td>\n      <td>-14.032727</td>\n      <td>-11.684234</td>\n      <td>-5.655413</td>\n      <td>1.085428</td>\n      <td>-6.529805</td>\n      <td>-13.936612</td>\n      <td>-11.586865</td>\n      <td>-5.557058</td>\n      <td>1.184103</td>\n      <td>-6.430868</td>\n    </tr>\n    <tr>\n      <th>8</th>\n      <td>50</td>\n      <td>3</td>\n      <td>6</td>\n      <td>1</td>\n      <td>15</td>\n      <td>Alabama</td>\n      <td>Calhoun County</td>\n      <td>118572</td>\n      <td>118586</td>\n      <td>118437</td>\n      <td>...</td>\n      <td>-6.155670</td>\n      <td>-4.611706</td>\n      <td>-5.524649</td>\n      <td>-4.463211</td>\n      <td>-3.376322</td>\n      <td>-5.791579</td>\n      <td>-4.092677</td>\n      <td>-5.062836</td>\n      <td>-3.912834</td>\n      <td>-2.806406</td>\n    </tr>\n    <tr>\n      <th>9</th>\n      <td>50</td>\n      <td>3</td>\n      <td>6</td>\n      <td>1</td>\n      <td>17</td>\n      <td>Alabama</td>\n      <td>Chambers County</td>\n      <td>34215</td>\n      <td>34170</td>\n      <td>34098</td>\n      <td>...</td>\n      <td>-2.731639</td>\n      <td>3.849092</td>\n      <td>2.872721</td>\n      <td>-2.287222</td>\n      <td>1.349468</td>\n      <td>-1.821092</td>\n      <td>4.701181</td>\n      <td>3.781439</td>\n      <td>-1.290228</td>\n      <td>2.346901</td>\n    </tr>\n  </tbody>\n</table>\n<p>10 rows × 100 columns</p>\n</div>"
          },
          "metadata": {}
        }
      ],
      "execution_count": null
    },
    {
      "cell_type": "code",
      "metadata": {
        "tags": [],
        "cell_id": "00002-af7602a8-8eda-420f-87fe-1bac4b9ce169",
        "deepnote_to_be_reexecuted": false,
        "source_hash": "2886d330",
        "execution_millis": 2177,
        "execution_start": 1618685263474,
        "deepnote_cell_type": "code"
      },
      "source": "# As we are interested in understanding the characteristics about the U.S. counties by plotting\n# the population distribution in county level\n# So we subset the counties by filtering rows where SUMLEV equals 50\ncensus = census[census['SUMLEV'] == 50]\n# and plot the distribution of census population in 2010. So we pass through the dataset with the 2010 census population in sns.histplot\nsns.histplot(census['CENSUS2010POP'])\n# plt.ticklabel_format(style='plain', axis='y')\n\n# In this histogram, we find that the population in county level spread from a very small number less than a million to approximately 10 millions, but a vast majority\n# of counties have just tiny amount of population so data points cluster at the lower end. Some people are more interested in understanding \n# the median during the daily life, like comparing housing prices and salaries from different geographical areas, because median may better \n# reflect the central tendency than the mean, which is particularly susceptible to extremely large and small numerical values. \n\n# It's always a good practice to check summary statistics at the same time you are making graphs. In this case, I used\n# np.mean, np.median, and np.max to understand the mean value, median country population, as well as the largest population size among all counties.\nprint(\"Mean County Population: \", np.mean(census['CENSUS2010POP']))\nprint(\"Median County Population: \", np.median(census['CENSUS2010POP']))\nprint(\"Max County Population: \", np.max(census['CENSUS2010POP']))\n\n# So we are informed that the median county population is roughly 3 times smaller than the mean county population, because\n# the mean value is escalated significantly due to some mega counties in the U.S. such as the Cook County and Los Angeles County, etc.\n# We would use the statistical term right skewed to describe the case when the mean is larger than the median, and it's typially true \n# for describing the population distribution.\n",
      "outputs": [
        {
          "name": "stdout",
          "text": "Mean County Population:  98262.03564608529\nMedian County Population:  25872.0\nMax County Population:  9818605\n",
          "output_type": "stream"
        },
        {
          "data": {
            "text/plain": "<Figure size 432x288 with 1 Axes>",
            "image/png": "[encoded data removed]"
          },
          "metadata": {
            "needs_background": "light"
          },
          "output_type": "display_data"
        }
      ],
      "execution_count": null
    },
    {
      "cell_type": "code",
      "source": "# (Option Section)\n# Log-Scale\nsns.histplot(np.log(census['CENSUS2010POP']))",
      "metadata": {
        "tags": [],
        "cell_id": "00005-b9061901-7b03-457d-9026-9c7061dcd9ec",
        "deepnote_to_be_reexecuted": false,
        "source_hash": "e05ebbb2",
        "execution_millis": 194,
        "execution_start": 1618685287125,
        "deepnote_cell_type": "code"
      },
      "outputs": [
        {
          "output_type": "execute_result",
          "execution_count": 9,
          "data": {
            "text/plain": "<AxesSubplot:xlabel='CENSUS2010POP', ylabel='Count'>"
          },
          "metadata": {}
        },
        {
          "data": {
            "text/plain": "<Figure size 432x288 with 1 Axes>",
            "image/png": "[encoded data removed]"
          },
          "metadata": {
            "needs_background": "light"
          },
          "output_type": "display_data"
        }
      ],
      "execution_count": null
    },
    {
      "cell_type": "code",
      "metadata": {
        "tags": [],
        "cell_id": "00005-4461787d-0203-4759-90b3-d99f142a0926",
        "deepnote_to_be_reexecuted": false,
        "source_hash": "8290a03",
        "execution_millis": 251,
        "execution_start": 1618685265660,
        "deepnote_cell_type": "code"
      },
      "source": "# To get a sense of where do the actually county populations locate, we can look at the rugplot \n# A rugplot uses perpendicular markers to show every single data point on the x-axis. I added the height option so that the markers are conspicuous. \nsns.rugplot(x = census['CENSUS2010POP'], height = 0.1)\n# You can see that it looks like an one-dimensional scatter plot. \n# The benefit of it is that it shows every value in a distribution, not just the smoothed density\n# Interpreting a rugplot is just analogous to counting frequencies in a histogram.\n# The dense markers clustered at the lower end of the x-axis indicate that a majority of counties have small populations. \n# Looking at the x-axis between 2 to 10 million, the data point becomes sparse, meaning only a few counties recorded 2 million or more population in 2010.\n# So again, the distribution is skewed to the right. Of course, we believe that the largest and smallest counties are formed due to its are size, \n# its geographical locations and various historical reasons, but it's outside the scope of this course.\n\n# Ps: The least populated county is Kalawao County, Hawaii with only 86 people\n\n# A rug plot is a compact way of illustrating the marginal distributions of a variable along x and y. \n",
      "outputs": [
        {
          "output_type": "execute_result",
          "execution_count": 4,
          "data": {
            "text/plain": "<AxesSubplot:xlabel='CENSUS2010POP'>"
          },
          "metadata": {}
        },
        {
          "data": {
            "text/plain": "<Figure size 432x288 with 1 Axes>",
            "image/png": "[encoded data removed]"
          },
          "metadata": {
            "needs_background": "light"
          },
          "output_type": "display_data"
        }
      ],
      "execution_count": null
    },
    {
      "cell_type": "code",
      "source": "sns.rugplot(x = np.log(census['CENSUS2010POP']), height = 0.1)",
      "metadata": {
        "tags": [],
        "cell_id": "00007-fd5eaef5-96a0-45bf-9edd-9a776ef515d1",
        "deepnote_to_be_reexecuted": false,
        "source_hash": "1c7c8991",
        "execution_start": 1618685519938,
        "execution_millis": 298,
        "deepnote_cell_type": "code"
      },
      "outputs": [
        {
          "output_type": "execute_result",
          "execution_count": 10,
          "data": {
            "text/plain": "<AxesSubplot:xlabel='CENSUS2010POP'>"
          },
          "metadata": {}
        },
        {
          "data": {
            "text/plain": "<Figure size 432x288 with 1 Axes>",
            "image/png": "[encoded data removed]"
          },
          "metadata": {
            "needs_background": "light"
          },
          "output_type": "display_data"
        }
      ],
      "execution_count": null
    },
    {
      "cell_type": "code",
      "metadata": {
        "tags": [],
        "cell_id": "00006-a058e933-6591-4384-acbd-c1f5e23dc16e",
        "deepnote_to_be_reexecuted": false,
        "source_hash": "4a7a6cd9",
        "execution_millis": 246,
        "execution_start": 1618685265904,
        "deepnote_cell_type": "code"
      },
      "source": "# Alternatively, we can plot a distribution using sns.distplot function, but this time we want to look at the \n# natural population growth rate (which is total birth subtracted by total death, over the county population) in each county in 2011.\n\nsns.distplot(census['RNATURALINC2011'])\n# The graph made by sns.distplot is a probability density plot. Look at the shape of the graph, it actually\n# resembles a bell, thereby it's technically called the bell curve. \n\n# Looking at the x-axis and y-axis, we found that there is higher chance that the natural growth rate of county population\n# is closed to 0, which means the overall U.S. population should remain largely unchanged in 2011. \n# You will also notice that the density (y-axis) tapers off on both sides with a center around 0. So for example,\n# the density corresponding negative 10 and 10 are less than 0.01. Since the density represents a relative\n# sense of how likely you'll see counties with that natural growth rate, it means it's more likely that a\n# county will record a small proportion change in population than record an increase or decrease of more than \n# 10 percent.",
      "outputs": [
        {
          "name": "stderr",
          "text": "/shared-libs/python3.7/py/lib/python3.7/site-packages/seaborn/distributions.py:2557: FutureWarning: `distplot` is a deprecated function and will be removed in a future version. Please adapt your code to use either `displot` (a figure-level function with similar flexibility) or `histplot` (an axes-level function for histograms).\n  warnings.warn(msg, FutureWarning)\n",
          "output_type": "stream"
        },
        {
          "output_type": "execute_result",
          "execution_count": 5,
          "data": {
            "text/plain": "<AxesSubplot:xlabel='RNATURALINC2011', ylabel='Density'>"
          },
          "metadata": {}
        },
        {
          "data": {
            "text/plain": "<Figure size 432x288 with 1 Axes>",
            "image/png": "[encoded data removed]"
          },
          "metadata": {
            "needs_background": "light"
          },
          "output_type": "display_data"
        }
      ],
      "execution_count": null
    },
    {
      "cell_type": "code",
      "metadata": {
        "tags": [],
        "cell_id": "00007-7c380d2c-39c8-4ef1-acd2-622e2a7d7a48",
        "deepnote_to_be_reexecuted": false,
        "source_hash": "df11fad5",
        "execution_millis": 230,
        "execution_start": 1618685266158,
        "deepnote_cell_type": "code"
      },
      "source": "# Let's explore if the natural population growth rate would change significantly after a few years.\n# So we make the same probability density plot for the 2015 natural population growth rate data.\nsns.distplot(census['RNATURALINC2015'])\n\n# As you can see, the shape and the spread of the graph remain largely unchanged. In fact, if you check the\n# natural population growth rate from 2011 to 2015, the population growth rate does not witness a great \n# surge or downtown during the 5 years. If you are curious enough, you can find the World Bank data, where\n# statistics show that the fertility rate in the U.S. actually reduced slightly from 1.89 births per woman to \n# 1.84 births per woman in 2015.\n\n# In Bayesian perspective, this knowledge can to some extent, convince\n# you a belief that the natural population growth rate in the U.S. is constant in recent years. Again, when \n# new data comes in, based on the Bayes' rule, we can update our belief, meaning we may strengthen the belief\n# if the new data suggests the same situation, or change the belief either if the new data suggests a big leap or \n# big recession in population growth rate.",
      "outputs": [
        {
          "name": "stderr",
          "text": "/shared-libs/python3.7/py/lib/python3.7/site-packages/seaborn/distributions.py:2557: FutureWarning: `distplot` is a deprecated function and will be removed in a future version. Please adapt your code to use either `displot` (a figure-level function with similar flexibility) or `histplot` (an axes-level function for histograms).\n  warnings.warn(msg, FutureWarning)\n",
          "output_type": "stream"
        },
        {
          "output_type": "execute_result",
          "execution_count": 6,
          "data": {
            "text/plain": "<AxesSubplot:xlabel='RNATURALINC2015', ylabel='Density'>"
          },
          "metadata": {}
        },
        {
          "data": {
            "text/plain": "<Figure size 432x288 with 1 Axes>",
            "image/png": "[encoded data removed]"
          },
          "metadata": {
            "needs_background": "light"
          },
          "output_type": "display_data"
        }
      ],
      "execution_count": null
    },
    {
      "cell_type": "code",
      "metadata": {
        "tags": [],
        "cell_id": "00003-0e9d6dbc-4f40-4a4d-8a6c-3229cde52372",
        "deepnote_to_be_reexecuted": false,
        "source_hash": "34547727",
        "execution_millis": 455,
        "execution_start": 1618685266386,
        "deepnote_cell_type": "code"
      },
      "source": "# Cool! Now let's say you are analyzing the immigration-emigration trend in the U.S. counties.\n# You know that urbanization has led to mass movement of people to cities to create better job opportunities and spur economic growth.\n# Before hastily reaching to the conclusion, a question that you want to examine is: Do more people tend to move into big counties?\n# To examine the relationship between population and number of people immigrating, we can use the regplot in seaborn.\nsns.regplot(x='CENSUS2010POP', y='NETMIG2010', data=census)\n# It does not look very great unfortunately. \n",
      "outputs": [
        {
          "output_type": "execute_result",
          "execution_count": 7,
          "data": {
            "text/plain": "<AxesSubplot:xlabel='CENSUS2010POP', ylabel='NETMIG2010'>"
          },
          "metadata": {}
        },
        {
          "data": {
            "text/plain": "<Figure size 432x288 with 1 Axes>",
            "image/png": "[encoded data removed]"
          },
          "metadata": {
            "needs_background": "light"
          },
          "output_type": "display_data"
        }
      ],
      "execution_count": null
    },
    {
      "cell_type": "code",
      "metadata": {
        "tags": [],
        "cell_id": "00007-c8f16667-1c37-4b69-b0cc-f5f299c1087d",
        "deepnote_to_be_reexecuted": false,
        "source_hash": "469046c3",
        "execution_millis": 389,
        "execution_start": 1618685266843,
        "deepnote_cell_type": "code"
      },
      "source": "# Fortunately, Seaborn's regplot function accepts additional parameters to customize the graph. \n# So you can change the line color for example using the line_kws option and the color parameter. \n# Let's go ahead and change the color to green. \nmigration = sns.regplot(x='CENSUS2010POP', y='NETMIG2010', line_kws={\"color\": \"gold\"}, data=census)\nmigration.set_title(\"Relationship of county population and migration\")\n# That looks much clearer. The output of this one line of code is a scatter plot with a \n# regression line and not just that, but also should approximately 2 standard deviation above and below the estimate.\n# Really looking to the plot we'll see a slightly increase in the net migration when population increase.\n# That confirms the general argument about population shift to urban area. But counterintuitively, the most populated \n# counties recorded negative influx of people as of 2010. That's quite an interesting finding about population.",
      "outputs": [
        {
          "output_type": "execute_result",
          "execution_count": 8,
          "data": {
            "text/plain": "Text(0.5, 1.0, 'Relationship of county population and migration')"
          },
          "metadata": {}
        },
        {
          "data": {
            "text/plain": "<Figure size 432x288 with 1 Axes>",
            "image/png": "[encoded data removed]"
          },
          "metadata": {
            "needs_background": "light"
          },
          "output_type": "display_data"
        }
      ],
      "execution_count": null
    },
    {
      "cell_type": "markdown",
      "source": "So in this lecture we learned the Seaborn package, its categorization and its application on building plots for a census population data. With this we conclude our short introduction to Seaborn for statistical plots. Let's open the notebook to do some hands-on practice pandas, matplotlib and seaborn. (Optional) Research shows that coding is best learned by doing. It's beneficial to code by hand and actively ask questions for help, but don't just read the sample code. That's it for the first week, I'll see you in the next video!",
      "metadata": {
        "tags": [],
        "cell_id": "00009-61c82eb3-05f2-4cb7-9fe3-5d5ef44322ac",
        "deepnote_cell_type": "markdown"
      }
    },
    {
      "cell_type": "markdown",
      "source": "<a style='text-decoration:none;line-height:16px;display:flex;color:#5B5B62;padding:10px;justify-content:end;' href='https://deepnote.com?utm_source=created-in-deepnote-cell&projectId=d164461f-c4b7-4df2-b711-3a9e5e978d4a' target=\"_blank\">\n<img alt='Created in deepnote.com' style='display:inline;max-height:16px;margin:0px;margin-right:7.5px;' src='data:image/svg+xml;base64,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' > </img>\nCreated in <span style='font-weight:600;margin-left:4px;'>Deepnote</span></a>",
      "metadata": {
        "tags": [],
        "created_in_deepnote_cell": true,
        "deepnote_cell_type": "markdown"
      }
    }
  ],
  "nbformat": 4,
  "nbformat_minor": 2,
  "metadata": {
    "orig_nbformat": 2,
    "deepnote_notebook_id": "8504e58b-4ba1-4265-a2ae-223307fc0750",
    "deepnote": {},
    "deepnote_execution_queue": []
  }
}