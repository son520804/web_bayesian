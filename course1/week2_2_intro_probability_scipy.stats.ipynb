{
  "cells": [
    {
      "cell_type": "markdown",
      "source": "# Introduction to Scipy (Optional)\n\nIn the real world, we often need to do statistical analysis to describe and investigate on problems. To do this we need theoretical models to fit the observations and use statistics to make new predictions. In this lecture we're going to deepen our investigation on how Python can used to create random probability distributions, generate summary statistics, and calculate probabilities by using the Scipy toolkit. Python's scipy library is incredible. It provides a wide collection of packages addressing various statistical domains in scientific computing, so it's by far the most commonly used package for statistical modeling.\nHere we introduce a list of its main functionalities:\n\n* The scipy.integrate module provides numerical integration calculators and differential equation solvers\n* The scipy.linalg module supports linear algebra calculations and matrix decompositions and more advanced computation in high-dimensional data\n* The scipy.optimize finds the solutions that maximizes or minimizes some objective functions\n* The scipy.signal works for signal processing\n* The scipy.sparse module provides sparse matrices and sparse linear system solvers\n* The scipy.special module implements many common mathematical functions such as the gamma function, logit function\n* The scipy.stats module provides over 100 continuous and discrete probability distributions to perform various statistical models. In addition, it can generate random probability distributions, probability mass/density functions, cumulative distribution functions and so on.",
      "metadata": {
        "cell_id": "00000-8da18999-b891-4963-892d-fe16b1f82b0f",
        "deepnote_cell_type": "markdown"
      }
    },
    {
      "cell_type": "markdown",
      "source": "\nThroughout this specialization, we will implement many useful functions and generate various distributions help understand probability distributions visually and statistically. As such, we'll start with introducting the scipy.special and scipy.stats sub-packages that feature how to generate and interpret probability distributions.",
      "metadata": {
        "cell_id": "00001-c8cad554-e1a4-41b8-aece-e4d4403b69b2",
        "deepnote_cell_type": "markdown"
      }
    },
    {
      "cell_type": "code",
      "metadata": {
        "cell_id": "00002-608039dd-aa71-4f9f-b8f7-66dd5ac4daf5",
        "deepnote_to_be_reexecuted": false,
        "source_hash": "a3f28ccc",
        "execution_millis": 619,
        "execution_start": 1618468712863,
        "deepnote_cell_type": "code"
      },
      "source": "# Now let's import scipy stats\nfrom scipy import stats\n# You can look at a fairly complete listing of these functions by using the help() function.\n# It gives you a documentation of functions in scipy.stats module\n\n# Run this line yourself\n\n# help(stats)\n\n# Scipy stats module contains a large number of probability distributions and statistical functions that are helpful for data analysis.\n# It features more than 80 discrete and continuous distributions combined. Some of the probability distributions are common to Bayesian\n# estimation, so until the course 3, we are going to discuss around 10 distributions. Those are beta, exponential, \n# half cauchy, half normal, inverse gamma, normal, student's T, uniform, dirichlet,\n# bernoulli, binomial, poisson and negative binomial, all of which can be generated in scipy stats conveniently. \n# Let's do not panic for now, as any distribution defined in scipy.stats could be called by just one line of code.\n# For each of the common distributions, we'll use a separate lecture to explain their characteristics and use specific datasets\n# to allow you understand and use those distribution to model data and predict problems probabilistically.\n\n# You can also get an overview of statistical functions by calling scipy stats given a data, you can see the summary statistics, correlations,\n# transform the dataset, and even make plots that checks normality and probability distribution. \n",
      "outputs": [],
      "execution_count": null
    },
    {
      "cell_type": "markdown",
      "source": "List:\n\n| Distribution |||scipy.stats Function |\n| --- | --- |\n| Normal Distribution ||| stats.norm | \n| Exponential Distribution ||| stats.expon | \n| Beta Distribution ||| stats.beta |\n| Uniform Distribution  ||| stats.uniform |\n| Poisson Distribution ||| stats.poisson | \n| Gamma Distribution ||| stats.gamma | \n| Student-t Distribution ||| stats.t | \n| F Distribution ||| stats.f |\n| Half Normal Distribution ||| stats.halfnorm | \n| Half Cauchy Distribution ||| stats.halfcauchy|\n",
      "metadata": {
        "tags": [],
        "cell_id": "00003-b969a686-5ae4-4316-913f-3c69117a869c",
        "deepnote_cell_type": "markdown"
      }
    },
    {
      "cell_type": "code",
      "metadata": {
        "tags": [],
        "cell_id": "00003-3a469a49-065c-40e3-a199-bf2f4381c06d",
        "deepnote_to_be_reexecuted": false,
        "source_hash": "ddd35455",
        "execution_millis": 4,
        "execution_start": 1618468713489,
        "deepnote_cell_type": "code"
      },
      "source": "# Let's look at the normal distribution, the most commonly used distribution in scipy.stats module.\n# According to the digest report dissemminated from the National Center for Education Statistics, \n# source: https://nces.ed.gov/programs/digest/d17/tables/dt17_226.40.asp, in 2017, the average score for the\n# graduating class taking SAT nationwide was 1060, and the standard deviation was 195. \n\n# So, we are going to set the mean variable mu and standard deviation variable sd as 1060 and 195, respectively.\nmu = 1060\nsd = 195\n\n# Next we want to generate 1000 random samples from normal distribution, assuming the SAT score would follow normal distribution.\n# To generate these samples, we are going to use the stats.norm.rvs function in scipy library\n# We pass through three parameters, first location parameter, second scale parameter, third, sample size\nsat_scores = stats.norm.rvs(mu, sd, size = 1000)\n\n# So now we have the SAT score of 1000 hypothetical test takers with mean 1060 and standard deviation 195",
      "outputs": [],
      "execution_count": null
    },
    {
      "cell_type": "markdown",
      "source": "So what are the next steps after generating a data? In scipy stats library, there are many wonderful functions to analyze and interpret \ndata, including those randomly generated arrays.\nHere I got a list of methods for probability distributions from various scipy documentations:\n\nReference:\n* https://docs.scipy.org/doc/scipy/reference/tutorial/stats/continuous.html\n* https://data-flair.training/blogs/scipy-statistical-functions/\n\n\n| Methods |||| scipy.stats Function |\n| --- | --- |\n| Mean |||| mean | \n| Variance |||| var | \n| Skewness |||| stats.skew | \n| Kurtosis |||| kurtosis | \n| Random variates |||| rvs | \n| Probability density function |||| pdf | \n| Cumulative distribution function |||| cdf |\n| Percent point funcion (Inverse of cdf)  |||| ppf |\n| Survival function |||| sf | \n| Inverse survival function |||| isf | \n\nSo we could not only get some summary statistics, but also compute quantiles, probability densities, cumulative distribution, and show\nhow likely it is to see certain ranges of values to be taken from that distribution in graphs. ",
      "metadata": {
        "tags": [],
        "cell_id": "00005-658cfaa9-14be-44e6-9b7f-e4958127a8f5",
        "deepnote_cell_type": "markdown"
      }
    },
    {
      "cell_type": "code",
      "metadata": {
        "tags": [],
        "cell_id": "00005-fdc87a78-82c6-4637-8e67-46c6d3377215",
        "deepnote_to_be_reexecuted": false,
        "source_hash": "2f01ce6e",
        "execution_millis": 28,
        "execution_start": 1618468713501,
        "deepnote_cell_type": "code"
      },
      "source": "# You can always calculate the average value and standard deviation across the sample first, using .mean() and .std() function\nsat_scores.mean()",
      "outputs": [
        {
          "output_type": "execute_result",
          "execution_count": 3,
          "data": {
            "text/plain": "1063.0377068959517"
          },
          "metadata": {}
        }
      ],
      "execution_count": null
    },
    {
      "cell_type": "code",
      "metadata": {
        "tags": [],
        "cell_id": "00006-3337c570-8462-4bfc-b8eb-a1f28111f851",
        "deepnote_to_be_reexecuted": false,
        "source_hash": "b0c4cd9",
        "execution_millis": 20,
        "execution_start": 1618468713509,
        "deepnote_cell_type": "code"
      },
      "source": "sat_scores.std()",
      "outputs": [
        {
          "output_type": "execute_result",
          "execution_count": 4,
          "data": {
            "text/plain": "194.43121171191777"
          },
          "metadata": {}
        }
      ],
      "execution_count": null
    },
    {
      "cell_type": "code",
      "metadata": {
        "tags": [],
        "cell_id": "00008-06450927-50dd-4aad-aa44-f1a0b42e64a1",
        "deepnote_to_be_reexecuted": false,
        "source_hash": "eeab7541",
        "execution_millis": 39,
        "execution_start": 1618468713517,
        "deepnote_cell_type": "code"
      },
      "source": "# Cool! So the mean and standard deviation fit really close to the value I provided, so that's great!\n# Now we check the skewness of the data using stats.skew function\nstats.skew(sat_scores)\n# It's nice to see the skewness is closed to 0. Theoretically speaking, if the distribution is symmetric, the skewness\n# should be about zero, so judging from this value, we can say that normal distribution should be symmetric.",
      "outputs": [
        {
          "output_type": "execute_result",
          "execution_count": 5,
          "data": {
            "text/plain": "-0.04770261618138245"
          },
          "metadata": {}
        }
      ],
      "execution_count": null
    },
    {
      "cell_type": "code",
      "metadata": {
        "tags": [],
        "cell_id": "00005-e72623aa-a923-45ac-a148-1018eba1a800",
        "deepnote_to_be_reexecuted": false,
        "source_hash": "bf9da0c2",
        "execution_millis": 15,
        "execution_start": 1618468713541,
        "deepnote_cell_type": "code"
      },
      "source": "# Now we may ask: At what score are you if you scored the 95th percentile in SAT? That's very practical since\n# your percentile tells you how you did on the SAT compared with everyone else who took the test. \n# For example, if you got a composite percentile of 95, this means you scored higher than 95% of students on the whole test\n# You can use the .ppf() function, so stats.norm.ppf passing through the quantile 0.95 will give you the 95th percentile in the distribution.\nstats.norm.ppf(0.95, loc=mu, scale=sd)\n# So its around 1400, which is actually quite competitive for applying many schools since you scored better than 95% of students nationwide",
      "outputs": [
        {
          "output_type": "execute_result",
          "execution_count": 6,
          "data": {
            "text/plain": "1380.746457255537"
          },
          "metadata": {}
        }
      ],
      "execution_count": null
    },
    {
      "cell_type": "code",
      "metadata": {
        "tags": [],
        "cell_id": "00008-2a80d48b-d25a-4338-b9b2-8f45ba4a193f",
        "deepnote_to_be_reexecuted": false,
        "source_hash": "2311035c",
        "execution_millis": 14,
        "execution_start": 1618468713542,
        "deepnote_cell_type": "code"
      },
      "source": "# Okay now we invert the question. Let's suppose you got 1350 on SAT, what is the probability that someone scored higher than you?\n# Here is my solution! You can use the stats.norm.cdf function to calculate 1 - probability that someone scored lower than you did.\n\n1 - stats.norm.cdf(1350, loc=mu, scale=sd)\n\n# That's approximately 7%. If you scored 1350 on SAT, about 7% of the candidates scored higher than you did, or\n# you can say you got a composite percentile of approximately 93 because you scored higher than 93% of students.",
      "outputs": [
        {
          "output_type": "execute_result",
          "execution_count": 7,
          "data": {
            "text/plain": "0.06848370613114729"
          },
          "metadata": {}
        }
      ],
      "execution_count": null
    },
    {
      "cell_type": "code",
      "metadata": {
        "tags": [],
        "cell_id": "00009-0d3f1b37-0a6e-4b10-a428-16ebdb408bb7",
        "deepnote_to_be_reexecuted": false,
        "source_hash": "51413592",
        "execution_millis": 13,
        "execution_start": 1618468713543,
        "deepnote_cell_type": "code"
      },
      "source": "# The University of Michigan is very selective in admitting some most talented students in academic aptitude.(maybe not needed)\n# According to the college board, in 2017, the average score to get admitted to the University of Michigan was 1430. \n# If you were at the average SAT score, what percentile are you in compared to the nationwide score? \nstats.norm.cdf(1430, loc=mu, scale=sd)\n# You need to score the astounding 97 percentile to become the average applicant for the University of Michigan.",
      "outputs": [
        {
          "output_type": "execute_result",
          "execution_count": 8,
          "data": {
            "text/plain": "0.9711147841945583"
          },
          "metadata": {}
        }
      ],
      "execution_count": null
    },
    {
      "cell_type": "markdown",
      "source": "As you can see, all of the calculations regarding percentiles could be boiled down to the two functions.\nTo sum up, if you want to have at what value are you in for example, 90th percentile, you can use the ppf function; but if you want to know at what percentile are you in given a value, you should choose the cdf function. Sweet! Let's try another example!",
      "metadata": {
        "tags": [],
        "cell_id": "00010-b0bd3ed8-8851-41c2-8dac-882f34612f4c",
        "deepnote_cell_type": "markdown"
      }
    },
    {
      "cell_type": "markdown",
      "source": "## Visualize Distributions in Python",
      "metadata": {
        "tags": [],
        "cell_id": "00013-20df05f5-cc53-4fd3-bfc5-8d5226f93cf4",
        "deepnote_cell_type": "markdown"
      }
    },
    {
      "cell_type": "code",
      "metadata": {
        "tags": [],
        "cell_id": "00006-e43d03b9-c298-4b15-83fb-10e99e5317d1",
        "deepnote_to_be_reexecuted": false,
        "source_hash": "a49340ce",
        "execution_millis": 1,
        "execution_start": 1618468713549,
        "deepnote_cell_type": "code"
      },
      "source": "# Traffic crashes could be life threatening. It could transpire anywhere you could imagine. \n# Each year the losses due to traffic crashes are staggering. They not only incurred billions of medical expenditure \n# in the U.S., but also triggered significant insurance costs and led to decreased quality of life. \n# Suppose now you are a data scientist collaborating with Michigan State Police to improve \n# occupant protection, alcohol enforcement and other safety measures. One project you would conduct\n# is to analyze traffic crashes and come up with recommendations to reduce death cases as a result\n# of fatal crashes. You are now given a Michigan Traffic Crash report that details all incidences of \n# traffic crash and fatality in the state of Michigan from 2008 and 2018. What inference could we \n# draw from this report?\n\n# Data Reference from:\n# https://www.michigan.gov/msp/0,4643,7-123-1586_3501_4626---,00.html",
      "outputs": [],
      "execution_count": null
    },
    {
      "cell_type": "markdown",
      "source": "![](assets/michigan_case.png)",
      "metadata": {
        "tags": [],
        "cell_id": "00015-db568c58-d38e-4a68-80d7-a4efbb056bd6",
        "deepnote_cell_type": "markdown"
      }
    },
    {
      "cell_type": "code",
      "metadata": {
        "tags": [],
        "cell_id": "00015-354888af-188b-4084-9558-77fb50eac219",
        "deepnote_to_be_reexecuted": false,
        "source_hash": "746a1009",
        "execution_millis": 1,
        "execution_start": 1618468713595,
        "deepnote_cell_type": "code"
      },
      "source": "# Suppose we want to look at the trend of traffic crashes over the years, we can create a dataset \n# from the report called michigan_traffic_crash to record the frequency of car crashes from 2008 to 2018 \n# in the state of Michigan.\n\n# Let's import pandas as pd to build a dataset from the image. You don't necessary need to extract the lists\n# of data just from watching because I have done that for you. But it's useful if you know the tricks to make\n# and output datasets to csv.\nimport pandas as pd \n  \n# list of values \nyear = [2018, 2017, 2016, 2015, 2014, 2013, 2012, 2011, 2010, 2009, 2008]\n\ntotal_crashes = [312798, 314921, 312172, 297023, 298699, 289061, 273891, 284049, 282075, 290978, 316057]\nfatal_crashes = [905, 937, 980, 893, 806, 881, 870, 834, 868, 806, 915]\ntotal_injuries = [75838, 78394, 79724, 74157, 71378, 71031, 70519, 71796, 70501, 70931, 74568]\nfatal_injuries = [974, 1028, 1064, 963, 876, 951, 936, 889, 937, 871, 980]\n  \n# Calling DataFrame constructor after zipping all lists, with all columns specified.\nmichigan_traffic_crash = pd.DataFrame(list(zip(year, total_crashes, fatal_crashes, total_injuries, fatal_injuries)), \n               columns =['Year', 'Total Crashes', 'Fatal Crashes', 'Total Injuries', 'Total Fatalities'])\nmichigan_traffic_crash.to_csv('assets/michigan_traffic_crash.csv', index = False)",
      "outputs": [],
      "execution_count": null
    },
    {
      "cell_type": "code",
      "metadata": {
        "tags": [],
        "cell_id": "00017-ef7279cd-3e1b-41bc-b39c-ea76cad0aba7",
        "deepnote_to_be_reexecuted": false,
        "source_hash": "d159688c",
        "execution_millis": 7,
        "execution_start": 1618468713596,
        "deepnote_cell_type": "code"
      },
      "source": "# Now let's take in the Michigan traffic crash dataset\nmichigan_traffic_crash = pd.read_csv('assets/michigan_traffic_crash.csv')\n# and display the full dataset\nmichigan_traffic_crash",
      "outputs": [
        {
          "output_type": "execute_result",
          "execution_count": 11,
          "data": {
            "application/vnd.deepnote.dataframe.v2+json": {
              "row_count": 11,
              "column_count": 5,
              "columns": [
                {
                  "name": "Year",
                  "dtype": "int64",
                  "stats": {
                    "unique_count": 11,
                    "nan_count": 0,
                    "min": "2008",
                    "max": "2018",
                    "histogram": [
                      {
                        "bin_start": 2008,
                        "bin_end": 2009,
                        "count": 1
                      },
                      {
                        "bin_start": 2009,
                        "bin_end": 2010,
                        "count": 1
                      },
                      {
                        "bin_start": 2010,
                        "bin_end": 2011,
                        "count": 1
                      },
                      {
                        "bin_start": 2011,
                        "bin_end": 2012,
                        "count": 1
                      },
                      {
                        "bin_start": 2012,
                        "bin_end": 2013,
                        "count": 1
                      },
                      {
                        "bin_start": 2013,
                        "bin_end": 2014,
                        "count": 1
                      },
                      {
                        "bin_start": 2014,
                        "bin_end": 2015,
                        "count": 1
                      },
                      {
                        "bin_start": 2015,
                        "bin_end": 2016,
                        "count": 1
                      },
                      {
                        "bin_start": 2016,
                        "bin_end": 2017,
                        "count": 1
                      },
                      {
                        "bin_start": 2017,
                        "bin_end": 2018,
                        "count": 2
                      }
                    ]
                  }
                },
                {
                  "name": "Total Crashes",
                  "dtype": "int64",
                  "stats": {
                    "unique_count": 11,
                    "nan_count": 0,
                    "min": "273891",
                    "max": "316057",
                    "histogram": [
                      {
                        "bin_start": 273891,
                        "bin_end": 278107.6,
                        "count": 1
                      },
                      {
                        "bin_start": 278107.6,
                        "bin_end": 282324.2,
                        "count": 1
                      },
                      {
                        "bin_start": 282324.2,
                        "bin_end": 286540.8,
                        "count": 1
                      },
                      {
                        "bin_start": 286540.8,
                        "bin_end": 290757.4,
                        "count": 1
                      },
                      {
                        "bin_start": 290757.4,
                        "bin_end": 294974,
                        "count": 1
                      },
                      {
                        "bin_start": 294974,
                        "bin_end": 299190.6,
                        "count": 2
                      },
                      {
                        "bin_start": 299190.6,
                        "bin_end": 303407.2,
                        "count": 0
                      },
                      {
                        "bin_start": 303407.2,
                        "bin_end": 307623.8,
                        "count": 0
                      },
                      {
                        "bin_start": 307623.8,
                        "bin_end": 311840.4,
                        "count": 0
                      },
                      {
                        "bin_start": 311840.4,
                        "bin_end": 316057,
                        "count": 4
                      }
                    ]
                  }
                },
                {
                  "name": "Fatal Crashes",
                  "dtype": "int64",
                  "stats": {
                    "unique_count": 10,
                    "nan_count": 0,
                    "min": "806",
                    "max": "980",
                    "histogram": [
                      {
                        "bin_start": 806,
                        "bin_end": 823.4,
                        "count": 2
                      },
                      {
                        "bin_start": 823.4,
                        "bin_end": 840.8,
                        "count": 1
                      },
                      {
                        "bin_start": 840.8,
                        "bin_end": 858.2,
                        "count": 0
                      },
                      {
                        "bin_start": 858.2,
                        "bin_end": 875.6,
                        "count": 2
                      },
                      {
                        "bin_start": 875.6,
                        "bin_end": 893,
                        "count": 1
                      },
                      {
                        "bin_start": 893,
                        "bin_end": 910.4,
                        "count": 2
                      },
                      {
                        "bin_start": 910.4,
                        "bin_end": 927.8,
                        "count": 1
                      },
                      {
                        "bin_start": 927.8,
                        "bin_end": 945.2,
                        "count": 1
                      },
                      {
                        "bin_start": 945.2,
                        "bin_end": 962.6,
                        "count": 0
                      },
                      {
                        "bin_start": 962.6,
                        "bin_end": 980,
                        "count": 1
                      }
                    ]
                  }
                },
                {
                  "name": "Total Injuries",
                  "dtype": "int64",
                  "stats": {
                    "unique_count": 11,
                    "nan_count": 0,
                    "min": "70501",
                    "max": "79724",
                    "histogram": [
                      {
                        "bin_start": 70501,
                        "bin_end": 71423.3,
                        "count": 5
                      },
                      {
                        "bin_start": 71423.3,
                        "bin_end": 72345.6,
                        "count": 1
                      },
                      {
                        "bin_start": 72345.6,
                        "bin_end": 73267.9,
                        "count": 0
                      },
                      {
                        "bin_start": 73267.9,
                        "bin_end": 74190.2,
                        "count": 1
                      },
                      {
                        "bin_start": 74190.2,
                        "bin_end": 75112.5,
                        "count": 1
                      },
                      {
                        "bin_start": 75112.5,
                        "bin_end": 76034.8,
                        "count": 1
                      },
                      {
                        "bin_start": 76034.8,
                        "bin_end": 76957.1,
                        "count": 0
                      },
                      {
                        "bin_start": 76957.1,
                        "bin_end": 77879.4,
                        "count": 0
                      },
                      {
                        "bin_start": 77879.4,
                        "bin_end": 78801.7,
                        "count": 1
                      },
                      {
                        "bin_start": 78801.7,
                        "bin_end": 79724,
                        "count": 1
                      }
                    ]
                  }
                },
                {
                  "name": "Total Fatalities",
                  "dtype": "int64",
                  "stats": {
                    "unique_count": 11,
                    "nan_count": 0,
                    "min": "871",
                    "max": "1064",
                    "histogram": [
                      {
                        "bin_start": 871,
                        "bin_end": 890.3,
                        "count": 3
                      },
                      {
                        "bin_start": 890.3,
                        "bin_end": 909.6,
                        "count": 0
                      },
                      {
                        "bin_start": 909.6,
                        "bin_end": 928.9,
                        "count": 0
                      },
                      {
                        "bin_start": 928.9,
                        "bin_end": 948.2,
                        "count": 2
                      },
                      {
                        "bin_start": 948.2,
                        "bin_end": 967.5,
                        "count": 2
                      },
                      {
                        "bin_start": 967.5,
                        "bin_end": 986.8,
                        "count": 2
                      },
                      {
                        "bin_start": 986.8,
                        "bin_end": 1006.1,
                        "count": 0
                      },
                      {
                        "bin_start": 1006.1,
                        "bin_end": 1025.4,
                        "count": 0
                      },
                      {
                        "bin_start": 1025.4,
                        "bin_end": 1044.7,
                        "count": 1
                      },
                      {
                        "bin_start": 1044.7,
                        "bin_end": 1064,
                        "count": 1
                      }
                    ]
                  }
                },
                {
                  "name": "_deepnote_index_column",
                  "dtype": "int64"
                }
              ],
              "rows_top": [
                {
                  "Year": 2018,
                  "Total Crashes": 312798,
                  "Fatal Crashes": 905,
                  "Total Injuries": 75838,
                  "Total Fatalities": 974,
                  "_deepnote_index_column": 0
                },
                {
                  "Year": 2017,
                  "Total Crashes": 314921,
                  "Fatal Crashes": 937,
                  "Total Injuries": 78394,
                  "Total Fatalities": 1028,
                  "_deepnote_index_column": 1
                },
                {
                  "Year": 2016,
                  "Total Crashes": 312172,
                  "Fatal Crashes": 980,
                  "Total Injuries": 79724,
                  "Total Fatalities": 1064,
                  "_deepnote_index_column": 2
                },
                {
                  "Year": 2015,
                  "Total Crashes": 297023,
                  "Fatal Crashes": 893,
                  "Total Injuries": 74157,
                  "Total Fatalities": 963,
                  "_deepnote_index_column": 3
                },
                {
                  "Year": 2014,
                  "Total Crashes": 298699,
                  "Fatal Crashes": 806,
                  "Total Injuries": 71378,
                  "Total Fatalities": 876,
                  "_deepnote_index_column": 4
                },
                {
                  "Year": 2013,
                  "Total Crashes": 289061,
                  "Fatal Crashes": 881,
                  "Total Injuries": 71031,
                  "Total Fatalities": 951,
                  "_deepnote_index_column": 5
                },
                {
                  "Year": 2012,
                  "Total Crashes": 273891,
                  "Fatal Crashes": 870,
                  "Total Injuries": 70519,
                  "Total Fatalities": 936,
                  "_deepnote_index_column": 6
                },
                {
                  "Year": 2011,
                  "Total Crashes": 284049,
                  "Fatal Crashes": 834,
                  "Total Injuries": 71796,
                  "Total Fatalities": 889,
                  "_deepnote_index_column": 7
                },
                {
                  "Year": 2010,
                  "Total Crashes": 282075,
                  "Fatal Crashes": 868,
                  "Total Injuries": 70501,
                  "Total Fatalities": 937,
                  "_deepnote_index_column": 8
                },
                {
                  "Year": 2009,
                  "Total Crashes": 290978,
                  "Fatal Crashes": 806,
                  "Total Injuries": 70931,
                  "Total Fatalities": 871,
                  "_deepnote_index_column": 9
                },
                {
                  "Year": 2008,
                  "Total Crashes": 316057,
                  "Fatal Crashes": 915,
                  "Total Injuries": 74568,
                  "Total Fatalities": 980,
                  "_deepnote_index_column": 10
                }
              ],
              "rows_bottom": null
            },
            "text/plain": "    Year  Total Crashes  Fatal Crashes  Total Injuries  Total Fatalities\n0   2018         312798            905           75838               974\n1   2017         314921            937           78394              1028\n2   2016         312172            980           79724              1064\n3   2015         297023            893           74157               963\n4   2014         298699            806           71378               876\n5   2013         289061            881           71031               951\n6   2012         273891            870           70519               936\n7   2011         284049            834           71796               889\n8   2010         282075            868           70501               937\n9   2009         290978            806           70931               871\n10  2008         316057            915           74568               980",
            "text/html": "<div>\n<style scoped>\n    .dataframe tbody tr th:only-of-type {\n        vertical-align: middle;\n    }\n\n    .dataframe tbody tr th {\n        vertical-align: top;\n    }\n\n    .dataframe thead th {\n        text-align: right;\n    }\n</style>\n<table border=\"1\" class=\"dataframe\">\n  <thead>\n    <tr style=\"text-align: right;\">\n      <th></th>\n      <th>Year</th>\n      <th>Total Crashes</th>\n      <th>Fatal Crashes</th>\n      <th>Total Injuries</th>\n      <th>Total Fatalities</th>\n    </tr>\n  </thead>\n  <tbody>\n    <tr>\n      <th>0</th>\n      <td>2018</td>\n      <td>312798</td>\n      <td>905</td>\n      <td>75838</td>\n      <td>974</td>\n    </tr>\n    <tr>\n      <th>1</th>\n      <td>2017</td>\n      <td>314921</td>\n      <td>937</td>\n      <td>78394</td>\n      <td>1028</td>\n    </tr>\n    <tr>\n      <th>2</th>\n      <td>2016</td>\n      <td>312172</td>\n      <td>980</td>\n      <td>79724</td>\n      <td>1064</td>\n    </tr>\n    <tr>\n      <th>3</th>\n      <td>2015</td>\n      <td>297023</td>\n      <td>893</td>\n      <td>74157</td>\n      <td>963</td>\n    </tr>\n    <tr>\n      <th>4</th>\n      <td>2014</td>\n      <td>298699</td>\n      <td>806</td>\n      <td>71378</td>\n      <td>876</td>\n    </tr>\n    <tr>\n      <th>5</th>\n      <td>2013</td>\n      <td>289061</td>\n      <td>881</td>\n      <td>71031</td>\n      <td>951</td>\n    </tr>\n    <tr>\n      <th>6</th>\n      <td>2012</td>\n      <td>273891</td>\n      <td>870</td>\n      <td>70519</td>\n      <td>936</td>\n    </tr>\n    <tr>\n      <th>7</th>\n      <td>2011</td>\n      <td>284049</td>\n      <td>834</td>\n      <td>71796</td>\n      <td>889</td>\n    </tr>\n    <tr>\n      <th>8</th>\n      <td>2010</td>\n      <td>282075</td>\n      <td>868</td>\n      <td>70501</td>\n      <td>937</td>\n    </tr>\n    <tr>\n      <th>9</th>\n      <td>2009</td>\n      <td>290978</td>\n      <td>806</td>\n      <td>70931</td>\n      <td>871</td>\n    </tr>\n    <tr>\n      <th>10</th>\n      <td>2008</td>\n      <td>316057</td>\n      <td>915</td>\n      <td>74568</td>\n      <td>980</td>\n    </tr>\n  </tbody>\n</table>\n</div>"
          },
          "metadata": {}
        }
      ],
      "execution_count": null
    },
    {
      "cell_type": "code",
      "metadata": {
        "tags": [],
        "cell_id": "00013-1df82b34-f637-4730-a30c-669d1aca39ef",
        "deepnote_to_be_reexecuted": false,
        "source_hash": "16eabd4a",
        "execution_millis": 5,
        "execution_start": 1618468713651,
        "deepnote_cell_type": "code"
      },
      "source": "# Suppose we want to see if the trend of fatal crashes follows some distribution, in the first step we can\n# find the average value \nimport numpy as np\n\nmean_fatal_crashes = np.mean(michigan_traffic_crash['Fatal Crashes'])\n\nprint('Average: ', mean_fatal_crashes)\n# and the standard deviation across the observations using .mean() and .std() function in the numpy package\nprint('Variance: ', np.var(michigan_traffic_crash['Fatal Crashes']))\n\n# It's clear! The average number of fatal crashes in a year is around 881, and the number seems to fluctuate \n# sharply from year to year.",
      "outputs": [
        {
          "name": "stdout",
          "text": "Average:  881.3636363636364\nVariance:  2596.4132231404956\n",
          "output_type": "stream"
        }
      ],
      "execution_count": null
    },
    {
      "cell_type": "code",
      "metadata": {
        "tags": [],
        "cell_id": "00017-f60f9ecc-1b9b-4038-b5c5-2d483130b6c3",
        "deepnote_to_be_reexecuted": false,
        "source_hash": "a1a84bf9",
        "execution_millis": 1178,
        "execution_start": 1618468713652,
        "deepnote_cell_type": "code"
      },
      "source": "# Now let's see the hypothetical distribution of observing fatal crashes in a year.\n# We by default import seaborn for graphical visualization.\nimport seaborn as sns\n\n# We start by creating an equally-sized sequence from 800 to 1000 in x-axis\nx = np.linspace(800, 1000, 201)\n# In scipy stats module, we can calculate the probability mass function for the number of fatal crashes using \n# the pmf methods. You can memorize it by recognizing its really just the shorthand for probability mass function.\n# We now call the scatterplot function in seaborn to visualize the probability mass function of\n# the fatal crashes against the equally-sized sequence in x-axis.\nsns.scatterplot(x, stats.poisson.pmf(x, mean_fatal_crashes))\n\n# This graph shows the exact probability that you will see certain number of fatal accidents in a year in y-axis.\n# An intuitive intrepretation of seeing the higher height between 875 and 900 than the rest is that, \n# if you are to observe the number of fatal crash in future years, it's more possible that you'll see between\n# 875 and 900 incidences than less or more.",
      "outputs": [
        {
          "name": "stderr",
          "text": "/shared-libs/python3.7/py/lib/python3.7/site-packages/seaborn/_decorators.py:43: FutureWarning: Pass the following variables as keyword args: x, y. From version 0.12, the only valid positional argument will be `data`, and passing other arguments without an explicit keyword will result in an error or misinterpretation.\n  FutureWarning\n",
          "output_type": "stream"
        },
        {
          "output_type": "execute_result",
          "execution_count": 13,
          "data": {
            "text/plain": "<AxesSubplot:>"
          },
          "metadata": {}
        },
        {
          "data": {
            "text/plain": "<Figure size 432x288 with 1 Axes>",
            "image/png": "[encoded data removed]"
          },
          "metadata": {
            "needs_background": "light"
          },
          "output_type": "display_data"
        }
      ],
      "execution_count": null
    },
    {
      "cell_type": "code",
      "metadata": {
        "tags": [],
        "cell_id": "00018-113c9d5c-cb86-4d2a-a11f-a229d7118f93",
        "deepnote_to_be_reexecuted": false,
        "source_hash": "b0268d80",
        "execution_millis": 11,
        "execution_start": 1618468714834,
        "deepnote_cell_type": "code"
      },
      "source": "# (Unsure if that should go to early discussion)\n\n# So how many fatal crashes per year would be considered within the \"normal range\"? Think of it for a moment\n# how would statisticians define a range of values as reasonable?\n\n# There are many theories in statistics dealing with this problem. The most intuitive one is to use the \n# ppf, percent point function based on your distribution. Although the quantile we use highly depend on the \n# problem itself, most practitioners would consider the range between 0.025 and 0.975 quantile as reasonable.\nprint(\"The reasonable range of fatal crash in a year should fall between\", stats.poisson.ppf(0.025, mean_fatal_crashes),\n\"and\", stats.poisson.ppf(0.975, mean_fatal_crashes))\n# Cool! Apart from using quantile methods,\n# some would add and subtract the mean by 2 standard deviations to find the range.\n\nprint(\"The reasonable range of fatal crash in a year should fall between\", \n(mean_fatal_crashes - 2* np.std(michigan_traffic_crash['Fatal Crashes']), mean_fatal_crashes + 2* np.std(michigan_traffic_crash['Fatal Crashes'])) )\n# but obviously the second method (usually called 2 standard deviation rule) tends to inform you a wider interval, \n# so is likely true to give a less precise prediction. Now hopefully you have the idea about \n# finding the reasonable value range. Those data points outside of the reasonable value range are usually \n# referred as outliers or abnormal values.\n\n",
      "outputs": [
        {
          "name": "stdout",
          "text": "The reasonable range of fatal crash in a year should fall between 824.0 and 940.0\nThe reasonable range of fatal crash in a year should fall between (779.4536128499408, 983.273659877332)\n",
          "output_type": "stream"
        }
      ],
      "execution_count": null
    },
    {
      "cell_type": "code",
      "metadata": {
        "tags": [],
        "cell_id": "00019-de0c82f9-81e1-4808-8dad-f3fd3918cd86",
        "deepnote_to_be_reexecuted": false,
        "source_hash": "faf6b422",
        "execution_millis": 9,
        "execution_start": 1618468714842,
        "deepnote_cell_type": "code"
      },
      "source": "# How common would there be at least 950 fatal accidents in a year in Michigan?\n1 - stats.poisson.cdf(950, mean_fatal_crashes)\n# The probability is just about 1 percent. In other words, 950 fatal accidents would\n# just occur once in a hundred year, which is very tiny chance.",
      "outputs": [
        {
          "output_type": "execute_result",
          "execution_count": 15,
          "data": {
            "text/plain": "0.010587923450825154"
          },
          "metadata": {}
        }
      ],
      "execution_count": null
    },
    {
      "cell_type": "code",
      "metadata": {
        "tags": [],
        "cell_id": "00007-d46751d0-ed0e-4cde-ab9f-22aa28c52728",
        "deepnote_to_be_reexecuted": false,
        "source_hash": "3e368e2f",
        "execution_millis": 9,
        "execution_start": 1618468714856,
        "deepnote_cell_type": "code"
      },
      "source": "# Recent research has boasted about the advantage of correctly using airbag, seatbelt, safety seats, and \n# even automated driving technology to prevent fatality and critical injuries. I'm skeptical about the veracity\n# of the research claim so I would like to verify: Does the advancement of higher technology reduce the \n# proportion of fatalities in car crash incidences? I want to test the claim using the Pearson r correlation test.\n\n# Broadcasting\n\n# We can add a proportion of fatality column to the DataFrame just as assigning it to some value using\n# the indexing operator after the square brackets.\n# This broadcasts the total fatalities divided by total injured to the new column immediately.\n\n# Total Fatalities / Total Injuries = Proportion of Fatality Injury\nmichigan_traffic_crash['prop_fatal'] = michigan_traffic_crash['Total Fatalities'] / michigan_traffic_crash['Total Injuries']\n\nmichigan_traffic_crash['prop_fatal']\n# The proportion of fatal injury looks really close to each other. So the initial belief would be the fatality rate actually did not\n# decrease over time.",
      "outputs": [
        {
          "output_type": "execute_result",
          "execution_count": 16,
          "data": {
            "text/plain": "0     0.012843\n1     0.013113\n2     0.013346\n3     0.012986\n4     0.012273\n5     0.013389\n6     0.013273\n7     0.012382\n8     0.013291\n9     0.012280\n10    0.013142\nName: prop_fatal, dtype: float64"
          },
          "metadata": {}
        }
      ],
      "execution_count": null
    },
    {
      "cell_type": "code",
      "metadata": {
        "tags": [],
        "cell_id": "00024-f77d3965-6d1f-45fc-a267-52266068dba5",
        "deepnote_to_be_reexecuted": false,
        "source_hash": "f3dac346",
        "execution_millis": 181,
        "execution_start": 1618468714903,
        "deepnote_cell_type": "code"
      },
      "source": "# If you would like to look at the change of the proportion of fatal injury over time visually, you can make a scatterplot using\n# the sns.scatterplot function again.\nsns.scatterplot(michigan_traffic_crash['Year'], michigan_traffic_crash['prop_fatal'])\n# It does not show up special linear pattern unfortunately.",
      "outputs": [
        {
          "name": "stderr",
          "text": "/shared-libs/python3.7/py/lib/python3.7/site-packages/seaborn/_decorators.py:43: FutureWarning: Pass the following variables as keyword args: x, y. From version 0.12, the only valid positional argument will be `data`, and passing other arguments without an explicit keyword will result in an error or misinterpretation.\n  FutureWarning\n",
          "output_type": "stream"
        },
        {
          "output_type": "execute_result",
          "execution_count": 17,
          "data": {
            "text/plain": "<AxesSubplot:xlabel='Year', ylabel='prop_fatal'>"
          },
          "metadata": {}
        },
        {
          "data": {
            "text/plain": "<Figure size 432x288 with 1 Axes>",
            "image/png": "[encoded data removed]"
          },
          "metadata": {
            "needs_background": "light"
          },
          "output_type": "display_data"
        }
      ],
      "execution_count": null
    },
    {
      "cell_type": "code",
      "metadata": {
        "tags": [],
        "cell_id": "00024-9abc4ba2-d29e-4308-9ef9-a08c625d37c8",
        "deepnote_to_be_reexecuted": false,
        "source_hash": "e6d69d15",
        "execution_millis": 7,
        "execution_start": 1618468715079,
        "deepnote_cell_type": "code"
      },
      "source": "# To calculate the correlation between year and the proportion of fatal injuries, we can isolate the reported year and the \n# proportion of fatal injuries, and use these two columns to calculate the Pearson r coefficient and its associated p-value.\n# We just need to assign variables pearsonr_coefficient and p_value and set these equal to stats.pearsonr\n# We're going to pass in our variable pair; it's the year versus the proportion of fatality injury and we are\n# looking for correlation between the two variables.\npearsonr_coefficient, p_value = stats.pearsonr(michigan_traffic_crash['Year'], michigan_traffic_crash['prop_fatal'])\n# and we're going to print out a string that says the pearson correlation\n# (with 3 digit precision) \nprint('Pearson R correlation coefficient: %0.3f'% (pearsonr_coefficient))\n# Based on the Pearson-r correlation, year and proportation of fatality appear to have a positive linear correlation, \n# but the correlation is weak. So come back to our question! Does the advancement of higher technology reduce the \n# proportion of fatalities in car crash incidences? Evidence shows that the incidence becomes higher as year approaching 2018,\n# we did not see the fatality injury proportion reduced over a decade.",
      "outputs": [
        {
          "name": "stdout",
          "text": "Pearson R correlation coefficient: 0.154\n",
          "output_type": "stream"
        }
      ],
      "execution_count": null
    },
    {
      "cell_type": "markdown",
      "source": "In Bayesian statistics, it's important to know the correlation between variables because some model or statistical methods have \nassumptions that the features need to be independent, or correlated in order to meet the requirements.\n\nOkay! In a bit sleuthing, we have seen how to compute calculate the mean, standard deviation, percentile, CDF and finally the Pearson-r correlation given some data. Although there are many other distributions to be explored, knowing how to generate distributions and calculate statistics using `scipy` library, you can not only understand the data better, but also develop a sense of \"normal\" and become vigilant to extreme values, that would enhance the quality and depth of data analysis. Now it's you turn! What statistical problems do you think are relevant to your everyday life? Please take some time to reflect your life experience and come up with fantastic examples! I'll see you in the next video! ",
      "metadata": {
        "tags": [],
        "cell_id": "00011-36948cbb-f577-46c0-95db-23a9033e076b",
        "deepnote_cell_type": "markdown"
      }
    },
    {
      "cell_type": "code",
      "source": "# Appendix A: Pearson Correlation on Binary Data\nfrom scipy import stats\n\n# To calculate the correlation between x and y (all binary variables), we just need to assign variables \n# pearsonr_coefficient and p_value and set these equal to stats.pearsonr.\nx = [1, 1, 1, 0, 0 ,1, 0, 0]\ny = [1, 0, 1, 0, 1, 0, 1, 0]\nz = [1, 0, 1, 0, 1, 1, 1, 0]\npearsonr_coefficient, p_value = stats.pearsonr(x, y)\n# and we're going to print out a string that says the pearson correlation\n# (with 3 digit precision) \nprint('Pearson R correlation coefficient: %0.3f'% (pearsonr_coefficient))\nprint('P-value: %0.3f'% (p_value))\n\n# By looking at the data, you can definitely not infer that x and y are correlated!! \n# That's the whole reason why you're p-value is 1.00\n\n# Let's check the correlation between y and z instead!\npearsonr_coefficient, p_value = stats.pearsonr(y, z)\nprint('Pearson R correlation coefficient: %0.3f'% (pearsonr_coefficient))\nprint('P-value: %0.3f'% (p_value))\n\n# By looking at the data, you can definitely infer that y and z are correlated!! \n# That's the whole reason why you're p-value is just 0.024. And the correlation is strong.",
      "metadata": {
        "tags": [],
        "cell_id": "00026-46ecee27-3267-4baf-a28a-265fde9ba502",
        "deepnote_to_be_reexecuted": false,
        "source_hash": "430d7ac5",
        "execution_millis": 9,
        "execution_start": 1618469090552,
        "deepnote_cell_type": "code"
      },
      "outputs": [
        {
          "name": "stdout",
          "text": "Pearson R correlation coefficient: -0.000\nP-value: 1.000\nPearson R correlation coefficient: 0.775\nP-value: 0.024\n",
          "output_type": "stream"
        }
      ],
      "execution_count": null
    },
    {
      "cell_type": "code",
      "source": "# If marking -1/1 instead, what would the change of Pearson R and its associated p-value?\n\nx = [1, 1, 1, -1, -1, 1, -1, -1]\ny = [1, -1, 1, -1, 1, -1, 1,-1]\nz = [1, -1, 1, -1, 1, 1, 1, -1]\n\npearsonr_coefficient, p_value = stats.pearsonr(x, y)\nprint('Pearson R correlation coefficient: %0.3f'% (pearsonr_coefficient))\nprint('P-value: %0.3f'% (p_value))\n\n# Let's check the correlation between y and z instead!\npearsonr_coefficient, p_value = stats.pearsonr(y, z)\nprint('Pearson R correlation coefficient: %0.3f'% (pearsonr_coefficient))\nprint('P-value: %0.3f'% (p_value))\n\n# By comparing the results with the former tab, we saw no difference at all. So, to make things\n# simple, just labeling 0/1 should be fine!",
      "metadata": {
        "tags": [],
        "cell_id": "00027-a6b00283-999d-47fb-b107-5532b79c8a73",
        "deepnote_to_be_reexecuted": false,
        "source_hash": "5abddaff",
        "execution_start": 1618469599843,
        "execution_millis": 18,
        "deepnote_cell_type": "code"
      },
      "outputs": [
        {
          "name": "stdout",
          "text": "Pearson R correlation coefficient: -0.000\nP-value: 1.000\nPearson R correlation coefficient: 0.775\nP-value: 0.024\n",
          "output_type": "stream"
        }
      ],
      "execution_count": null
    },
    {
      "cell_type": "markdown",
      "source": "<a style='text-decoration:none;line-height:16px;display:flex;color:#5B5B62;padding:10px;justify-content:end;' href='https://deepnote.com?utm_source=created-in-deepnote-cell&projectId=d164461f-c4b7-4df2-b711-3a9e5e978d4a' target=\"_blank\">\n<img alt='Created in deepnote.com' style='display:inline;max-height:16px;margin:0px;margin-right:7.5px;' src='data:image/svg+xml;base64,PD94bWwgdmVyc2lvbj0iMS4wIiBlbmNvZGluZz0iVVRGLTgiPz4KPHN2ZyB3aWR0aD0iODBweCIgaGVpZ2h0PSI4MHB4IiB2aWV3Qm94PSIwIDAgODAgODAiIHZlcnNpb249IjEuMSIgeG1sbnM9Imh0dHA6Ly93d3cudzMub3JnLzIwMDAvc3ZnIiB4bWxuczp4bGluaz0iaHR0cDovL3d3dy53My5vcmcvMTk5OS94bGluayI+CiAgICA8IS0tIEdlbmVyYXRvcjogU2tldGNoIDU0LjEgKDc2NDkwKSAtIGh0dHBzOi8vc2tldGNoYXBwLmNvbSAtLT4KICAgIDx0aXRsZT5Hcm91cCAzPC90aXRsZT4KICAgIDxkZXNjPkNyZWF0ZWQgd2l0aCBTa2V0Y2guPC9kZXNjPgogICAgPGcgaWQ9IkxhbmRpbmciIHN0cm9rZT0ibm9uZSIgc3Ryb2tlLXdpZHRoPSIxIiBmaWxsPSJub25lIiBmaWxsLXJ1bGU9ImV2ZW5vZGQiPgogICAgICAgIDxnIGlkPSJBcnRib2FyZCIgdHJhbnNmb3JtPSJ0cmFuc2xhdGUoLTEyMzUuMDAwMDAwLCAtNzkuMDAwMDAwKSI+CiAgICAgICAgICAgIDxnIGlkPSJHcm91cC0zIiB0cmFuc2Zvcm09InRyYW5zbGF0ZSgxMjM1LjAwMDAwMCwgNzkuMDAwMDAwKSI+CiAgICAgICAgICAgICAgICA8cG9seWdvbiBpZD0iUGF0aC0yMCIgZmlsbD0iIzAyNjVCNCIgcG9pbnRzPSIyLjM3NjIzNzYyIDgwIDM4LjA0NzY2NjcgODAgNTcuODIxNzgyMiA3My44MDU3NTkyIDU3LjgyMTc4MjIgMzIuNzU5MjczOSAzOS4xNDAyMjc4IDMxLjY4MzE2ODMiPjwvcG9seWdvbj4KICAgICAgICAgICAgICAgIDxwYXRoIGQ9Ik0zNS4wMDc3MTgsODAgQzQyLjkwNjIwMDcsNzYuNDU0OTM1OCA0Ny41NjQ5MTY3LDcxLjU0MjI2NzEgNDguOTgzODY2LDY1LjI2MTk5MzkgQzUxLjExMjI4OTksNTUuODQxNTg0MiA0MS42NzcxNzk1LDQ5LjIxMjIyODQgMjUuNjIzOTg0Niw0OS4yMTIyMjg0IEMyNS40ODQ5Mjg5LDQ5LjEyNjg0NDggMjkuODI2MTI5Niw0My4yODM4MjQ4IDM4LjY0NzU4NjksMzEuNjgzMTY4MyBMNzIuODcxMjg3MSwzMi41NTQ0MjUgTDY1LjI4MDk3Myw2Ny42NzYzNDIxIEw1MS4xMTIyODk5LDc3LjM3NjE0NCBMMzUuMDA3NzE4LDgwIFoiIGlkPSJQYXRoLTIyIiBmaWxsPSIjMDAyODY4Ij48L3BhdGg+CiAgICAgICAgICAgICAgICA8cGF0aCBkPSJNMCwzNy43MzA0NDA1IEwyNy4xMTQ1MzcsMC4yNTcxMTE0MzYgQzYyLjM3MTUxMjMsLTEuOTkwNzE3MDEgODAsMTAuNTAwMzkyNyA4MCwzNy43MzA0NDA1IEM4MCw2NC45NjA0ODgyIDY0Ljc3NjUwMzgsNzkuMDUwMzQxNCAzNC4zMjk1MTEzLDgwIEM0Ny4wNTUzNDg5LDc3LjU2NzA4MDggNTMuNDE4MjY3Nyw3MC4zMTM2MTAzIDUzLjQxODI2NzcsNTguMjM5NTg4NSBDNTMuNDE4MjY3Nyw0MC4xMjg1NTU3IDM2LjMwMzk1NDQsMzcuNzMwNDQwNSAyNS4yMjc0MTcsMzcuNzMwNDQwNSBDMTcuODQzMDU4NiwzNy43MzA0NDA1IDkuNDMzOTE5NjYsMzcuNzMwNDQwNSAwLDM3LjczMDQ0MDUgWiIgaWQ9IlBhdGgtMTkiIGZpbGw9IiMzNzkzRUYiPjwvcGF0aD4KICAgICAgICAgICAgPC9nPgogICAgICAgIDwvZz4KICAgIDwvZz4KPC9zdmc+' > </img>\nCreated in <span style='font-weight:600;margin-left:4px;'>Deepnote</span></a>",
      "metadata": {
        "tags": [],
        "created_in_deepnote_cell": true,
        "deepnote_cell_type": "markdown"
      }
    }
  ],
  "nbformat": 4,
  "nbformat_minor": 4,
  "metadata": {
    "kernelspec": {
      "display_name": "Python 3",
      "language": "python",
      "name": "python3"
    },
    "language_info": {
      "codemirror_mode": {
        "name": "ipython",
        "version": 3
      },
      "file_extension": ".py",
      "mimetype": "text/x-python",
      "name": "python",
      "nbconvert_exporter": "python",
      "pygments_lexer": "ipython3",
      "version": "3.8.3"
    },
    "deepnote_notebook_id": "4693cfa7-f47d-48b2-995e-31f7b3fd3548",
    "deepnote_execution_queue": [],
    "deepnote": {}
  }
}