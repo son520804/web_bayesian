{
  "cells": [
    {
      "cell_type": "markdown",
      "source": "# Regular Expression\n\nRegular expressions, or regexes, are written in a condensed formatting language. In general, you can think of a regular expression as a pattern which you give to a regex processor with some source data. The processor then parses that source data using that pattern, and returns chunks of text back to the a data scientist or programmer for further manipulation.\n\nReference: https://regex101.com/",
      "metadata": {
        "cell_id": "00000-b058d9c3-3e72-4093-912a-03f6d4b3243b",
        "deepnote_cell_type": "markdown"
      }
    },
    {
      "cell_type": "code",
      "metadata": {
        "cell_id": "00001-29b1f5c5-87a4-4a59-a032-997d7780c625",
        "deepnote_to_be_reexecuted": false,
        "source_hash": "6976672f",
        "execution_start": 1618680793881,
        "execution_millis": 0,
        "deepnote_cell_type": "code"
      },
      "source": "# First we'll import the re module\nimport re",
      "outputs": [],
      "execution_count": null
    },
    {
      "cell_type": "code",
      "metadata": {
        "cell_id": "00002-057809fe-9ab1-44d8-8b6a-26d6765423ad",
        "deepnote_cell_type": "code"
      },
      "source": "# The first, re.match() checks for a match that is at the beginning of the string and returns a boolean\n# Boolean: True, False",
      "execution_count": null,
      "outputs": []
    },
    {
      "cell_type": "code",
      "metadata": {
        "cell_id": "00003-6a230750-0dc2-4822-8474-6511edddbdf3",
        "deepnote_to_be_reexecuted": false,
        "source_hash": "ca22f901",
        "execution_start": 1618680798138,
        "execution_millis": 64,
        "deepnote_cell_type": "code"
      },
      "source": "# The second, re.search() checks for a match anywhere in the string, and returns a boolean.\n\n# Let's create a text examples\ntext = \"Ann Arbor will get snowy days soon.\"\n\n# Now let's see if Ann Arbor will get snows\n\nif re.search(\"snowy\", text): # The first parameter is the pattern\n    print(\"Wonderful\")\nelse:\n    print(\"Oh no!\")",
      "outputs": [
        {
          "name": "stdout",
          "text": "Wonderful\n",
          "output_type": "stream"
        }
      ],
      "execution_count": null
    },
    {
      "cell_type": "code",
      "metadata": {
        "cell_id": "00004-4c7e96ce-de0e-4795-a542-35088b742a38",
        "deepnote_to_be_reexecuted": false,
        "source_hash": "825aaa1a",
        "execution_start": 1618680800225,
        "execution_millis": 8,
        "deepnote_cell_type": "code"
      },
      "source": "if re.match(\"snowy\", text):\n    print(\"Wonderful\")\nelse:\n    print(\"Oh no!\")",
      "outputs": [
        {
          "name": "stdout",
          "text": "Oh no!\n",
          "output_type": "stream"
        }
      ],
      "execution_count": null
    },
    {
      "cell_type": "code",
      "metadata": {
        "cell_id": "00005-96b09412-fe0e-40d2-ba4b-475ecbda6575",
        "deepnote_to_be_reexecuted": false,
        "source_hash": "de833eeb",
        "execution_millis": 9,
        "execution_start": 1618681161543,
        "deepnote_cell_type": "code"
      },
      "source": "# Segment a string\n\n# Tokenizing: string is separated into substrings based on patterns\n# First: re.findall() and re.split() function will parse the string for us and return chunks.\n\n# Let's try\ntext2 = \"Hey, Phoebe works diligently. Phoebe got a perfect presentation to the product team. Our teammate Phoebe is wonderful.\"\n\n# Let's split this on all instances of Phoebe\nre.split(\"Phoebe\", text2)",
      "outputs": [
        {
          "output_type": "execute_result",
          "execution_count": 37,
          "data": {
            "text/plain": "['Hey, ',\n ' works diligently. ',\n ' got a perfect presentation to the product team. Our teammate ',\n ' is wonderful.']"
          },
          "metadata": {}
        }
      ],
      "execution_count": null
    },
    {
      "cell_type": "markdown",
      "source": "Why is there an empty string at the beginning? Why all Derek suddenly disappeared?",
      "metadata": {
        "cell_id": "00006-8fdd3d57-eec4-41a6-9432-495910cce881",
        "deepnote_cell_type": "markdown"
      }
    },
    {
      "cell_type": "code",
      "metadata": {
        "cell_id": "00007-a0bc97b9-697e-44f2-a480-ed3a74b716e1",
        "deepnote_to_be_reexecuted": false,
        "source_hash": "a871eb68",
        "execution_millis": 7,
        "execution_start": 1618681212945,
        "deepnote_cell_type": "code"
      },
      "source": "# Count how many times I talked about Phoebe!\n\nre.findall(\"Phoebe\", text2)\n\nlen(re.findall(\"Phoebe\", text2))",
      "outputs": [
        {
          "output_type": "execute_result",
          "execution_count": 39,
          "data": {
            "text/plain": "3"
          },
          "metadata": {}
        }
      ],
      "execution_count": null
    },
    {
      "cell_type": "markdown",
      "source": "### re.compile() method\n\nSyntax for re.compile() is \n* re.compile(pattern, text)",
      "metadata": {
        "cell_id": "00008-093fa8e8-1d66-46d4-9ad9-0444a0c8429a",
        "deepnote_cell_type": "markdown"
      }
    },
    {
      "cell_type": "code",
      "source": "text2 = \"Hey, Phoebe works diligently. Phoebe got a perfect presentation to the product team. Our teammate Phoebe is wonderful.\"\npattern = re.compile('Phoebe')\npattern.findall(text2)",
      "metadata": {
        "tags": [],
        "cell_id": "00009-bea24206-a53a-48cc-b7ca-bcd2283512b4",
        "deepnote_to_be_reexecuted": false,
        "source_hash": "7788225e",
        "execution_start": 1618681293668,
        "execution_millis": 21,
        "deepnote_cell_type": "code"
      },
      "outputs": [
        {
          "output_type": "execute_result",
          "execution_count": 40,
          "data": {
            "text/plain": "['Phoebe', 'Phoebe', 'Phoebe']"
          },
          "metadata": {}
        }
      ],
      "execution_count": null
    },
    {
      "cell_type": "code",
      "metadata": {
        "cell_id": "00009-e587b51d-2a29-4508-8ece-630e43c9c82b",
        "deepnote_to_be_reexecuted": false,
        "source_hash": "a54457c7",
        "execution_start": 1618680805452,
        "execution_millis": 8,
        "deepnote_cell_type": "code"
      },
      "source": "pattern = re.compile('Derek')\npattern.findall('Hey Derek works diligently. Derek gets perfect presentation to the professor and a conference. Our student Derek is wonderful.')\n",
      "outputs": [
        {
          "output_type": "execute_result",
          "execution_count": 6,
          "data": {
            "text/plain": "['Derek', 'Derek', 'Derek']"
          },
          "metadata": {}
        }
      ],
      "execution_count": null
    },
    {
      "cell_type": "markdown",
      "source": "## Anchor\n\nAnchors specify the start and/or the end of the string that you are trying to match.\n* ^ (caret character) means start (^ before a string)\n* \\$ (dollar sign) indicates the end of the string (put the \\$ character after the string)\n*",
      "metadata": {
        "cell_id": "00010-84f84405-5ac8-49bf-9242-2078fee11eae",
        "deepnote_cell_type": "markdown"
      }
    },
    {
      "cell_type": "code",
      "metadata": {
        "cell_id": "00011-41d40bdb-fe49-409b-aa48-519407d7ac0f",
        "deepnote_to_be_reexecuted": false,
        "source_hash": "5e83336f",
        "execution_millis": 7,
        "execution_start": 1618681389577,
        "deepnote_cell_type": "code"
      },
      "source": "text2 = \"Phoebe works diligently. Phoebe got a perfect presentation to the product team. Our teammate Phoebe is wonderful.\"\nre.search(\"^Phoebe\", text2)\n\n# Notice that re.search() actually returned to us a new object, called re.Match object.\n# If no match was found, return a None",
      "outputs": [
        {
          "output_type": "execute_result",
          "execution_count": 42,
          "data": {
            "text/plain": "<re.Match object; span=(0, 6), match='Phoebe'>"
          },
          "metadata": {}
        }
      ],
      "execution_count": null
    },
    {
      "cell_type": "code",
      "metadata": {
        "cell_id": "00012-8f4a17da-db2b-42de-883e-1d9fa8c936d7",
        "deepnote_to_be_reexecuted": false,
        "source_hash": "1c5913dd",
        "execution_start": 1618680812655,
        "execution_millis": 11,
        "deepnote_cell_type": "code"
      },
      "source": "help(re.search)",
      "outputs": [
        {
          "name": "stdout",
          "text": "Help on function search in module re:\n\nsearch(pattern, string, flags=0)\n    Scan through string looking for a match to the pattern, returning\n    a Match object, or None if no match was found.\n\n",
          "output_type": "stream"
        }
      ],
      "execution_count": null
    },
    {
      "cell_type": "markdown",
      "source": "## Patterns and Character Classes",
      "metadata": {
        "cell_id": "00013-e89d641c-5bf6-4c43-a94d-38d136ef9c2e",
        "deepnote_cell_type": "markdown"
      }
    },
    {
      "cell_type": "code",
      "metadata": {
        "cell_id": "00014-18b1017f-19cf-4f71-8c3c-5c879d97ba43",
        "deepnote_to_be_reexecuted": false,
        "source_hash": "802fb19a",
        "execution_start": 1618680814434,
        "execution_millis": 8,
        "deepnote_cell_type": "code"
      },
      "source": "# Create some grades that a student encountered for 4-year university life\ngrades = \"ABBCABABABAAACDA\"\n\n# How many A's were in the grade list?\nre.findall(\"A\", grades)",
      "outputs": [
        {
          "output_type": "execute_result",
          "execution_count": 9,
          "data": {
            "text/plain": "['A', 'A', 'A', 'A', 'A', 'A', 'A', 'A']"
          },
          "metadata": {}
        }
      ],
      "execution_count": null
    },
    {
      "cell_type": "code",
      "metadata": {
        "cell_id": "00015-81cb098a-ae8b-4c86-840e-2f3d79e3fe9e",
        "deepnote_to_be_reexecuted": false,
        "source_hash": "32e2c64f",
        "execution_start": 1618680816315,
        "execution_millis": 13,
        "deepnote_cell_type": "code"
      },
      "source": "# How many B's were in the grade list?\nre.findall(\"B\", grades)",
      "outputs": [
        {
          "output_type": "execute_result",
          "execution_count": 10,
          "data": {
            "text/plain": "['B', 'B', 'B', 'B', 'B']"
          },
          "metadata": {}
        }
      ],
      "execution_count": null
    },
    {
      "cell_type": "code",
      "metadata": {
        "cell_id": "00016-cd35e002-a3d9-4a66-ab8b-58da483f9b98",
        "deepnote_to_be_reexecuted": false,
        "source_hash": "9452e691",
        "execution_start": 1618680818009,
        "execution_millis": 1,
        "deepnote_cell_type": "code"
      },
      "source": "# If we wanted to count the number of A's and B's in the list.\n# AB only looks for pattern AB sequentially, not A or B\nre.findall(\"AB\", grades)",
      "outputs": [
        {
          "output_type": "execute_result",
          "execution_count": 11,
          "data": {
            "text/plain": "['AB', 'AB', 'AB', 'AB']"
          },
          "metadata": {}
        }
      ],
      "execution_count": null
    },
    {
      "cell_type": "code",
      "metadata": {
        "cell_id": "00017-23f97c95-a764-4820-bbf9-09045ecd9e09",
        "deepnote_to_be_reexecuted": false,
        "source_hash": "36ca8094",
        "execution_start": 1618680819736,
        "execution_millis": 15,
        "deepnote_cell_type": "code"
      },
      "source": "re.findall(\"[AB]\", grades) # This is called the set operator.",
      "outputs": [
        {
          "output_type": "execute_result",
          "execution_count": 12,
          "data": {
            "text/plain": "['A', 'B', 'B', 'A', 'B', 'A', 'B', 'A', 'B', 'A', 'A', 'A', 'A']"
          },
          "metadata": {}
        }
      ],
      "execution_count": null
    },
    {
      "cell_type": "code",
      "metadata": {
        "cell_id": "00018-47b83c19-cba7-475c-ba77-54af771a41a6",
        "deepnote_to_be_reexecuted": false,
        "source_hash": "e0ec3ffc",
        "execution_start": 1618680822012,
        "execution_millis": 16,
        "deepnote_cell_type": "code"
      },
      "source": "re.findall(\"[ABC]\", grades) # This is called the set operator.",
      "outputs": [
        {
          "output_type": "execute_result",
          "execution_count": 13,
          "data": {
            "text/plain": "['A', 'B', 'B', 'C', 'A', 'B', 'A', 'B', 'A', 'B', 'A', 'A', 'A', 'C', 'A']"
          },
          "metadata": {}
        }
      ],
      "execution_count": null
    },
    {
      "cell_type": "code",
      "metadata": {
        "cell_id": "00019-fd94df10-d7e0-4424-a539-9894b12ff18d",
        "deepnote_to_be_reexecuted": false,
        "source_hash": "e9ed452b",
        "execution_start": 1618680823528,
        "execution_millis": 8,
        "deepnote_cell_type": "code"
      },
      "source": "# If you wanna include all lower case letters we could use [a-z].\n# If you wanna include all upper case letters we could use [A-Z]\n# If you wanna include all numbers we could use [0-9]\nre.findall(\"[A-Z]\", grades)\n",
      "outputs": [
        {
          "output_type": "execute_result",
          "execution_count": 14,
          "data": {
            "text/plain": "['A',\n 'B',\n 'B',\n 'C',\n 'A',\n 'B',\n 'A',\n 'B',\n 'A',\n 'B',\n 'A',\n 'A',\n 'A',\n 'C',\n 'D',\n 'A']"
          },
          "metadata": {}
        }
      ],
      "execution_count": null
    },
    {
      "cell_type": "code",
      "metadata": {
        "cell_id": "00020-ed2c6d8a-b3f3-47a6-bb68-c4772afd3c56",
        "deepnote_to_be_reexecuted": false,
        "source_hash": "55c0a46",
        "execution_start": 1618680825372,
        "execution_millis": 7,
        "deepnote_cell_type": "code"
      },
      "source": "# What if we are really looking for patterns, BA and BC\nre.findall(\"[B][AC]\", grades)",
      "outputs": [
        {
          "output_type": "execute_result",
          "execution_count": 15,
          "data": {
            "text/plain": "['BC', 'BA', 'BA', 'BA']"
          },
          "metadata": {}
        }
      ],
      "execution_count": null
    },
    {
      "cell_type": "code",
      "metadata": {
        "cell_id": "00021-94d501b3-fb49-45ce-946a-f3e43e9a202a",
        "deepnote_to_be_reexecuted": false,
        "source_hash": "66f88c85",
        "execution_start": 1618680827149,
        "execution_millis": 7,
        "deepnote_cell_type": "code"
      },
      "source": "re.findall(\"B[AC]\", grades)",
      "outputs": [
        {
          "output_type": "execute_result",
          "execution_count": 16,
          "data": {
            "text/plain": "['BC', 'BA', 'BA', 'BA']"
          },
          "metadata": {}
        }
      ],
      "execution_count": null
    },
    {
      "cell_type": "code",
      "metadata": {
        "cell_id": "00022-aa28d77b-caac-4b80-9bc5-61ae02e26260",
        "deepnote_to_be_reexecuted": false,
        "source_hash": "cea791cd",
        "execution_start": 1618680828574,
        "execution_millis": 7,
        "deepnote_cell_type": "code"
      },
      "source": "re.findall(\"BA|BC\", grades) # pipe operator, which means OR",
      "outputs": [
        {
          "output_type": "execute_result",
          "execution_count": 17,
          "data": {
            "text/plain": "['BC', 'BA', 'BA', 'BA']"
          },
          "metadata": {}
        }
      ],
      "execution_count": null
    },
    {
      "cell_type": "code",
      "metadata": {
        "cell_id": "00023-241eeed6-1f28-48b1-b22c-0ce37dfe3f7b",
        "deepnote_to_be_reexecuted": false,
        "source_hash": "348bd5e0",
        "execution_start": 1618680829847,
        "execution_millis": 7,
        "deepnote_cell_type": "code"
      },
      "source": "# Caret again!!\n# We can use with the set operator (the bracket)\n# Now we want to parse out all grades which are not A\nre.findall(\"[^A]\", grades)",
      "outputs": [
        {
          "output_type": "execute_result",
          "execution_count": 18,
          "data": {
            "text/plain": "['B', 'B', 'C', 'B', 'B', 'B', 'C', 'D']"
          },
          "metadata": {}
        }
      ],
      "execution_count": null
    },
    {
      "cell_type": "code",
      "metadata": {
        "cell_id": "00024-ef18e7e3-50ea-482b-99c2-745b3a7fd760",
        "deepnote_to_be_reexecuted": false,
        "source_hash": "3f83ae23",
        "execution_start": 1618680831409,
        "execution_millis": 8,
        "deepnote_cell_type": "code"
      },
      "source": "# regex says that we want to match any value at the beginning of the string which is not an A\nre.findall(\"^[^A]\", grades) ",
      "outputs": [
        {
          "output_type": "execute_result",
          "execution_count": 19,
          "data": {
            "text/plain": "[]"
          },
          "metadata": {}
        }
      ],
      "execution_count": null
    },
    {
      "cell_type": "markdown",
      "source": "## Quantifiers\n\nQuantifiers are the number of times you want a pattern to show up to be matched. The pattern of quantifier is expressed as e{m,n}\n\nIf you provide only one value over m and n, the Regex will parse all the strings that occurs exactly the times you specify.\n\nMetacharacters:\n* * matches zero or more repetitions of the preceding regex\n* + matches one or more repetitions of the preceding regex\n* ? matches zero or one repetitions of the preceding regex",
      "metadata": {
        "cell_id": "00025-6e1dcaca-121b-4f36-b200-8ef74ff57ee2",
        "deepnote_cell_type": "markdown"
      }
    },
    {
      "cell_type": "code",
      "metadata": {
        "scrolled": true,
        "cell_id": "00026-8f62d86a-0594-48d4-a9d6-270f82dc1adb",
        "deepnote_to_be_reexecuted": false,
        "source_hash": "2d7b6ff8",
        "execution_start": 1618680833401,
        "execution_millis": 9,
        "deepnote_cell_type": "code"
      },
      "source": "# Let's use the grade as example.\nre.findall(\"A{2,20}\", grades) # Find the occurrence of repeated A's, up to 20 times",
      "outputs": [
        {
          "output_type": "execute_result",
          "execution_count": 20,
          "data": {
            "text/plain": "['AAA']"
          },
          "metadata": {}
        }
      ],
      "execution_count": null
    },
    {
      "cell_type": "code",
      "metadata": {
        "cell_id": "00027-22762a45-39cf-43e2-9a74-af8b9f9cf490",
        "deepnote_to_be_reexecuted": false,
        "source_hash": "dfcd934c",
        "execution_start": 1618680834715,
        "execution_millis": 7,
        "deepnote_cell_type": "code"
      },
      "source": "re.findall(\"A{2}\", grades)",
      "outputs": [
        {
          "output_type": "execute_result",
          "execution_count": 21,
          "data": {
            "text/plain": "['AA']"
          },
          "metadata": {}
        }
      ],
      "execution_count": null
    },
    {
      "cell_type": "code",
      "metadata": {
        "cell_id": "00028-74b4dd45-4876-4574-ac77-af2c9959134d",
        "deepnote_to_be_reexecuted": false,
        "source_hash": "d203320a",
        "execution_start": 1618680836362,
        "execution_millis": 2,
        "deepnote_cell_type": "code"
      },
      "source": "grades2 = \"AAAAA\"",
      "outputs": [],
      "execution_count": null
    },
    {
      "cell_type": "code",
      "metadata": {
        "cell_id": "00029-15ae3321-a20d-4f12-9625-15c3aa109fc0",
        "deepnote_to_be_reexecuted": false,
        "source_hash": "48679302",
        "execution_start": 1618680837830,
        "execution_millis": 8,
        "deepnote_cell_type": "code"
      },
      "source": "re.findall(\"A{2}\", grades2)",
      "outputs": [
        {
          "output_type": "execute_result",
          "execution_count": 23,
          "data": {
            "text/plain": "['AA', 'AA']"
          },
          "metadata": {}
        }
      ],
      "execution_count": null
    },
    {
      "cell_type": "code",
      "metadata": {
        "scrolled": true,
        "cell_id": "00030-69b37da9-ad06-4b84-a6dc-6fe77f379a94",
        "deepnote_to_be_reexecuted": false,
        "source_hash": "402b87d",
        "execution_start": 1618680839908,
        "execution_millis": 8,
        "deepnote_cell_type": "code"
      },
      "source": "# We can also find a decreasing / increasing trend in a student's grades\nre.findall(\"A{1,5}B{1,5}C{1,5}\", grades)",
      "outputs": [
        {
          "output_type": "execute_result",
          "execution_count": 24,
          "data": {
            "text/plain": "['ABBC']"
          },
          "metadata": {}
        }
      ],
      "execution_count": null
    },
    {
      "cell_type": "code",
      "metadata": {
        "cell_id": "00031-9e198863-6b76-409d-8f06-22a63ef17d93",
        "deepnote_to_be_reexecuted": false,
        "source_hash": "ac819b77",
        "execution_start": 1618680841122,
        "execution_millis": 7,
        "deepnote_cell_type": "code"
      },
      "source": "re.findall(\"C{1,5}B{1,5}A{1,5}\", grades)",
      "outputs": [
        {
          "output_type": "execute_result",
          "execution_count": 25,
          "data": {
            "text/plain": "[]"
          },
          "metadata": {}
        }
      ],
      "execution_count": null
    },
    {
      "cell_type": "code",
      "metadata": {
        "cell_id": "00032-9acf72d8-48ca-43d5-9bc4-2dad94173cde",
        "deepnote_to_be_reexecuted": false,
        "source_hash": "6b4ab7b5",
        "execution_start": 1618680842244,
        "execution_millis": 5,
        "deepnote_cell_type": "code"
      },
      "source": "test_string = \"What stores are open during the (Labor Day)? (Lowe's, Walmart, Target, \\\nKohl's and JCPenney) are, but (Costco) is closed Monday.\"",
      "outputs": [],
      "execution_count": null
    },
    {
      "cell_type": "markdown",
      "source": "## Metacharacters\n\n* \\d - All digits\n* \\D - All non-digits\n* \\s - All whitespaces (space, tab, newline)\n* \\S - Not whitespace\n* \\w - Word character ([a-z], [A-Z], [0-9], _ )\n* \\W - Not a word character",
      "metadata": {
        "cell_id": "00033-089cbb79-c134-4a2c-b49a-1555b3829135",
        "deepnote_cell_type": "markdown"
      }
    },
    {
      "cell_type": "code",
      "metadata": {
        "cell_id": "00034-74e3442c-0a70-4d36-9fa7-f2e577919985",
        "deepnote_to_be_reexecuted": false,
        "source_hash": "7859e9eb",
        "execution_start": 1618680844997,
        "execution_millis": 11,
        "deepnote_cell_type": "code"
      },
      "source": "# Find every word that ends with t.\npattern = re.compile(r'[t]$')\npattern.findall(test_string)",
      "outputs": [
        {
          "output_type": "execute_result",
          "execution_count": 27,
          "data": {
            "text/plain": "[]"
          },
          "metadata": {}
        }
      ],
      "execution_count": null
    },
    {
      "cell_type": "code",
      "metadata": {
        "cell_id": "00035-f2737861-ed1e-40d7-a800-8ed338c0efb6",
        "deepnote_to_be_reexecuted": false,
        "source_hash": "33503f12",
        "execution_start": 1618680846681,
        "execution_millis": 8,
        "deepnote_cell_type": "code"
      },
      "source": "re.findall('(\\w*)[t]', test_string) # This will capture all words / partial word that ends with t. \n# Then, return the results from the beginning to the second last letter",
      "outputs": [
        {
          "output_type": "execute_result",
          "execution_count": 28,
          "data": {
            "text/plain": "['Wha', 's', '', 'Walmar', 'Targe', 'bu', 'Cos']"
          },
          "metadata": {}
        }
      ],
      "execution_count": null
    },
    {
      "cell_type": "code",
      "metadata": {
        "scrolled": true,
        "cell_id": "00036-aa43d5b9-e176-4386-8db0-dedb1acd192a",
        "deepnote_to_be_reexecuted": false,
        "source_hash": "35080196",
        "execution_start": 1618680848294,
        "execution_millis": 10,
        "deepnote_cell_type": "code"
      },
      "source": "# how to make sure the t is indeed the last character of the word?\nre.findall('(\\w+[t])[\\s|,]', test_string)",
      "outputs": [
        {
          "output_type": "execute_result",
          "execution_count": 29,
          "data": {
            "text/plain": "['What', 'Walmart', 'Target', 'but']"
          },
          "metadata": {}
        }
      ],
      "execution_count": null
    },
    {
      "cell_type": "code",
      "metadata": {
        "cell_id": "00037-8ecdec6e-c754-43f9-99b7-eed5a3e2712b",
        "deepnote_to_be_reexecuted": false,
        "source_hash": "bd84a92d",
        "execution_start": 1618680850364,
        "execution_millis": 8,
        "deepnote_cell_type": "code"
      },
      "source": "# re.finditer can find out every single object that satisfies your regex condition.\nfor item in re.finditer('(\\w+[t])[\\s|,]', test_string):\n    # .group() method returns only the enclosed result by parenthesis\n    print(item.group())",
      "outputs": [
        {
          "name": "stdout",
          "text": "What \nWalmart,\nTarget,\nbut \n",
          "output_type": "stream"
        }
      ],
      "execution_count": null
    },
    {
      "cell_type": "markdown",
      "source": "## Groups",
      "metadata": {
        "cell_id": "00038-f06d383f-4612-4341-a34e-bff36fc58d02",
        "deepnote_cell_type": "markdown"
      }
    },
    {
      "cell_type": "code",
      "metadata": {
        "cell_id": "00039-b7639ac3-1387-4919-be8b-be51b8f1794d",
        "deepnote_to_be_reexecuted": false,
        "source_hash": "5c6ea94e",
        "execution_start": 1618680852440,
        "execution_millis": 4,
        "deepnote_cell_type": "code"
      },
      "source": "# Group is useful when you only want to return a certain part of the pattern you captured.\n# To group patterns together we'll use paranthesis ()",
      "outputs": [],
      "execution_count": null
    },
    {
      "cell_type": "code",
      "metadata": {
        "cell_id": "00040-c425c092-9c50-41e3-b17f-10135a5a4b66",
        "deepnote_to_be_reexecuted": false,
        "source_hash": "176f7b6b",
        "execution_start": 1618680853602,
        "execution_millis": 9,
        "deepnote_cell_type": "code"
      },
      "source": "for item in re.finditer('(\\w+[t])[\\s|,]', test_string):\n    # Now I use the .groups() function. It can give you every single group that you specified.\n    print(item.groups())",
      "outputs": [
        {
          "name": "stdout",
          "text": "('What',)\n('Walmart',)\n('Target',)\n('but',)\n",
          "output_type": "stream"
        }
      ],
      "execution_count": null
    },
    {
      "cell_type": "code",
      "metadata": {
        "cell_id": "00041-c0514e11-1d15-4348-b0ef-4150019fc374",
        "deepnote_to_be_reexecuted": false,
        "source_hash": "6cb97b62",
        "execution_start": 1618680855541,
        "execution_millis": 7,
        "deepnote_cell_type": "code"
      },
      "source": "for item in re.finditer('(\\w+[t])[\\s|,]', test_string):\n    print(item.group(1))",
      "outputs": [
        {
          "name": "stdout",
          "text": "What\nWalmart\nTarget\nbut\n",
          "output_type": "stream"
        }
      ],
      "execution_count": null
    },
    {
      "cell_type": "markdown",
      "source": "## Raw string\n\n* r'' pattern",
      "metadata": {
        "cell_id": "00042-eac3615d-1652-493b-b182-1d309c7af1fe",
        "deepnote_cell_type": "markdown"
      }
    },
    {
      "cell_type": "code",
      "metadata": {
        "cell_id": "00043-67de1140-d2c5-4a47-ba74-1a3f37a39f79",
        "deepnote_to_be_reexecuted": false,
        "source_hash": "c3b6bb3",
        "execution_start": 1618680862529,
        "execution_millis": 12,
        "deepnote_cell_type": "code"
      },
      "source": "print(r'In Son Zeng')",
      "outputs": [
        {
          "name": "stdout",
          "text": "In Son Zeng\n",
          "output_type": "stream"
        }
      ],
      "execution_count": null
    },
    {
      "cell_type": "code",
      "metadata": {
        "cell_id": "00044-fe0afcf2-eafb-4c76-a3cf-f260753ea40a",
        "deepnote_to_be_reexecuted": false,
        "source_hash": "1c419f08",
        "execution_start": 1618680863533,
        "execution_millis": 15,
        "deepnote_cell_type": "code"
      },
      "source": "print(r'In Son Zeng\\n')",
      "outputs": [
        {
          "name": "stdout",
          "text": "In Son Zeng\\n\n",
          "output_type": "stream"
        }
      ],
      "execution_count": null
    },
    {
      "cell_type": "code",
      "metadata": {
        "scrolled": true,
        "cell_id": "00045-7f337f88-3105-41dd-bc87-e8eebebebaa8",
        "deepnote_to_be_reexecuted": false,
        "source_hash": "2fbdaa0",
        "execution_start": 1618680864556,
        "execution_millis": 21,
        "deepnote_cell_type": "code"
      },
      "source": "print('In Son Zeng\\n')",
      "outputs": [
        {
          "name": "stdout",
          "text": "In Son Zeng\n\n",
          "output_type": "stream"
        }
      ],
      "execution_count": null
    },
    {
      "cell_type": "markdown",
      "source": "## Back-referencing\n\n",
      "metadata": {
        "cell_id": "00046-d14af0f2-f1c5-4e46-ad04-78f758f935be",
        "deepnote_cell_type": "markdown"
      }
    },
    {
      "cell_type": "code",
      "metadata": {
        "cell_id": "00047-08e090d7-d91d-4698-997d-bd67c073290f",
        "deepnote_cell_type": "code"
      },
      "source": "",
      "execution_count": null,
      "outputs": []
    },
    {
      "cell_type": "markdown",
      "source": "<a style='text-decoration:none;line-height:16px;display:flex;color:#5B5B62;padding:10px;justify-content:end;' href='https://deepnote.com?utm_source=created-in-deepnote-cell&projectId=d164461f-c4b7-4df2-b711-3a9e5e978d4a' target=\"_blank\">\n<img alt='Created in deepnote.com' style='display:inline;max-height:16px;margin:0px;margin-right:7.5px;' src='data:image/svg+xml;base64,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' > </img>\nCreated in <span style='font-weight:600;margin-left:4px;'>Deepnote</span></a>",
      "metadata": {
        "tags": [],
        "created_in_deepnote_cell": true,
        "deepnote_cell_type": "markdown"
      }
    }
  ],
  "nbformat": 4,
  "nbformat_minor": 4,
  "metadata": {
    "kernelspec": {
      "display_name": "Python 3",
      "language": "python",
      "name": "python3"
    },
    "language_info": {
      "codemirror_mode": {
        "name": "ipython",
        "version": 3
      },
      "file_extension": ".py",
      "mimetype": "text/x-python",
      "name": "python",
      "nbconvert_exporter": "python",
      "pygments_lexer": "ipython3",
      "version": "3.8.3"
    },
    "deepnote_notebook_id": "3616159d-2d33-4b74-a271-da813ae726e2",
    "deepnote": {},
    "deepnote_execution_queue": []
  }
}