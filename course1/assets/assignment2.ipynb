{
  "cells": [
    {
      "cell_type": "markdown",
      "source": "# Assignment 2 - Continuous Visualization\n\nImagine you're a data scientist working for the University of Michigan teaching and learning team, and one of your job responsibilities is to offer instructional advices based on course performance metrics. As part of this activity you might be asked to analyze student's grade distribution in a range of undergraduate and graduate level courses to draw comparison between courses and come up with insights regarding how to enhance residential education across different subjects.",
      "metadata": {
        "cell_id": "00000-1df6cf5f-08b1-413b-bde6-c239c7802230",
        "deepnote_cell_type": "markdown"
      }
    },
    {
      "cell_type": "markdown",
      "source": "## Question 1 Draw t-distribution probability density plot (30%)\n\nYour first task is to draw a t-distribution probability density plot and demonstrate to the team why sample size is an important factor if you want to articulate performance issues. So you must make a well-designed and well-annotated probability density plot under the `make_prob_plot` function that depicts the samples with different sample sizes. We have included a function to sample from the t-distribution for you in `make_t_distribution`.\n\nThe elements requested by the management team for the first visualization are:\n* Generate random t-distribution samples with sample size 10, 100, 1000 and 5000, respectively\n* Each sample should set the same mean 0 and standard error as 2 to better compare with each other. Hint: You can take the t-distribution, use the `pdf` function and pass the x-axis as argument to obtain the probability density (which is the height).\n* Plot each of the 4 samples using a **probability density plot** within a single figure so that each of the t-distribution curves is in a different color. \n* Draw a normal distribution with the same parameters (mean 0 and standard deviation 2) on top of the 4 t-distribution curves using another different color. You can figure out how to sample from the normal distribution by inspecting our example code for the t-distribution and reading the docs online.\n* (Optional) If you like, you can use a different line type for each probability density plot to improve your visualization.\n* Use legend attribute to indicate the distribution and sample size corresponding with the color curve. For example, you may specify \"t-distribution, n = 5000\" to indicate that a certain color curve represents the t-distribution with 5000 samples.\n\nAlso, an ecclectic fellow with a name tag reading \"Chris\" left this post it note on your desk with the words \"kinda like this\".\n![](assets/dist.jpg)",
      "metadata": {
        "cell_id": "00001-bbbad857-ec9a-4876-946f-ddb0341e80c5",
        "deepnote_cell_type": "markdown"
      }
    },
    {
      "cell_type": "code",
      "metadata": {
        "cell_id": "00002-531a098c-00e8-4b5d-b7b3-8e99051fcbcf",
        "deepnote_cell_type": "code"
      },
      "source": "import scipy.stats as stats\nimport numpy as np\nimport matplotlib.pyplot as plt\nimport pandas as pd\n\ndef make_t_distribution(sample_size, mean, sd):\n    t_sample = stats.t.rvs(sample_size - 1, mean, sd, sample_size) # Random t-distribution sample\n    sample_mean = np.mean(t_sample) # sample mean\n    sample_std = np.std(t_sample) # sample standard deviation\n    t_dist = stats.t(df = sample_size - 1, loc = sample_mean, scale = sample_std) # make a t-distribution based on the sample\n    x_axis = np.linspace(t_dist.ppf(0.0001), t_dist.ppf(0.9999), 500) # Generate an x-axis based on t-quantile values\n    \n    return t_dist, x_axis\n\ndef make_prob_plot():\n    return None\n\nmake_prob_plot()",
      "outputs": [],
      "execution_count": null
    },
    {
      "cell_type": "markdown",
      "source": "## Question 2 Grade Distribution Comparison (40%)\n\nNow you have impressed the management team, you have been given a sample data file `assets/class_grades.csv` for a number of courses, and you have been asked to consider the letter grades for STATS 250, DATASCI 306, MATH 217, ENGLISH 125, ECON 101, EECS 545 for the past records since 2015. The student grades are stored in 6 columns: \n* `STATS250_grade` stores the letter grades for those who took the STATS 250 course\n* `DATASCI306_grade` stores the letter grades for those who took the DATASCI 306 course\n* `MATH217_grade` stores the letter grades for those who took the MATH 217 course\n* `ENGLISH125_grade` stores the letter grades for those who took the ENGLISH 125 course\n* `ECON101_grade` stores the letter grades for those who took the ECON 101 course\n* `EECS545_grade` stores the letter grades for those who took the EECS 545 course\n\nPrior to drawing plots for student grade distribution, it's useful to compute the total student enrollments for each course (of course, you need to ignore NAN values) and convert student's letter grades into standard grade points. Here's a nice table on the grade point systems available at the umich website:\n\n| Letter Grade | Grade Point |\n|:---: |:----:|\n| A+ | 4.3 |\n| A | 4.0 |\n| A- | 3.7 |\n| B+ | 3.3 |\n| B | 3 |\n| B- | 2.7 |\n| C+ | 2.3 |\n| C | 2 |\n| C- | 1.7 |\n| D+ | 1.3 |\n| D | 1 |\n| D- | 0.7 |\n| E | 0 |\n\nYou are asked to:\n* Make a **3 * 2** figure (so 6 subplots) such that for each course you have a **histogram** using the student grade samples respectively\n* Remove the gaps between the bars in the histograms if any\n* For each probability plot, you should overlay a normal distribution with the same mean and standard deviation parameters as you see in the samples (you can calculate this!)\n* You should of course use a legend on each plot to specify the corresponding course name and number of students involved. For example, you can draw a legend and specify \"STATS 250, n=5000\" to indicate that you are analyzing STATS 250 course with 5000 enrolled students records being used for analysis\n\nHints:\n* To make subplots, one good way to start with is to use `fig, ax = plt.subplot()`\n* To remove the gaps that might show up in histograms, you can customize the `bins` parameter\n* If you want to make histograms using the distplot function in seaborn package, you need to specify the parameters `kde = False` and `norm_hist = True`",
      "metadata": {
        "cell_id": "00003-fe1a013a-5d86-4bf2-ae28-4e5bb0e5d827",
        "deepnote_cell_type": "markdown"
      }
    },
    {
      "cell_type": "code",
      "metadata": {
        "cell_id": "00004-72827da5-bce0-4ca2-a62a-db08b9e68976",
        "deepnote_cell_type": "code"
      },
      "source": "import matplotlib.pyplot as plt\nimport pandas as pd\nimport seaborn as sns\n\ndef grade_distribution():\n    return None\n\ngrade_distribution()",
      "outputs": [],
      "execution_count": null
    },
    {
      "cell_type": "markdown",
      "source": "# Question 3 Grade Distribution Normality Check (30%)\n\nSeeing the student grade distributions of the 6 large residential courses, the team team is tempted to draft recommendations for instructors and report to them what particular aspects could be addressed to improve students' academic learning outcome. However, before they launch statistical tests, they need to verify if the student grades data approximately follows normal distribution, a sufficient condition rendering the design of statistical models valid for those courses. You suggest that a QQ-plot is a great method to determine how similar a distribution is to another. Great idea!\n* Make a 3 * 2 figure (again, 6 subplots) so that for each course you have a QQ plot using the student grade samples versus the normal distribution with the same mean and standard deviation\n* You need to use a legend on each plot to specify the corresponding course name and number of students involved. For example, you can draw a legend and specify \"STATS 250, n=5000\" to indicate that you are analyzing STATS 250 course with 5000 enrolled students records being used for analysis\n* For each QQ-plot, use annotate tool inside the graph to circle observations which are 2 standard deviations outside from the QQ-line (a straight line showing the theoretical values for different quantiles under normal distribution)\n* Write a couple of sentence about the figure discussing the courses and whether they seem to be normally distributed.\n\nHint: You may find using `fig = plt.figure()` and `fig.add_subplot()` functions helpful to create subplots. You don't have to use these functions though.",
      "metadata": {
        "cell_id": "00005-12803c8d-9557-4634-9386-189f2f40a736",
        "deepnote_cell_type": "markdown"
      }
    },
    {
      "cell_type": "code",
      "metadata": {
        "cell_id": "00006-55fceed0-bb2f-4f95-89ea-d5553718fde9",
        "deepnote_cell_type": "code"
      },
      "source": "def grade_normality():\n    return None\n\ngrade_normality()",
      "execution_count": null,
      "outputs": []
    },
    {
      "cell_type": "markdown",
      "source": "<a style='text-decoration:none;line-height:16px;display:flex;color:#5B5B62;padding:10px;justify-content:end;' href='https://deepnote.com?utm_source=created-in-deepnote-cell&projectId=d164461f-c4b7-4df2-b711-3a9e5e978d4a' target=\"_blank\">\n<img style='display:inline;max-height:16px;margin:0px;margin-right:7.5px;' src='data:image/svg+xml;base64,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' > </img>\nCreated in <span style='font-weight:600;margin-left:4px;'>Deepnote</span></a>",
      "metadata": {
        "tags": [],
        "created_in_deepnote_cell": true,
        "deepnote_cell_type": "markdown"
      }
    }
  ],
  "nbformat": 4,
  "nbformat_minor": 4,
  "metadata": {
    "kernelspec": {
      "display_name": "Python 3",
      "language": "python",
      "name": "python3"
    },
    "language_info": {
      "codemirror_mode": {
        "name": "ipython",
        "version": 3
      },
      "file_extension": ".py",
      "mimetype": "text/x-python",
      "name": "python",
      "nbconvert_exporter": "python",
      "pygments_lexer": "ipython3",
      "version": "3.7.3"
    },
    "deepnote_notebook_id": "e0a47676-ffb8-4dac-84e1-63435bff98cf",
    "deepnote": {},
    "deepnote_execution_queue": []
  }
}