{
  "cells": [
    {
      "cell_type": "markdown",
      "source": "# Understanding Likelihood",
      "metadata": {
        "tags": [],
        "cell_id": "00000-356dd06d-ee5c-4ca8-9a6d-9844cd5c26e0",
        "deepnote_cell_type": "markdown"
      }
    },
    {
      "cell_type": "markdown",
      "source": "In this lecture, we are going to look at the second component of Bayesian modeling - the likelihood. The likelihood function contains all relevant information from the data, and states the probability of obtaining certain result conditioned on the model, but it's often overlooked in Bayesian inference. The likelihood is a funny concept which governs a significant part of the Bayes’ updating rule as well as Bayesian estimation and model comparison techniques, but the way how to find out likelihood is no more complex than we've gone through various probability distributions in week 2. So let's get started!",
      "metadata": {
        "tags": [],
        "cell_id": "00002-12fe6b68-2618-40b7-9cbe-77573d2fbc64",
        "deepnote_cell_type": "markdown"
      }
    },
    {
      "cell_type": "code",
      "source": "# Suppose we switch our interest back to the weather data we explored in week 2 continuous distribution lecture\n# that we want to know how the yearly average temperature in Detroit in particular, is distributed.\n# To recap, I captured the total precipitation, snowfall and yearly average temperature of New York City, San Francisco \n# and Detroit for the past 30 years, from the The National Weather Service and National Oceanic and Atmospheric Administration websites.\n# Before we view the data, we might still remember that the Detroit has the lowest average temperature among\n# the three weather stations, and the temperature is around 50.\n\n# One characteristic of yearly temperature is that it could take any value, so a continuous distribution should be\n# used to describe the distribution. So let's start with using the normal prior. \n\n# To specify the prior, we need to import the stats module in scipy package.\nfrom scipy import stats\n# Now we can create a variable called prior_mean and set the prior mean (which is the average value) as 50.\nprior_mean = 50\n# and create another variable called prior_std and set the standard deviation as 5\nprior_std = 5\n# (so the variance is the square of 5, which is 25)\nprior_var = 25\n# and finally generate a random 100 samples of the normal prior with mean equals 50 and \n# standard deviation equals 5. \nprior = stats.norm.rvs(50, 5, 100)",
      "metadata": {
        "tags": [],
        "cell_id": "00002-1455a923-b500-4789-bb68-61c46e39c618",
        "deepnote_to_be_reexecuted": false,
        "source_hash": "a5a5f032",
        "execution_millis": 1,
        "execution_start": 1618941134075,
        "deepnote_cell_type": "code"
      },
      "outputs": [],
      "execution_count": null
    },
    {
      "cell_type": "code",
      "source": "# Now let's visualize the prior distribution.\nimport seaborn as sns\n# Since the prior is defined by a continuous distribution, we can pass through the prior object and \n# generate a kernel density plot using the sns.kdeplot() function.\nsns.kdeplot(prior)\n# Cool! So you can see that the probability density peaks at roughly 50, which we statistically called the mode,\n# and the density tapers off symmetrically on both sides. That means we believe that the yearly average \n# temperature in Detroit is most likely to be around 50, and progressively less likely to be far from 50.\n# So that's our prior!",
      "metadata": {
        "tags": [],
        "cell_id": "00003-7d619190-98b7-48d9-9b99-fe143b16b2e5",
        "deepnote_to_be_reexecuted": false,
        "source_hash": "fd8af2c9",
        "execution_millis": 342,
        "execution_start": 1618941136122,
        "deepnote_cell_type": "code"
      },
      "outputs": [
        {
          "output_type": "execute_result",
          "execution_count": 31,
          "data": {
            "text/plain": "<AxesSubplot:ylabel='Density'>"
          },
          "metadata": {}
        },
        {
          "data": {
            "text/plain": "<Figure size 432x288 with 1 Axes>",
            "image/png": "[encoded data removed]"
          },
          "metadata": {
            "needs_background": "light"
          },
          "output_type": "display_data"
        }
      ],
      "execution_count": null
    },
    {
      "cell_type": "code",
      "source": "# So what's the likelihood in this case? We can import the pandas package \nimport pandas as pd\n# and take in the weather dataset \nweather = pd.read_csv('assets/year_weather.csv')\n# and look at the data again!\nweather\n# As you may recall, this dataset contains the 30-year record of snowfall, yearly precipitation and yearly average temperature\n# so we're going to only look at the Detroit region this time and analyze the yearly average temperature only. ",
      "metadata": {
        "tags": [],
        "cell_id": "00004-82b639f7-5295-4e69-b48c-3de5af5f8fe4",
        "deepnote_to_be_reexecuted": false,
        "source_hash": "a76c3436",
        "execution_start": 1618927374541,
        "execution_millis": 83,
        "deepnote_cell_type": "code"
      },
      "outputs": [
        {
          "output_type": "execute_result",
          "execution_count": 7,
          "data": {
            "application/vnd.deepnote.dataframe.v2+json": {
              "row_count": 90,
              "column_count": 8,
              "columns": [
                {
                  "name": "year",
                  "dtype": "int64",
                  "stats": {
                    "unique_count": 30,
                    "nan_count": 0,
                    "min": "1990",
                    "max": "2019",
                    "histogram": [
                      {
                        "bin_start": 1990,
                        "bin_end": 1992.9,
                        "count": 9
                      },
                      {
                        "bin_start": 1992.9,
                        "bin_end": 1995.8,
                        "count": 9
                      },
                      {
                        "bin_start": 1995.8,
                        "bin_end": 1998.7,
                        "count": 9
                      },
                      {
                        "bin_start": 1998.7,
                        "bin_end": 2001.6,
                        "count": 9
                      },
                      {
                        "bin_start": 2001.6,
                        "bin_end": 2004.5,
                        "count": 9
                      },
                      {
                        "bin_start": 2004.5,
                        "bin_end": 2007.4,
                        "count": 9
                      },
                      {
                        "bin_start": 2007.4,
                        "bin_end": 2010.3,
                        "count": 9
                      },
                      {
                        "bin_start": 2010.3,
                        "bin_end": 2013.2,
                        "count": 9
                      },
                      {
                        "bin_start": 2013.2,
                        "bin_end": 2016.1,
                        "count": 9
                      },
                      {
                        "bin_start": 2016.1,
                        "bin_end": 2019,
                        "count": 9
                      }
                    ]
                  }
                },
                {
                  "name": "region",
                  "dtype": "object",
                  "stats": {
                    "unique_count": 3,
                    "nan_count": 0,
                    "categories": [
                      {
                        "name": "Detroit",
                        "count": 30
                      },
                      {
                        "name": "New York City",
                        "count": 30
                      },
                      {
                        "name": "San Francisco",
                        "count": 30
                      }
                    ]
                  }
                },
                {
                  "name": "state",
                  "dtype": "object",
                  "stats": {
                    "unique_count": 3,
                    "nan_count": 0,
                    "categories": [
                      {
                        "name": "Michigan",
                        "count": 30
                      },
                      {
                        "name": "New York",
                        "count": 30
                      },
                      {
                        "name": "California",
                        "count": 30
                      }
                    ]
                  }
                },
                {
                  "name": "snow_inches",
                  "dtype": "float64",
                  "stats": {
                    "unique_count": 60,
                    "nan_count": 0,
                    "min": "0.0",
                    "max": "94.9",
                    "histogram": [
                      {
                        "bin_start": 0,
                        "bin_end": 9.49,
                        "count": 32
                      },
                      {
                        "bin_start": 9.49,
                        "bin_end": 18.98,
                        "count": 8
                      },
                      {
                        "bin_start": 18.98,
                        "bin_end": 28.47,
                        "count": 10
                      },
                      {
                        "bin_start": 28.47,
                        "bin_end": 37.96,
                        "count": 11
                      },
                      {
                        "bin_start": 37.96,
                        "bin_end": 47.45,
                        "count": 11
                      },
                      {
                        "bin_start": 47.45,
                        "bin_end": 56.94,
                        "count": 9
                      },
                      {
                        "bin_start": 56.94,
                        "bin_end": 66.43,
                        "count": 5
                      },
                      {
                        "bin_start": 66.43,
                        "bin_end": 75.92,
                        "count": 3
                      },
                      {
                        "bin_start": 75.92,
                        "bin_end": 85.41,
                        "count": 0
                      },
                      {
                        "bin_start": 85.41,
                        "bin_end": 94.9,
                        "count": 1
                      }
                    ]
                  }
                },
                {
                  "name": "num_snow_day",
                  "dtype": "float64",
                  "stats": {
                    "unique_count": 57,
                    "nan_count": 0,
                    "min": "0.0",
                    "max": "54.4",
                    "histogram": [
                      {
                        "bin_start": 0,
                        "bin_end": 5.4399999999999995,
                        "count": 30
                      },
                      {
                        "bin_start": 5.4399999999999995,
                        "bin_end": 10.879999999999999,
                        "count": 1
                      },
                      {
                        "bin_start": 10.879999999999999,
                        "bin_end": 16.32,
                        "count": 4
                      },
                      {
                        "bin_start": 16.32,
                        "bin_end": 21.759999999999998,
                        "count": 5
                      },
                      {
                        "bin_start": 21.759999999999998,
                        "bin_end": 27.199999999999996,
                        "count": 7
                      },
                      {
                        "bin_start": 27.199999999999996,
                        "bin_end": 32.64,
                        "count": 15
                      },
                      {
                        "bin_start": 32.64,
                        "bin_end": 38.08,
                        "count": 10
                      },
                      {
                        "bin_start": 38.08,
                        "bin_end": 43.519999999999996,
                        "count": 8
                      },
                      {
                        "bin_start": 43.519999999999996,
                        "bin_end": 48.959999999999994,
                        "count": 6
                      },
                      {
                        "bin_start": 48.959999999999994,
                        "bin_end": 54.4,
                        "count": 4
                      }
                    ]
                  }
                },
                {
                  "name": "precipitation_inches",
                  "dtype": "float64",
                  "stats": {
                    "unique_count": 83,
                    "nan_count": 0,
                    "min": "11.7",
                    "max": "72.8",
                    "histogram": [
                      {
                        "bin_start": 11.7,
                        "bin_end": 17.81,
                        "count": 9
                      },
                      {
                        "bin_start": 17.81,
                        "bin_end": 23.919999999999998,
                        "count": 9
                      },
                      {
                        "bin_start": 23.919999999999998,
                        "bin_end": 30.029999999999998,
                        "count": 12
                      },
                      {
                        "bin_start": 30.029999999999998,
                        "bin_end": 36.14,
                        "count": 21
                      },
                      {
                        "bin_start": 36.14,
                        "bin_end": 42.25,
                        "count": 10
                      },
                      {
                        "bin_start": 42.25,
                        "bin_end": 48.36,
                        "count": 14
                      },
                      {
                        "bin_start": 48.36,
                        "bin_end": 54.47,
                        "count": 7
                      },
                      {
                        "bin_start": 54.47,
                        "bin_end": 60.58,
                        "count": 4
                      },
                      {
                        "bin_start": 60.58,
                        "bin_end": 66.69,
                        "count": 3
                      },
                      {
                        "bin_start": 66.69,
                        "bin_end": 72.8,
                        "count": 1
                      }
                    ]
                  }
                },
                {
                  "name": "num_rain_day",
                  "dtype": "int64",
                  "stats": {
                    "unique_count": 62,
                    "nan_count": 0,
                    "min": "40",
                    "max": "184",
                    "histogram": [
                      {
                        "bin_start": 40,
                        "bin_end": 54.4,
                        "count": 9
                      },
                      {
                        "bin_start": 54.4,
                        "bin_end": 68.8,
                        "count": 10
                      },
                      {
                        "bin_start": 68.8,
                        "bin_end": 83.2,
                        "count": 7
                      },
                      {
                        "bin_start": 83.2,
                        "bin_end": 97.6,
                        "count": 3
                      },
                      {
                        "bin_start": 97.6,
                        "bin_end": 112,
                        "count": 5
                      },
                      {
                        "bin_start": 112,
                        "bin_end": 126.4,
                        "count": 24
                      },
                      {
                        "bin_start": 126.4,
                        "bin_end": 140.8,
                        "count": 19
                      },
                      {
                        "bin_start": 140.8,
                        "bin_end": 155.2,
                        "count": 8
                      },
                      {
                        "bin_start": 155.2,
                        "bin_end": 169.6,
                        "count": 3
                      },
                      {
                        "bin_start": 169.6,
                        "bin_end": 184,
                        "count": 2
                      }
                    ]
                  }
                },
                {
                  "name": "year_avg_temp",
                  "dtype": "float64",
                  "stats": {
                    "unique_count": 72,
                    "nan_count": 0,
                    "min": "47.6",
                    "max": "60.8",
                    "histogram": [
                      {
                        "bin_start": 47.6,
                        "bin_end": 48.92,
                        "count": 5
                      },
                      {
                        "bin_start": 48.92,
                        "bin_end": 50.24,
                        "count": 7
                      },
                      {
                        "bin_start": 50.24,
                        "bin_end": 51.56,
                        "count": 10
                      },
                      {
                        "bin_start": 51.56,
                        "bin_end": 52.88,
                        "count": 5
                      },
                      {
                        "bin_start": 52.88,
                        "bin_end": 54.2,
                        "count": 8
                      },
                      {
                        "bin_start": 54.2,
                        "bin_end": 55.519999999999996,
                        "count": 9
                      },
                      {
                        "bin_start": 55.519999999999996,
                        "bin_end": 56.839999999999996,
                        "count": 14
                      },
                      {
                        "bin_start": 56.839999999999996,
                        "bin_end": 58.16,
                        "count": 16
                      },
                      {
                        "bin_start": 58.16,
                        "bin_end": 59.48,
                        "count": 8
                      },
                      {
                        "bin_start": 59.48,
                        "bin_end": 60.8,
                        "count": 8
                      }
                    ]
                  }
                },
                {
                  "name": "_deepnote_index_column",
                  "dtype": "int64"
                }
              ],
              "rows_top": [
                {
                  "year": 1990,
                  "region": "Detroit",
                  "state": "Michigan",
                  "snow_inches": 41.8,
                  "num_snow_day": 36.4,
                  "precipitation_inches": 42.6,
                  "num_rain_day": 171,
                  "year_avg_temp": 51.3,
                  "_deepnote_index_column": 0
                },
                {
                  "year": 1991,
                  "region": "Detroit",
                  "state": "Michigan",
                  "snow_inches": 31.4,
                  "num_snow_day": 32.2,
                  "precipitation_inches": 29.6,
                  "num_rain_day": 115,
                  "year_avg_temp": 52,
                  "_deepnote_index_column": 1
                },
                {
                  "year": 1992,
                  "region": "Detroit",
                  "state": "Michigan",
                  "snow_inches": 43.5,
                  "num_snow_day": 24.7,
                  "precipitation_inches": 37.3,
                  "num_rain_day": 153,
                  "year_avg_temp": 48.8,
                  "_deepnote_index_column": 2
                },
                {
                  "year": 1993,
                  "region": "Detroit",
                  "state": "Michigan",
                  "snow_inches": 52.2,
                  "num_snow_day": 41.9,
                  "precipitation_inches": 30.6,
                  "num_rain_day": 118,
                  "year_avg_temp": 49.9,
                  "_deepnote_index_column": 3
                },
                {
                  "year": 1994,
                  "region": "Detroit",
                  "state": "Michigan",
                  "snow_inches": 45.8,
                  "num_snow_day": 31.9,
                  "precipitation_inches": 31,
                  "num_rain_day": 117,
                  "year_avg_temp": 50.4,
                  "_deepnote_index_column": 4
                },
                {
                  "year": 1995,
                  "region": "Detroit",
                  "state": "Michigan",
                  "snow_inches": 33.5,
                  "num_snow_day": 22.1,
                  "precipitation_inches": 28.8,
                  "num_rain_day": 113,
                  "year_avg_temp": 50,
                  "_deepnote_index_column": 5
                },
                {
                  "year": 1996,
                  "region": "Detroit",
                  "state": "Michigan",
                  "snow_inches": 27.6,
                  "num_snow_day": 29.2,
                  "precipitation_inches": 27.4,
                  "num_rain_day": 107,
                  "year_avg_temp": 48.2,
                  "_deepnote_index_column": 6
                },
                {
                  "year": 1997,
                  "region": "Detroit",
                  "state": "Michigan",
                  "snow_inches": 43.1,
                  "num_snow_day": 38.1,
                  "precipitation_inches": 34,
                  "num_rain_day": 130,
                  "year_avg_temp": 48.5,
                  "_deepnote_index_column": 7
                },
                {
                  "year": 1998,
                  "region": "Detroit",
                  "state": "Michigan",
                  "snow_inches": 23.4,
                  "num_snow_day": 27.7,
                  "precipitation_inches": 34.9,
                  "num_rain_day": 135,
                  "year_avg_temp": 53.5,
                  "_deepnote_index_column": 8
                },
                {
                  "year": 1999,
                  "region": "Detroit",
                  "state": "Michigan",
                  "snow_inches": 49.5,
                  "num_snow_day": 35.4,
                  "precipitation_inches": 32.2,
                  "num_rain_day": 122,
                  "year_avg_temp": 51.3,
                  "_deepnote_index_column": 9
                },
                {
                  "year": 2000,
                  "region": "Detroit",
                  "state": "Michigan",
                  "snow_inches": 23.7,
                  "num_snow_day": 14.1,
                  "precipitation_inches": 42.2,
                  "num_rain_day": 160,
                  "year_avg_temp": 49.8,
                  "_deepnote_index_column": 10
                },
                {
                  "year": 2001,
                  "region": "Detroit",
                  "state": "Michigan",
                  "snow_inches": 39,
                  "num_snow_day": 31.2,
                  "precipitation_inches": 34.5,
                  "num_rain_day": 135,
                  "year_avg_temp": 51.6,
                  "_deepnote_index_column": 11
                },
                {
                  "year": 2002,
                  "region": "Detroit",
                  "state": "Michigan",
                  "snow_inches": 33.7,
                  "num_snow_day": 28.5,
                  "precipitation_inches": 30.5,
                  "num_rain_day": 115,
                  "year_avg_temp": 51,
                  "_deepnote_index_column": 12
                },
                {
                  "year": 2003,
                  "region": "Detroit",
                  "state": "Michigan",
                  "snow_inches": 60.9,
                  "num_snow_day": 40.1,
                  "precipitation_inches": 31.4,
                  "num_rain_day": 117,
                  "year_avg_temp": 48.9,
                  "_deepnote_index_column": 13
                },
                {
                  "year": 2004,
                  "region": "Detroit",
                  "state": "Michigan",
                  "snow_inches": 24.1,
                  "num_snow_day": 15.9,
                  "precipitation_inches": 33.6,
                  "num_rain_day": 124,
                  "year_avg_temp": 50.1,
                  "_deepnote_index_column": 14
                },
                {
                  "year": 2005,
                  "region": "Detroit",
                  "state": "Michigan",
                  "snow_inches": 63.8,
                  "num_snow_day": 42.7,
                  "precipitation_inches": 28.3,
                  "num_rain_day": 101,
                  "year_avg_temp": 50.8,
                  "_deepnote_index_column": 15
                },
                {
                  "year": 2006,
                  "region": "Detroit",
                  "state": "Michigan",
                  "snow_inches": 36.3,
                  "num_snow_day": 43.9,
                  "precipitation_inches": 39.2,
                  "num_rain_day": 146,
                  "year_avg_temp": 52.1,
                  "_deepnote_index_column": 16
                },
                {
                  "year": 2007,
                  "region": "Detroit",
                  "state": "Michigan",
                  "snow_inches": 30.3,
                  "num_snow_day": 29,
                  "precipitation_inches": 32.7,
                  "num_rain_day": 133,
                  "year_avg_temp": 50.9,
                  "_deepnote_index_column": 17
                },
                {
                  "year": 2008,
                  "region": "Detroit",
                  "state": "Michigan",
                  "snow_inches": 71.7,
                  "num_snow_day": 40.8,
                  "precipitation_inches": 34,
                  "num_rain_day": 140,
                  "year_avg_temp": 49.7,
                  "_deepnote_index_column": 18
                },
                {
                  "year": 2009,
                  "region": "Detroit",
                  "state": "Michigan",
                  "snow_inches": 65.7,
                  "num_snow_day": 48.4,
                  "precipitation_inches": 34.1,
                  "num_rain_day": 133,
                  "year_avg_temp": 49.4,
                  "_deepnote_index_column": 19
                },
                {
                  "year": 2010,
                  "region": "Detroit",
                  "state": "Michigan",
                  "snow_inches": 43.7,
                  "num_snow_day": 20.3,
                  "precipitation_inches": 32.3,
                  "num_rain_day": 128,
                  "year_avg_temp": 51.9,
                  "_deepnote_index_column": 20
                },
                {
                  "year": 2011,
                  "region": "Detroit",
                  "state": "Michigan",
                  "snow_inches": 69.1,
                  "num_snow_day": 54.4,
                  "precipitation_inches": 47.7,
                  "num_rain_day": 184,
                  "year_avg_temp": 51.1,
                  "_deepnote_index_column": 21
                },
                {
                  "year": 2012,
                  "region": "Detroit",
                  "state": "Michigan",
                  "snow_inches": 26,
                  "num_snow_day": 33.2,
                  "precipitation_inches": 27.1,
                  "num_rain_day": 99,
                  "year_avg_temp": 53.8,
                  "_deepnote_index_column": 22
                },
                {
                  "year": 2013,
                  "region": "Detroit",
                  "state": "Michigan",
                  "snow_inches": 47.7,
                  "num_snow_day": 48.3,
                  "precipitation_inches": 39.9,
                  "num_rain_day": 159,
                  "year_avg_temp": 49.8,
                  "_deepnote_index_column": 23
                },
                {
                  "year": 2014,
                  "region": "Detroit",
                  "state": "Michigan",
                  "snow_inches": 94.9,
                  "num_snow_day": 53.4,
                  "precipitation_inches": 37.6,
                  "num_rain_day": 140,
                  "year_avg_temp": 47.6,
                  "_deepnote_index_column": 24
                },
                {
                  "year": 2015,
                  "region": "Detroit",
                  "state": "Michigan",
                  "snow_inches": 47.5,
                  "num_snow_day": 44.1,
                  "precipitation_inches": 30.3,
                  "num_rain_day": 121,
                  "year_avg_temp": 50.7,
                  "_deepnote_index_column": 25
                },
                {
                  "year": 2016,
                  "region": "Detroit",
                  "state": "Michigan",
                  "snow_inches": 35.3,
                  "num_snow_day": 39.7,
                  "precipitation_inches": 34.7,
                  "num_rain_day": 137,
                  "year_avg_temp": 52.9,
                  "_deepnote_index_column": 26
                },
                {
                  "year": 2017,
                  "region": "Detroit",
                  "state": "Michigan",
                  "snow_inches": 37.9,
                  "num_snow_day": 25,
                  "precipitation_inches": 35.5,
                  "num_rain_day": 138,
                  "year_avg_temp": 52.4,
                  "_deepnote_index_column": 27
                },
                {
                  "year": 2018,
                  "region": "Detroit",
                  "state": "Michigan",
                  "snow_inches": 61,
                  "num_snow_day": 48.8,
                  "precipitation_inches": 43.8,
                  "num_rain_day": 167,
                  "year_avg_temp": 51.4,
                  "_deepnote_index_column": 28
                },
                {
                  "year": 2019,
                  "region": "Detroit",
                  "state": "Michigan",
                  "snow_inches": 31.3,
                  "num_snow_day": 22.9,
                  "precipitation_inches": 36.4,
                  "num_rain_day": 140,
                  "year_avg_temp": 50.5,
                  "_deepnote_index_column": 29
                },
                {
                  "year": 1990,
                  "region": "New York City",
                  "state": "New York",
                  "snow_inches": 24.9,
                  "num_snow_day": 15.2,
                  "precipitation_inches": 60.9,
                  "num_rain_day": 144,
                  "year_avg_temp": 57.2,
                  "_deepnote_index_column": 30
                },
                {
                  "year": 1991,
                  "region": "New York City",
                  "state": "New York",
                  "snow_inches": 12.6,
                  "num_snow_day": 22.2,
                  "precipitation_inches": 45.2,
                  "num_rain_day": 121,
                  "year_avg_temp": 57.2,
                  "_deepnote_index_column": 31
                },
                {
                  "year": 1992,
                  "region": "New York City",
                  "state": "New York",
                  "snow_inches": 24.5,
                  "num_snow_day": 26,
                  "precipitation_inches": 43.4,
                  "num_rain_day": 122,
                  "year_avg_temp": 53.9,
                  "_deepnote_index_column": 32
                },
                {
                  "year": 1993,
                  "region": "New York City",
                  "state": "New York",
                  "snow_inches": 53.4,
                  "num_snow_day": 29.9,
                  "precipitation_inches": 44.3,
                  "num_rain_day": 120,
                  "year_avg_temp": 55.5,
                  "_deepnote_index_column": 33
                },
                {
                  "year": 1994,
                  "region": "New York City",
                  "state": "New York",
                  "snow_inches": 11.8,
                  "num_snow_day": 29.5,
                  "precipitation_inches": 47.4,
                  "num_rain_day": 124,
                  "year_avg_temp": 55.2,
                  "_deepnote_index_column": 34
                },
                {
                  "year": 1995,
                  "region": "New York City",
                  "state": "New York",
                  "snow_inches": 75.6,
                  "num_snow_day": 50.1,
                  "precipitation_inches": 40.4,
                  "num_rain_day": 113,
                  "year_avg_temp": 55.3,
                  "_deepnote_index_column": 35
                },
                {
                  "year": 1996,
                  "region": "New York City",
                  "state": "New York",
                  "snow_inches": 10,
                  "num_snow_day": 21,
                  "precipitation_inches": 56.2,
                  "num_rain_day": 138,
                  "year_avg_temp": 53.7,
                  "_deepnote_index_column": 36
                },
                {
                  "year": 1997,
                  "region": "New York City",
                  "state": "New York",
                  "snow_inches": 15.5,
                  "num_snow_day": 53.1,
                  "precipitation_inches": 43.9,
                  "num_rain_day": 121,
                  "year_avg_temp": 54.3,
                  "_deepnote_index_column": 37
                },
                {
                  "year": 1998,
                  "region": "New York City",
                  "state": "New York",
                  "snow_inches": 12.7,
                  "num_snow_day": 33.3,
                  "precipitation_inches": 48.7,
                  "num_rain_day": 132,
                  "year_avg_temp": 57.2,
                  "_deepnote_index_column": 38
                },
                {
                  "year": 1999,
                  "region": "New York City",
                  "state": "New York",
                  "snow_inches": 16.3,
                  "num_snow_day": 23.3,
                  "precipitation_inches": 42.5,
                  "num_rain_day": 118,
                  "year_avg_temp": 56.5,
                  "_deepnote_index_column": 39
                },
                {
                  "year": 2000,
                  "region": "New York City",
                  "state": "New York",
                  "snow_inches": 35,
                  "num_snow_day": 34.2,
                  "precipitation_inches": 45.4,
                  "num_rain_day": 124,
                  "year_avg_temp": 53.9,
                  "_deepnote_index_column": 40
                },
                {
                  "year": 2001,
                  "region": "New York City",
                  "state": "New York",
                  "snow_inches": 6.6,
                  "num_snow_day": 33.7,
                  "precipitation_inches": 35.9,
                  "num_rain_day": 103,
                  "year_avg_temp": 56.3,
                  "_deepnote_index_column": 41
                },
                {
                  "year": 2002,
                  "region": "New York City",
                  "state": "New York",
                  "snow_inches": 49.3,
                  "num_snow_day": 43.7,
                  "precipitation_inches": 45.2,
                  "num_rain_day": 126,
                  "year_avg_temp": 56.4,
                  "_deepnote_index_column": 42
                },
                {
                  "year": 2003,
                  "region": "New York City",
                  "state": "New York",
                  "snow_inches": 42.6,
                  "num_snow_day": 31.9,
                  "precipitation_inches": 58.6,
                  "num_rain_day": 143,
                  "year_avg_temp": 53.4,
                  "_deepnote_index_column": 43
                },
                {
                  "year": 2004,
                  "region": "New York City",
                  "state": "New York",
                  "snow_inches": 41,
                  "num_snow_day": 32.2,
                  "precipitation_inches": 52,
                  "num_rain_day": 137,
                  "year_avg_temp": 54.5,
                  "_deepnote_index_column": 44
                },
                {
                  "year": 2005,
                  "region": "New York City",
                  "state": "New York",
                  "snow_inches": 40,
                  "num_snow_day": 38.3,
                  "precipitation_inches": 56,
                  "num_rain_day": 135,
                  "year_avg_temp": 55.8,
                  "_deepnote_index_column": 45
                },
                {
                  "year": 2006,
                  "region": "New York City",
                  "state": "New York",
                  "snow_inches": 12.4,
                  "num_snow_day": 21.3,
                  "precipitation_inches": 59.9,
                  "num_rain_day": 146,
                  "year_avg_temp": 56.8,
                  "_deepnote_index_column": 46
                },
                {
                  "year": 2007,
                  "region": "New York City",
                  "state": "New York",
                  "snow_inches": 11.9,
                  "num_snow_day": 11.9,
                  "precipitation_inches": 61.7,
                  "num_rain_day": 144,
                  "year_avg_temp": 55,
                  "_deepnote_index_column": 47
                },
                {
                  "year": 2008,
                  "region": "New York City",
                  "state": "New York",
                  "snow_inches": 27.6,
                  "num_snow_day": 30,
                  "precipitation_inches": 53.6,
                  "num_rain_day": 130,
                  "year_avg_temp": 55.3,
                  "_deepnote_index_column": 48
                },
                {
                  "year": 2009,
                  "region": "New York City",
                  "state": "New York",
                  "snow_inches": 51.4,
                  "num_snow_day": 37.7,
                  "precipitation_inches": 53.6,
                  "num_rain_day": 134,
                  "year_avg_temp": 54,
                  "_deepnote_index_column": 49
                },
                {
                  "year": 2010,
                  "region": "New York City",
                  "state": "New York",
                  "snow_inches": 61.9,
                  "num_snow_day": 29,
                  "precipitation_inches": 49.4,
                  "num_rain_day": 126,
                  "year_avg_temp": 56.7,
                  "_deepnote_index_column": 50
                },
                {
                  "year": 2011,
                  "region": "New York City",
                  "state": "New York",
                  "snow_inches": 7.4,
                  "num_snow_day": 8.8,
                  "precipitation_inches": 72.8,
                  "num_rain_day": 154,
                  "year_avg_temp": 56.4,
                  "_deepnote_index_column": 51
                },
                {
                  "year": 2012,
                  "region": "New York City",
                  "state": "New York",
                  "snow_inches": 26.1,
                  "num_snow_day": 34,
                  "precipitation_inches": 38.5,
                  "num_rain_day": 114,
                  "year_avg_temp": 57.3,
                  "_deepnote_index_column": 52
                },
                {
                  "year": 2013,
                  "region": "New York City",
                  "state": "New York",
                  "snow_inches": 50.1,
                  "num_snow_day": 33.3,
                  "precipitation_inches": 46.3,
                  "num_rain_day": 123,
                  "year_avg_temp": 55.3,
                  "_deepnote_index_column": 53
                },
                {
                  "year": 2014,
                  "region": "New York City",
                  "state": "New York",
                  "snow_inches": 50.3,
                  "num_snow_day": 39.5,
                  "precipitation_inches": 53.8,
                  "num_rain_day": 130,
                  "year_avg_temp": 54.4,
                  "_deepnote_index_column": 54
                },
                {
                  "year": 2015,
                  "region": "New York City",
                  "state": "New York",
                  "snow_inches": 32.8,
                  "num_snow_day": 31.5,
                  "precipitation_inches": 41,
                  "num_rain_day": 117,
                  "year_avg_temp": 56.7,
                  "_deepnote_index_column": 55
                },
                {
                  "year": 2016,
                  "region": "New York City",
                  "state": "New York",
                  "snow_inches": 30.8,
                  "num_snow_day": 36.9,
                  "precipitation_inches": 42.2,
                  "num_rain_day": 115,
                  "year_avg_temp": 57.2,
                  "_deepnote_index_column": 56
                },
                {
                  "year": 2017,
                  "region": "New York City",
                  "state": "New York",
                  "snow_inches": 40.9,
                  "num_snow_day": 30.5,
                  "precipitation_inches": 45,
                  "num_rain_day": 118,
                  "year_avg_temp": 56.3,
                  "_deepnote_index_column": 57
                },
                {
                  "year": 2018,
                  "region": "New York City",
                  "state": "New York",
                  "snow_inches": 20.5,
                  "num_snow_day": 18.8,
                  "precipitation_inches": 65.6,
                  "num_rain_day": 144,
                  "year_avg_temp": 55.9,
                  "_deepnote_index_column": 58
                },
                {
                  "year": 2019,
                  "region": "New York City",
                  "state": "New York",
                  "snow_inches": 40.1,
                  "num_snow_day": 20.9,
                  "precipitation_inches": 53,
                  "num_rain_day": 129,
                  "year_avg_temp": 55.6,
                  "_deepnote_index_column": 59
                },
                {
                  "year": 1990,
                  "region": "San Francisco",
                  "state": "California",
                  "snow_inches": 0,
                  "num_snow_day": 0,
                  "precipitation_inches": 14.1,
                  "num_rain_day": 53,
                  "year_avg_temp": 58.8,
                  "_deepnote_index_column": 60
                },
                {
                  "year": 1991,
                  "region": "San Francisco",
                  "state": "California",
                  "snow_inches": 0,
                  "num_snow_day": 0,
                  "precipitation_inches": 19.2,
                  "num_rain_day": 61,
                  "year_avg_temp": 58.5,
                  "_deepnote_index_column": 61
                },
                {
                  "year": 1992,
                  "region": "San Francisco",
                  "state": "California",
                  "snow_inches": 0,
                  "num_snow_day": 0,
                  "precipitation_inches": 26.7,
                  "num_rain_day": 77,
                  "year_avg_temp": 60.8,
                  "_deepnote_index_column": 62
                },
                {
                  "year": 1993,
                  "region": "San Francisco",
                  "state": "California",
                  "snow_inches": 0,
                  "num_snow_day": 0,
                  "precipitation_inches": 15.2,
                  "num_rain_day": 55,
                  "year_avg_temp": 59.9,
                  "_deepnote_index_column": 63
                },
                {
                  "year": 1994,
                  "region": "San Francisco",
                  "state": "California",
                  "snow_inches": 0,
                  "num_snow_day": 0,
                  "precipitation_inches": 34,
                  "num_rain_day": 90,
                  "year_avg_temp": 57.7,
                  "_deepnote_index_column": 64
                },
                {
                  "year": 1995,
                  "region": "San Francisco",
                  "state": "California",
                  "snow_inches": 0,
                  "num_snow_day": 0,
                  "precipitation_inches": 24.9,
                  "num_rain_day": 66,
                  "year_avg_temp": 59.9,
                  "_deepnote_index_column": 65
                },
                {
                  "year": 1996,
                  "region": "San Francisco",
                  "state": "California",
                  "snow_inches": 0,
                  "num_snow_day": 0,
                  "precipitation_inches": 22.6,
                  "num_rain_day": 64,
                  "year_avg_temp": 60.3,
                  "_deepnote_index_column": 66
                },
                {
                  "year": 1997,
                  "region": "San Francisco",
                  "state": "California",
                  "snow_inches": 0,
                  "num_snow_day": 0,
                  "precipitation_inches": 47.2,
                  "num_rain_day": 108,
                  "year_avg_temp": 60.1,
                  "_deepnote_index_column": 67
                },
                {
                  "year": 1998,
                  "region": "San Francisco",
                  "state": "California",
                  "snow_inches": 0,
                  "num_snow_day": 0,
                  "precipitation_inches": 23.5,
                  "num_rain_day": 67,
                  "year_avg_temp": 56.8,
                  "_deepnote_index_column": 68
                },
                {
                  "year": 1999,
                  "region": "San Francisco",
                  "state": "California",
                  "snow_inches": 0,
                  "num_snow_day": 0,
                  "precipitation_inches": 24.9,
                  "num_rain_day": 71,
                  "year_avg_temp": 56.1,
                  "_deepnote_index_column": 69
                },
                {
                  "year": 2000,
                  "region": "San Francisco",
                  "state": "California",
                  "snow_inches": 0,
                  "num_snow_day": 0,
                  "precipitation_inches": 19.5,
                  "num_rain_day": 57,
                  "year_avg_temp": 57.3,
                  "_deepnote_index_column": 70
                },
                {
                  "year": 2001,
                  "region": "San Francisco",
                  "state": "California",
                  "snow_inches": 0,
                  "num_snow_day": 0,
                  "precipitation_inches": 25,
                  "num_rain_day": 70,
                  "year_avg_temp": 57.6,
                  "_deepnote_index_column": 71
                },
                {
                  "year": 2002,
                  "region": "San Francisco",
                  "state": "California",
                  "snow_inches": 0,
                  "num_snow_day": 0,
                  "precipitation_inches": 23.9,
                  "num_rain_day": 73,
                  "year_avg_temp": 56.9,
                  "_deepnote_index_column": 72
                },
                {
                  "year": 2003,
                  "region": "San Francisco",
                  "state": "California",
                  "snow_inches": 0,
                  "num_snow_day": 0,
                  "precipitation_inches": 20.5,
                  "num_rain_day": 58,
                  "year_avg_temp": 58.2,
                  "_deepnote_index_column": 73
                },
                {
                  "year": 2004,
                  "region": "San Francisco",
                  "state": "California",
                  "snow_inches": 0,
                  "num_snow_day": 0,
                  "precipitation_inches": 31.9,
                  "num_rain_day": 83,
                  "year_avg_temp": 58.3,
                  "_deepnote_index_column": 74
                },
                {
                  "year": 2005,
                  "region": "San Francisco",
                  "state": "California",
                  "snow_inches": 0,
                  "num_snow_day": 0,
                  "precipitation_inches": 34.4,
                  "num_rain_day": 87,
                  "year_avg_temp": 57.9,
                  "_deepnote_index_column": 75
                },
                {
                  "year": 2006,
                  "region": "San Francisco",
                  "state": "California",
                  "snow_inches": 0,
                  "num_snow_day": 0,
                  "precipitation_inches": 16.9,
                  "num_rain_day": 46,
                  "year_avg_temp": 56.7,
                  "_deepnote_index_column": 76
                },
                {
                  "year": 2007,
                  "region": "San Francisco",
                  "state": "California",
                  "snow_inches": 0,
                  "num_snow_day": 0,
                  "precipitation_inches": 17.4,
                  "num_rain_day": 48,
                  "year_avg_temp": 57.3,
                  "_deepnote_index_column": 77
                },
                {
                  "year": 2008,
                  "region": "San Francisco",
                  "state": "California",
                  "snow_inches": 0,
                  "num_snow_day": 0,
                  "precipitation_inches": 18.1,
                  "num_rain_day": 47,
                  "year_avg_temp": 57.3,
                  "_deepnote_index_column": 78
                },
                {
                  "year": 2009,
                  "region": "San Francisco",
                  "state": "California",
                  "snow_inches": 0,
                  "num_snow_day": 0,
                  "precipitation_inches": 24.1,
                  "num_rain_day": 57,
                  "year_avg_temp": 58.1,
                  "_deepnote_index_column": 79
                },
                {
                  "year": 2010,
                  "region": "San Francisco",
                  "state": "California",
                  "snow_inches": 0,
                  "num_snow_day": 0,
                  "precipitation_inches": 28.9,
                  "num_rain_day": 79,
                  "year_avg_temp": 58.7,
                  "_deepnote_index_column": 80
                },
                {
                  "year": 2011,
                  "region": "San Francisco",
                  "state": "California",
                  "snow_inches": 0,
                  "num_snow_day": 0,
                  "precipitation_inches": 15.6,
                  "num_rain_day": 44,
                  "year_avg_temp": 57.9,
                  "_deepnote_index_column": 81
                },
                {
                  "year": 2012,
                  "region": "San Francisco",
                  "state": "California",
                  "snow_inches": 0,
                  "num_snow_day": 0,
                  "precipitation_inches": 16.6,
                  "num_rain_day": 47,
                  "year_avg_temp": 59.8,
                  "_deepnote_index_column": 82
                },
                {
                  "year": 2013,
                  "region": "San Francisco",
                  "state": "California",
                  "snow_inches": 0,
                  "num_snow_day": 0,
                  "precipitation_inches": 12.5,
                  "num_rain_day": 40,
                  "year_avg_temp": 60.7,
                  "_deepnote_index_column": 83
                },
                {
                  "year": 2014,
                  "region": "San Francisco",
                  "state": "California",
                  "snow_inches": 0,
                  "num_snow_day": 0,
                  "precipitation_inches": 18.2,
                  "num_rain_day": 57,
                  "year_avg_temp": 58.9,
                  "_deepnote_index_column": 84
                },
                {
                  "year": 2015,
                  "region": "San Francisco",
                  "state": "California",
                  "snow_inches": 0,
                  "num_snow_day": 0,
                  "precipitation_inches": 23.3,
                  "num_rain_day": 68,
                  "year_avg_temp": 58.4,
                  "_deepnote_index_column": 85
                },
                {
                  "year": 2016,
                  "region": "San Francisco",
                  "state": "California",
                  "snow_inches": 0,
                  "num_snow_day": 0,
                  "precipitation_inches": 32.3,
                  "num_rain_day": 85,
                  "year_avg_temp": 57.8,
                  "_deepnote_index_column": 86
                },
                {
                  "year": 2017,
                  "region": "San Francisco",
                  "state": "California",
                  "snow_inches": 0,
                  "num_snow_day": 0,
                  "precipitation_inches": 17.5,
                  "num_rain_day": 51,
                  "year_avg_temp": 59.1,
                  "_deepnote_index_column": 87
                },
                {
                  "year": 2018,
                  "region": "San Francisco",
                  "state": "California",
                  "snow_inches": 0,
                  "num_snow_day": 0,
                  "precipitation_inches": 25.7,
                  "num_rain_day": 74,
                  "year_avg_temp": 57.4,
                  "_deepnote_index_column": 88
                },
                {
                  "year": 2019,
                  "region": "San Francisco",
                  "state": "California",
                  "snow_inches": 0,
                  "num_snow_day": 0,
                  "precipitation_inches": 11.7,
                  "num_rain_day": 43,
                  "year_avg_temp": 59.7,
                  "_deepnote_index_column": 89
                }
              ],
              "rows_bottom": null
            },
            "text/plain": "    year         region       state  snow_inches  num_snow_day  \\\n0   1990        Detroit    Michigan         41.8          36.4   \n1   1991        Detroit    Michigan         31.4          32.2   \n2   1992        Detroit    Michigan         43.5          24.7   \n3   1993        Detroit    Michigan         52.2          41.9   \n4   1994        Detroit    Michigan         45.8          31.9   \n..   ...            ...         ...          ...           ...   \n85  2015  San Francisco  California          0.0           0.0   \n86  2016  San Francisco  California          0.0           0.0   \n87  2017  San Francisco  California          0.0           0.0   \n88  2018  San Francisco  California          0.0           0.0   \n89  2019  San Francisco  California          0.0           0.0   \n\n    precipitation_inches  num_rain_day  year_avg_temp  \n0                   42.6           171           51.3  \n1                   29.6           115           52.0  \n2                   37.3           153           48.8  \n3                   30.6           118           49.9  \n4                   31.0           117           50.4  \n..                   ...           ...            ...  \n85                  23.3            68           58.4  \n86                  32.3            85           57.8  \n87                  17.5            51           59.1  \n88                  25.7            74           57.4  \n89                  11.7            43           59.7  \n\n[90 rows x 8 columns]",
            "text/html": "<div>\n<style scoped>\n    .dataframe tbody tr th:only-of-type {\n        vertical-align: middle;\n    }\n\n    .dataframe tbody tr th {\n        vertical-align: top;\n    }\n\n    .dataframe thead th {\n        text-align: right;\n    }\n</style>\n<table border=\"1\" class=\"dataframe\">\n  <thead>\n    <tr style=\"text-align: right;\">\n      <th></th>\n      <th>year</th>\n      <th>region</th>\n      <th>state</th>\n      <th>snow_inches</th>\n      <th>num_snow_day</th>\n      <th>precipitation_inches</th>\n      <th>num_rain_day</th>\n      <th>year_avg_temp</th>\n    </tr>\n  </thead>\n  <tbody>\n    <tr>\n      <th>0</th>\n      <td>1990</td>\n      <td>Detroit</td>\n      <td>Michigan</td>\n      <td>41.8</td>\n      <td>36.4</td>\n      <td>42.6</td>\n      <td>171</td>\n      <td>51.3</td>\n    </tr>\n    <tr>\n      <th>1</th>\n      <td>1991</td>\n      <td>Detroit</td>\n      <td>Michigan</td>\n      <td>31.4</td>\n      <td>32.2</td>\n      <td>29.6</td>\n      <td>115</td>\n      <td>52.0</td>\n    </tr>\n    <tr>\n      <th>2</th>\n      <td>1992</td>\n      <td>Detroit</td>\n      <td>Michigan</td>\n      <td>43.5</td>\n      <td>24.7</td>\n      <td>37.3</td>\n      <td>153</td>\n      <td>48.8</td>\n    </tr>\n    <tr>\n      <th>3</th>\n      <td>1993</td>\n      <td>Detroit</td>\n      <td>Michigan</td>\n      <td>52.2</td>\n      <td>41.9</td>\n      <td>30.6</td>\n      <td>118</td>\n      <td>49.9</td>\n    </tr>\n    <tr>\n      <th>4</th>\n      <td>1994</td>\n      <td>Detroit</td>\n      <td>Michigan</td>\n      <td>45.8</td>\n      <td>31.9</td>\n      <td>31.0</td>\n      <td>117</td>\n      <td>50.4</td>\n    </tr>\n    <tr>\n      <th>...</th>\n      <td>...</td>\n      <td>...</td>\n      <td>...</td>\n      <td>...</td>\n      <td>...</td>\n      <td>...</td>\n      <td>...</td>\n      <td>...</td>\n    </tr>\n    <tr>\n      <th>85</th>\n      <td>2015</td>\n      <td>San Francisco</td>\n      <td>California</td>\n      <td>0.0</td>\n      <td>0.0</td>\n      <td>23.3</td>\n      <td>68</td>\n      <td>58.4</td>\n    </tr>\n    <tr>\n      <th>86</th>\n      <td>2016</td>\n      <td>San Francisco</td>\n      <td>California</td>\n      <td>0.0</td>\n      <td>0.0</td>\n      <td>32.3</td>\n      <td>85</td>\n      <td>57.8</td>\n    </tr>\n    <tr>\n      <th>87</th>\n      <td>2017</td>\n      <td>San Francisco</td>\n      <td>California</td>\n      <td>0.0</td>\n      <td>0.0</td>\n      <td>17.5</td>\n      <td>51</td>\n      <td>59.1</td>\n    </tr>\n    <tr>\n      <th>88</th>\n      <td>2018</td>\n      <td>San Francisco</td>\n      <td>California</td>\n      <td>0.0</td>\n      <td>0.0</td>\n      <td>25.7</td>\n      <td>74</td>\n      <td>57.4</td>\n    </tr>\n    <tr>\n      <th>89</th>\n      <td>2019</td>\n      <td>San Francisco</td>\n      <td>California</td>\n      <td>0.0</td>\n      <td>0.0</td>\n      <td>11.7</td>\n      <td>43</td>\n      <td>59.7</td>\n    </tr>\n  </tbody>\n</table>\n<p>90 rows × 8 columns</p>\n</div>"
          },
          "metadata": {}
        }
      ],
      "execution_count": null
    },
    {
      "cell_type": "code",
      "source": "# Because of this, we need to subset only the rows where the region equals to 'Detroit'.\n# So we create a new dataframe called detroit_weather to save the 30-year records only for Detroit.\ndetroit_weather = weather[weather['region'] == 'Detroit']",
      "metadata": {
        "tags": [],
        "cell_id": "00005-09f6ea49-1e1b-4805-bd2a-8ab1699b88cc",
        "deepnote_to_be_reexecuted": false,
        "source_hash": "91c687e1",
        "execution_millis": 3,
        "execution_start": 1618927825251,
        "deepnote_cell_type": "code"
      },
      "outputs": [],
      "execution_count": null
    },
    {
      "cell_type": "code",
      "source": "# Now let's visualize the distribution of the 30-year records of yearly average temperature in Detroit,\n# and again the kernel density plot using the sns.kdeplot() function can help you with that.\nsns.kdeplot(detroit_weather['year_avg_temp'])\n\n# Here you can see the distribution looks quite symmetric, with a mean locates at somewhere slightly more than 50,\n# and the variability is low, I guess it's around 2 or 3. So by eyeballing it, we're confident to again use \n# the normal distribution as the likelihood function to represent the parameter yearly average temperature. \n# In this case, I would recommend just using the mean and standard deviation from the data itself to make the normal likelihood.",
      "metadata": {
        "tags": [],
        "cell_id": "00006-b8333ec4-a2f1-4d0d-8414-2507771cbb79",
        "deepnote_to_be_reexecuted": false,
        "source_hash": "bd99ebd5",
        "execution_millis": 213,
        "execution_start": 1618927827033,
        "deepnote_cell_type": "code"
      },
      "outputs": [
        {
          "output_type": "execute_result",
          "execution_count": 11,
          "data": {
            "text/plain": "<AxesSubplot:xlabel='year_avg_temp', ylabel='Density'>"
          },
          "metadata": {}
        },
        {
          "data": {
            "text/plain": "<Figure size 432x288 with 1 Axes>",
            "image/png": "[encoded data removed]"
          },
          "metadata": {
            "needs_background": "light"
          },
          "output_type": "display_data"
        }
      ],
      "execution_count": null
    },
    {
      "cell_type": "code",
      "metadata": {
        "tags": [],
        "cell_id": "00003-f4c1b5d2-03e4-4fa0-bb44-f044f385605f",
        "deepnote_to_be_reexecuted": false,
        "source_hash": "cd93d1c5",
        "execution_millis": 14,
        "execution_start": 1618938739499,
        "deepnote_cell_type": "code"
      },
      "source": "# What does this information help you to update the event!?\n# So we need our likelihood.\n\n# Here's how we construct a normal likelihood. It requires no more than three things from our data:\n# 1) The length of data\nn = len(detroit_weather['year_avg_temp'])\n# 2) The mean of the column\nmean = np.mean(detroit_weather['year_avg_temp'])\n# 3) The variance of the column\nvar = np.var(detroit_weather['year_avg_temp'])",
      "outputs": [
        {
          "output_type": "execute_result",
          "execution_count": 29,
          "data": {
            "text/plain": "0.07279930113937935"
          },
          "metadata": {}
        }
      ],
      "execution_count": null
    },
    {
      "cell_type": "code",
      "source": "# Now let's update our prior belief (remember we made a guess that the distribution is normal with mean 50 and\n# standard deviation 5). It's mathetically convenient to update the normal distribution because the posterior \n# distribution would still be a normal distribution, just you'll see the mean and standard deviation become different.\n\n# The posterior mean is defined by dividing the numerator and denominator, where\n# 1) the numerator is computed by prior mean divided by the prior variance plus the sum of the 30-year record of\n# Detroit's yearly average temperature over the variance of the data.\nnum = prior_mean / prior_var + sum(detroit_weather['year_avg_temp']) / var\n\n# 2) the denominator is computed by 1 divided by prior variance plus the length of data divided by the variance of the data\ndenom = 1 / prior_var + n / var\n\n# Cool! We're only one step towards finding the posterior. \n# We can divide the numerator by the denominator to get the posterior mean \nposterior_mean = num / denom\n# and take the reciprocal of the denominator to get the posterior variance.\nposterior_var = 1 / denom",
      "metadata": {
        "tags": [],
        "cell_id": "00009-f9166245-6046-4087-8148-eaa43c6d9496",
        "deepnote_to_be_reexecuted": false,
        "source_hash": "212d756a",
        "execution_millis": 7,
        "execution_start": 1618943022031,
        "deepnote_cell_type": "code"
      },
      "outputs": [],
      "execution_count": null
    },
    {
      "cell_type": "code",
      "source": "# Cool! Let's visualize how the posterior distribution would look like! \nsns.kdeplot(stats.norm.rvs(posterior_mean, np.sqrt(posterior_var), 100))\n# The posterior distribution of Detroit's yearly average temperature still looks highly symmetric, which\n# is essentially the property of normal distribution. The posterior mode (where the highest point in probability \n# density occurred) still locates at somewhere slightly more than 50. What should be a noticeable difference\n# between the prior and the posterior is that the spread of the distribution reduces significantly after \n# observing the data. When we specify the prior distribution, we see the values stretch from 35 to 65, but when the \n# data comes in, the distribution becomes much more precise: the values only span from 49.5 to 51.5, which is amazing.\n# In other words, the posterior distribution demonstrates a much more precise prediction of the parameter than the prior\n# because of the new evidence. That's pretty much the most important feature of the posterior distribution.",
      "metadata": {
        "tags": [],
        "cell_id": "00010-4505e7f7-9b98-4884-8aaf-d97731fc0f3c",
        "deepnote_to_be_reexecuted": false,
        "source_hash": "f61f8bfa",
        "execution_millis": 207,
        "execution_start": 1618943108196,
        "deepnote_cell_type": "code"
      },
      "outputs": [
        {
          "output_type": "execute_result",
          "execution_count": 35,
          "data": {
            "text/plain": "<AxesSubplot:ylabel='Density'>"
          },
          "metadata": {}
        },
        {
          "data": {
            "text/plain": "<Figure size 432x288 with 1 Axes>",
            "image/png": "[encoded data removed]"
          },
          "metadata": {
            "needs_background": "light"
          },
          "output_type": "display_data"
        }
      ],
      "execution_count": null
    },
    {
      "cell_type": "code",
      "source": "# Potentially comparing with ",
      "metadata": {
        "tags": [],
        "cell_id": "00011-cb1b8671-9a93-4b68-a4c5-78a5c010c790",
        "deepnote_cell_type": "code"
      },
      "outputs": [],
      "execution_count": null
    },
    {
      "cell_type": "markdown",
      "source": "So in this lecture, we've seen how we \n\nReference: https://stephens999.github.io/fiveMinuteStats/shiny_normal_example.htmlhttps://stephens999.github.io/fiveMinuteStats/shiny_normal_example.html",
      "metadata": {
        "tags": [],
        "cell_id": "00010-dc60f306-5dba-4382-aa20-06372f20eb14",
        "deepnote_cell_type": "markdown"
      }
    },
    {
      "cell_type": "code",
      "source": "# Appendix: A class that updates normal likelihood\n\nclass Normal:\n\n    def __init__(self, known_var, prior_mean=0, prior_var=1):\n\n        self.mean = prior_mean\n        self.var = prior_var\n        self.known_var = known_var\n\n    def update(self, data):\n\n        var = np.var(data)\n        mean = np.mean(data)\n        n = len(data)\n        num = (self.mean / self.var + sum(data) / self.known_var)\n        denom = (1.0 / self.var + n / self.known_var)\n        # Posterior distribution after observing data\n        return Normal(self.known_var, num / denom, 1.0 / denom)\n\n    def pdf(self, x):\n        return stats.norm.pdf(x, self.mean, np.sqrt(self.var))\n\n    def cdf(self, x):\n        return stats.norm.cdf(x, self.mean, np.sqrt(self.var))\n\n    def posterior(self, lower, upper):\n        if lower > upper:\n            return 0.0\n        return self.cdf(upper) - self.cdf(lower)\n    \n    def plot(self, lower=0.0, upper=1.0):\n        x = np.linspace(lower, upper, 1001)\n        y = stats.norm.pdf(x, self.mean, np.sqrt(self.var))\n        ynorm = y / y.sum()\n        sns.scatterplot(x, ynorm).set(title = 'Posterior normal distribution')\n    \n    def predict(self, x):\n        return stats.norm.cdf(x, self.mean, np.sqrt(self.var + self.known_var))\n\n    def sample(self):\n        return np.random.normal(self.mean, np.sqrt(self.var + self.known_var))",
      "metadata": {
        "tags": [],
        "cell_id": "00009-dcc5930b-f4af-4707-872e-6a7e5d7dce3a",
        "deepnote_to_be_reexecuted": false,
        "source_hash": "aba8dbe4",
        "execution_millis": 33,
        "execution_start": 1618937954925,
        "deepnote_cell_type": "code"
      },
      "outputs": [],
      "execution_count": null
    },
    {
      "cell_type": "markdown",
      "source": "(Appendix B: Optional Examples)\n\n\nFirst of all, what would be the probability of observing this data if it was generated using the model I defined? How likely would we see different possible outcomes happen according to our model? The likelihood allows us to interpret our observations and is used to update our prior belief on a matter.\n\nImagine we’re interested in how effective COVID-19 vaccination could prevent infection. We came across a statement about Pfizer vaccination: 95% efficacy in preventing COVID-19 in those without prior infection. Then I can sample a set of random COVID-19 vaccine takers from different parts of the world and ask “what is the probability that the vaccine effectively prevents future infection we observe from the set of samples, given my model of Pfizer vaccination?” Suppose there isn’t any reported case among those vaccinated people, the likelihood of this model should be even higher than the prior distribution. So if we combine the prior distribution and the likelihood in the Bayesian modeling process, we are expected to see a probability lies closer to 1 in the posterior distribution. If the amount of data increases, the prior distribution will gradually be dominated by the likelihood. In other words, investigators with disparate prior distributions will converge to the same experimental result, that is, reaching the consensus.",
      "metadata": {
        "tags": [],
        "cell_id": "00010-926d0d46-f549-4a57-a5ab-abbe8824385b",
        "deepnote_cell_type": "markdown"
      }
    },
    {
      "cell_type": "markdown",
      "source": "<a style='text-decoration:none;line-height:16px;display:flex;color:#5B5B62;padding:10px;justify-content:end;' href='https://deepnote.com?utm_source=created-in-deepnote-cell&projectId=d164461f-c4b7-4df2-b711-3a9e5e978d4a' target=\"_blank\">\n<img alt='Created in deepnote.com' style='display:inline;max-height:16px;margin:0px;margin-right:7.5px;' src='data:image/svg+xml;base64,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' > </img>\nCreated in <span style='font-weight:600;margin-left:4px;'>Deepnote</span></a>",
      "metadata": {
        "tags": [],
        "created_in_deepnote_cell": true,
        "deepnote_cell_type": "markdown"
      }
    }
  ],
  "nbformat": 4,
  "nbformat_minor": 2,
  "metadata": {
    "orig_nbformat": 2,
    "deepnote_notebook_id": "abd41bcf-c9a3-43c7-a79a-5a10c4a4c541",
    "deepnote": {},
    "deepnote_execution_queue": []
  }
}